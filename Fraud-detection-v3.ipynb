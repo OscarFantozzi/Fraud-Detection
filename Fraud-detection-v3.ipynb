{
 "cells": [
  {
   "cell_type": "markdown",
   "id": "4792ca47-7ab9-4098-a1dd-4e3d18a5a8a2",
   "metadata": {},
   "source": [
    "# Imports"
   ]
  },
  {
   "cell_type": "code",
   "execution_count": 1,
   "id": "264e10da-69e1-4628-a354-b3655395ca23",
   "metadata": {},
   "outputs": [],
   "source": [
    "# basics \n",
    "from watermark import watermark\n",
    "from datetime import datetime\n",
    "import pandas  as pd\n",
    "pd.options.display.float_format = '{:,.2f}'.format\n",
    "import joblib\n",
    "import numpy  as np\n",
    "import optuna\n",
    "\n",
    "# plot\n",
    "import matplotlib.pyplot as plt\n",
    "import plotly.express    as px\n",
    "import seaborn           as sns\n",
    "\n",
    "# feature selection\n",
    "from sklearn.feature_selection import SelectKBest, f_classif\n",
    "\n",
    "# encoders\n",
    "from category_encoders       import OneHotEncoder,TargetEncoder,BinaryEncoder\n",
    "\n",
    "\n",
    "# models\n",
    "from sklearn.ensemble import RandomForestClassifier\n",
    "import xgboost as xgb\n",
    "import lightgbm as lgb\n",
    "\n",
    "# metrics\n",
    "from sklearn.metrics import accuracy_score, precision_score, recall_score,f1_score,roc_auc_score,confusion_matrix\n",
    "from sklearn.model_selection import cross_val_predict, StratifiedKFold\n"
   ]
  },
  {
   "cell_type": "code",
   "execution_count": 2,
   "id": "ca2fa8f7-dfb6-4421-92fd-b76be5ebb6fe",
   "metadata": {},
   "outputs": [
    {
     "name": "stdout",
     "output_type": "stream",
     "text": [
      "pandas           : 2.1.4\n",
      "seaborn          : 0.13.2\n",
      "joblib           : 1.4.2\n",
      "numpy            : 1.26.4\n",
      "optuna           : 4.2.1\n",
      "matplotlib       : 3.10.0\n",
      "sklearn          : 1.5.2\n",
      "category_encoders: 2.6.3\n",
      "xgboost          : 1.7.6\n",
      "lightgbm         : 4.6.0\n",
      "\n"
     ]
    }
   ],
   "source": [
    "print( watermark( packages = 'pandas,seaborn,joblib,numpy,optuna,matplotlib,sklearn,category_encoders,xgboost,lightgbm' ) )"
   ]
  },
  {
   "cell_type": "markdown",
   "id": "127977c7-7da1-4b09-a2aa-c3c0e12639d8",
   "metadata": {},
   "source": [
    "### 0.0 - Functions"
   ]
  },
  {
   "cell_type": "code",
   "execution_count": 3,
   "id": "91c348a8-f83d-47d0-a404-49f9d4b049d4",
   "metadata": {},
   "outputs": [],
   "source": [
    "# convert lat long into km's\n",
    "from geopy.distance import geodesic\n",
    "\n",
    "def encoding_training_data( df, y):\n",
    "\n",
    "    dict_encoders = {}\n",
    "    \n",
    "    df_cat = df.select_dtypes(include=['object']).columns\n",
    "    \n",
    "    unique_count = df[df_cat].nunique() \n",
    "    \n",
    "    df_aux = pd.DataFrame(unique_count).reset_index().rename(columns = {'index': 'category', 0: 'count'})\n",
    "\n",
    "    for line in df_aux.iterrows():\n",
    "\n",
    "        # applying one hot encoding\n",
    "        if line[1]['count'] >=1 and line[1]['count'] <=2:\n",
    "\n",
    "            ohe = OneHotEncoder(handle_unknown='value')\n",
    "\n",
    "            ohe_trained = ohe.fit( df[ [ line[1]['category'] ] ])\n",
    "\n",
    "            joblib.dump(ohe_trained, f'encoders/ohe_trained{line[1]['category']}.pkl')\n",
    "\n",
    "            df_ohe = ohe_trained.transform( df[ [ line[1]['category'] ] ] ) \n",
    "\n",
    "            df = pd.concat( [df, df_ohe] , axis = 1 ).drop( line[1]['category'], axis = 1 )\n",
    "            \n",
    "            print(f'One Hot Encoding columns applied to: {line[1]['category']} column that has {line[1]['count']} values.')\n",
    "\n",
    "            dict_encoders[line[1]['category']] = 'OneHotEncoder'\n",
    "\n",
    "        # applying target encoding\n",
    "        if line[1]['count'] >3 and line[1]['count'] <=60:\n",
    "\n",
    "            te = TargetEncoder(handle_unknown='value')\n",
    "\n",
    "            te_trained = te.fit( df[ [ line[1]['category'] ] ] , y = y )\n",
    "\n",
    "            joblib.dump(te_trained, f'encoders/te_trained{line[1]['category']}.pkl')\n",
    "\n",
    "            df[ line[1]['category'] ] = te_trained.transform( df[ [ line[1]['category'] ] ] ) \n",
    "\n",
    "            print( f'Target Enconding applied to: {line[1]['category']} column that has {line[1]['count']} values.' )\n",
    "\n",
    "            dict_encoders[line[1]['category']] = 'TargetEncoder'\n",
    "\n",
    "        # applying frequency encoding\n",
    "        if line[1]['count'] >=60:\n",
    "\n",
    "            category_counts = df[ line[1]['category'] ].value_counts()\n",
    "\n",
    "            df[ line[1]['category'] ] =  df[ line[1]['category'] ].map( category_counts )\n",
    "\n",
    "            joblib.dump(category_counts, f'encoders/category_counts{line[1]['category']}.pkl')\n",
    "\n",
    "            print(f'Frequency Encoding applied to: {line[1]['category']} column that has {line[1]['count']} values.')\n",
    "\n",
    "            dict_encoders[line[1]['category']] = 'category_counts'\n",
    "\n",
    "    df = df.drop( df.select_dtypes(['object']).columns, axis = 1 )\n",
    "    print('Colunas categoricas excluidas')\n",
    "\n",
    "    df = df.fillna(0)\n",
    "            \n",
    "    return df.select_dtypes(exclude = ['datetime']), dict_encoders\n",
    "\n",
    "\n",
    "    \n",
    "def encoding_test_data(df, enconding_map ):\n",
    "\n",
    "    test_cat_columns = df.select_dtypes( include = 'object' ).columns\n",
    "\n",
    "    for chave,valor in enconding_map.items():\n",
    "        \n",
    "        if valor == 'category_counts':\n",
    "\n",
    "            print(f'encodar como {valor} a coluna {chave}')\n",
    "    \n",
    "            fe_trained = joblib.load( f'encoders/category_counts{chave}.pkl' )\n",
    "            \n",
    "            df[chave] = df[chave].map( fe_trained )\n",
    "\n",
    "        if valor == 'TargetEncoder':\n",
    "\n",
    "            print(f'encodar como {valor} a coluna {chave}')\n",
    "    \n",
    "            te_trained = joblib.load( f'encoders/te_trained{chave}.pkl' )\n",
    "    \n",
    "            df[chave] = te_trained.transform( df[chave] )\n",
    "\n",
    "        if valor == 'OneHotEncoder':\n",
    "\n",
    "            print(f'encodar como {valor} a coluna {chave}')\n",
    "    \n",
    "            ohe = joblib.load( f'encoders/ohe_trained{chave}.pkl' )\n",
    "    \n",
    "            df_ohe = ohe.transform( df[chave] )\n",
    "\n",
    "            df = pd.concat( [df, df_ohe], axis = 1 )\n",
    "\n",
    "    df = df.drop( df.select_dtypes(['object','datetime']).columns, axis = 1 )\n",
    "    print('Colunas categoricas excluidas')\n",
    "           \n",
    "    df = df.fillna(0)\n",
    "\n",
    "    return df\n",
    "\n",
    "        \n",
    "def eveluate_model(model_name, y_test, y_pred, y_pred_proba):\n",
    "\n",
    "    df_result = pd.DataFrame()\n",
    "\n",
    "    accuracy = accuracy_score(y_test, y_pred)\n",
    "\n",
    "    precision = precision_score( y_test , y_pred )\n",
    "\n",
    "    recall = recall_score( y_test , y_pred )\n",
    "\n",
    "    f1 = f1_score( y_test , y_pred,average='binary' )\n",
    "\n",
    "    if y_pred_proba.ndim == 2:\n",
    "        roc = roc_auc_score(y_test, y_pred_proba[:, 1])  # Usando a probabilidade da classe positiva\n",
    "    else:\n",
    "        roc = roc_auc_score(y_test, y_pred_proba)\n",
    "\n",
    "\n",
    "    dict_results = {'Model Name': model_name,\n",
    "     'Accuracy_score': accuracy,\n",
    "     'Precision_score': precision,\n",
    "     'Recall': recall,\n",
    "     'F1_score': f1,\n",
    "     'ROC_AUC' : roc\n",
    "    }\n",
    "\n",
    "    return pd.DataFrame( dict_results, index = [0] )\n",
    "    \n",
    "        \n",
    "def evaluate_model_cv(model, X, y, cv=5):\n",
    "\n",
    "\n",
    "    tscv = TimeSeriesSplit(n_splits=cv)\n",
    "\n",
    "    \n",
    "    accuracy_scores = []\n",
    "    precision_scores = []\n",
    "    recall_scores = []\n",
    "    f1_scores = []\n",
    "    roc_auc_scores = []\n",
    "    \n",
    "\n",
    "    for train_index, val_index in tscv.split(X, y):\n",
    "        X_train, X_val = X.iloc[train_index], X.iloc[val_index]\n",
    "        y_train, y_val = y.iloc[train_index], y.iloc[val_index]\n",
    "    \n",
    "    \n",
    "        model.fit(X_train, y_train)\n",
    "    \n",
    "    \n",
    "        y_pred = model.predict(X_val)\n",
    "        y_pred_proba = model.predict_proba(X_val)[:, 1]\n",
    "\n",
    "    \n",
    "        accuracy_scores.append(accuracy_score(y_val, y_pred))\n",
    "        precision_scores.append(precision_score(y_val, y_pred))\n",
    "        recall_scores.append(recall_score(y_val, y_pred))\n",
    "        f1_scores.append(f1_score(y_val, y_pred,average='binary' ))\n",
    "        if y_pred_proba.ndim == 2:\n",
    "            roc = roc_auc_score(y_val, y_pred_proba[:, 1])  # Usando a probabilidade da classe positiva\n",
    "        else:\n",
    "            roc = roc_auc_score(y_val, y_pred_proba)\n",
    "    \n",
    "    \n",
    "    results = {\n",
    "        'Model Name': str(model),\n",
    "        'Accuracy_score': np.mean(accuracy_scores),\n",
    "        'Precision_score': np.mean(precision_scores),\n",
    "        'Recall': np.mean(recall_scores),\n",
    "        'F1_score': np.mean(f1_scores),\n",
    "        'ROC_AUC': np.mean(roc_auc_scores)\n",
    "    }\n",
    "    \n",
    "    \n",
    "    return pd.DataFrame(results, index=[0])\n"
   ]
  },
  {
   "cell_type": "markdown",
   "id": "4afdbe84-e505-40ff-abb2-348d680a25a4",
   "metadata": {},
   "source": [
    "## 1 - Load Data"
   ]
  },
  {
   "cell_type": "code",
   "execution_count": 4,
   "id": "7fa813f4-9aec-40d8-8f82-e867a1fb3dcb",
   "metadata": {},
   "outputs": [],
   "source": [
    "df = pd.read_csv( r'data/fraudTrain.csv' )\n",
    "df_test = pd.read_csv(r'data/fraudTest.csv')\n",
    "df.head().to_csv('sample.data.csv') "
   ]
  },
  {
   "cell_type": "markdown",
   "id": "4983bf13-e250-435a-8b16-af9a25d1710c",
   "metadata": {},
   "source": [
    "## 2 - Check Data"
   ]
  },
  {
   "cell_type": "code",
   "execution_count": 5,
   "id": "82180f1b-8f0d-4d7f-84b0-2c34476be5f0",
   "metadata": {},
   "outputs": [],
   "source": [
    "df2 = df.copy()"
   ]
  },
  {
   "cell_type": "markdown",
   "id": "ed542d35-4bd4-4ccf-997a-87f16dae0d17",
   "metadata": {},
   "source": [
    "### 2.1 - Check Shape"
   ]
  },
  {
   "cell_type": "code",
   "execution_count": 6,
   "id": "6de8bf1d-cd65-4d35-93e7-266aadd72abc",
   "metadata": {},
   "outputs": [
    {
     "name": "stdout",
     "output_type": "stream",
     "text": [
      "Dataset has 1,296,675.00 rows and 23 columns\n"
     ]
    }
   ],
   "source": [
    "print(f'Dataset has {df2.shape[0]:,.2f} rows and {df2.shape[1]:,} columns')"
   ]
  },
  {
   "cell_type": "markdown",
   "id": "93e33c33-f78d-471b-b19b-58fe3abf1b7f",
   "metadata": {},
   "source": [
    "## 3.0 - Split Data Into Train and Test"
   ]
  },
  {
   "cell_type": "code",
   "execution_count": 7,
   "id": "b57d4d6c-3347-4973-91d5-b4b82d1cf2ac",
   "metadata": {},
   "outputs": [],
   "source": [
    "df3 = df2.copy()\n",
    "\n",
    "# converto to datetime format\n",
    "df3['trans_date_trans_time'] = pd.to_datetime(df3['trans_date_trans_time'])\n",
    "df_test['trans_date_trans_time'] = pd.to_datetime(df_test['trans_date_trans_time'])\n",
    "\n",
    "# order df by customer account and datetime in ascending order \n",
    "df3 = df3.sort_values( by = ['cc_num','trans_date_trans_time'], ascending = True )\n",
    "df_test = df_test.sort_values(by = ['cc_num','trans_date_trans_time'],ascending = True)"
   ]
  },
  {
   "cell_type": "code",
   "execution_count": 8,
   "id": "cc972cf1-3976-44a4-af59-edbae0ddcfe2",
   "metadata": {},
   "outputs": [],
   "source": [
    "# min date val\n",
    "min_date = pd.to_datetime(df_test['trans_date_trans_time']).min() + pd.Timedelta(days=1)\n",
    "\n",
    "# max date val\n",
    "max_date_df_test = pd.to_datetime(df_test['trans_date_trans_time']).max()\n",
    "\n",
    "# max date train val\n",
    "max_date_val = max_date_df_test - pd.DateOffset(months=3)\n",
    "\n"
   ]
  },
  {
   "cell_type": "code",
   "execution_count": 9,
   "id": "9c5293c2-0c10-4f89-8073-335edc2d7581",
   "metadata": {},
   "outputs": [
    {
     "name": "stdout",
     "output_type": "stream",
     "text": [
      "Train dataset:\n",
      " min date:2019-01-01 00:00:18 | max date :2020-06-21 12:13:37\n",
      "Positive class: 7,506.00 negative class: 1,289,169.00 \n",
      "====================================================================================================\n",
      "Val dataset:\n",
      " min date:2020-06-22 12:14:42 | max date :2020-09-30 23:59:23\n",
      "Val positive class: 1,191.00 negative class: 269,359.00 \n"
     ]
    }
   ],
   "source": [
    "# split data into X_train\n",
    "X_train = df3.drop('is_fraud', axis = 1)\n",
    "\n",
    "# y_train\n",
    "y_train = df3['is_fraud']\n",
    "\n",
    "# X_val\n",
    "X_val = df_test.loc[ ( df_test['trans_date_trans_time'] >= min_date ) & (df_test['trans_date_trans_time'] <= max_date_val), : ]\n",
    "\n",
    "# y val\n",
    "y_val = X_val['is_fraud']\n",
    "\n",
    "# drop y\n",
    "X_val = X_val.drop('is_fraud', axis = 1)\n",
    "\n",
    "print(f'Train dataset:\\n min date:{X_train['trans_date_trans_time'].min()} | max date :{X_train['trans_date_trans_time'].max()}')\n",
    "print(f'Positive class: {y_train.value_counts()[1]:,.2f} negative class: {y_train.value_counts()[0]:,.2f} ')\n",
    "print('='*100)\n",
    "print(f'Val dataset:\\n min date:{X_val['trans_date_trans_time'].min()} | max date :{X_val['trans_date_trans_time'].max()}')\n",
    "print(f'Val positive class: {y_val.value_counts()[1]:,.2f} negative class: {y_val.value_counts()[0]:,.2f} ')"
   ]
  },
  {
   "cell_type": "markdown",
   "id": "180d1e29-61c8-4951-a9e4-ebd0b138c0d5",
   "metadata": {},
   "source": [
    "## 4 - Feature Engineering"
   ]
  },
  {
   "cell_type": "code",
   "execution_count": 10,
   "id": "ae3ade2c-1354-4258-af84-f515e27e177e",
   "metadata": {},
   "outputs": [],
   "source": [
    "def feature_engineering(df):\n",
    "    # converting into datetime format\n",
    "    df['trans_date_trans_time'] = pd.to_datetime(df['trans_date_trans_time'])\n",
    "    df['dob'] = pd.to_datetime(df['dob'])\n",
    "    \n",
    "    # extracting date information\n",
    "    df['trans_date_trans_time_year'] = df['trans_date_trans_time'].dt.year\n",
    "    df['trans_date_trans_time_month'] = df['trans_date_trans_time'].dt.month\n",
    "    df['trans_date_trans_time_day'] = df['trans_date_trans_time'].dt.day\n",
    "    \n",
    "    # extracting dob\n",
    "    df['dob_year'] = df['dob'].dt.year\n",
    "    df['dob_month'] = df['dob'].dt.month\n",
    "    df['dob_day'] = df['dob'].dt.day\n",
    "    \n",
    "    # time diff between consecutive transactions\n",
    "    df['time_diff_seconds'] = (df['trans_date_trans_time'] - df['trans_date_trans_time'].shift()).dt.total_seconds()\n",
    "    \n",
    "    # total spent by cc\n",
    "    df['total_spent_by_cc'] = df.groupby('cc_num')['amt'].transform('sum')\n",
    "    \n",
    "    # transactions last hour\n",
    "    df['trans_last_hour'] = df.groupby('cc_num')['trans_date_trans_time'].transform(lambda x: (x - x.max()).dt.total_seconds() < 3600).sum()\n",
    "    \n",
    "    # avg_transaction_amount\n",
    "    df['avg_transaction_amount'] = df.groupby('cc_num')['amt'].transform('mean')\n",
    "    \n",
    "    # distance between customer and purchase\n",
    "    df['location_distance'] = df.apply(lambda row: geodesic((row['lat'], row['long']), (row['merch_lat'], row['merch_long'])).km, axis=1)\n",
    "    \n",
    "    # transactions_per_location\n",
    "    df['transactions_per_location'] = df.groupby(['merch_lat', 'merch_long'])['trans_num'].transform('count')\n",
    "    \n",
    "    # customer age\n",
    "    df['age'] = (pd.to_datetime('today') - df['dob']).dt.days // 365\n",
    "    \n",
    "    # ration between amt and avg transaction amount\n",
    "    df['amt_to_avg'] = df['amt'] / df['avg_transaction_amount']\n",
    "    \n",
    "    # unique_locations\n",
    "    df['unique_locations'] = df.groupby('cc_num')['merch_lat'].transform('nunique')\n",
    "    \n",
    "    # most_frequent_category\n",
    "    df['most_frequent_category'] = df.groupby('cc_num')['category'].transform(lambda x: x.mode()[0])\n",
    "    \n",
    "    # transactions_per_day\n",
    "    df['transactions_per_day'] = df.groupby(df['trans_date_trans_time'].dt.date)['trans_num'].transform('count')\n",
    "    \n",
    "    # category_diversity\n",
    "    df['category_diversity'] = df.groupby('cc_num')['category'].transform('nunique')\n",
    "    \n",
    "    # category_spending_deviation\n",
    "    df['category_spending_deviation'] = df.groupby('category')['amt'].transform(lambda x: (x - x.mean()).abs())\n",
    "    \n",
    "    # night_transactions\n",
    "    df['night_transactions'] = df['trans_date_trans_time'].dt.hour.between(0, 6).astype(int)\n",
    "    \n",
    "    # Lag Features\n",
    "    df['lag_transaction'] = df.groupby('cc_num')['amt'].shift(1)\n",
    "    df['lag_diff_transaction'] = df['amt'] - df['lag_transaction']\n",
    "    \n",
    "    # rolling Features \n",
    "    df['rolling_avg_3'] = df.groupby('cc_num')['amt'].transform(lambda x: x.rolling(3, min_periods=1).mean())\n",
    "    df['rolling_max_3'] = df.groupby('cc_num')['amt'].transform(lambda x: x.rolling(3, min_periods=1).max())\n",
    "    df['rolling_min_3'] = df.groupby('cc_num')['amt'].transform(lambda x: x.rolling(3, min_periods=1).min())\n",
    "    \n",
    "    # special dates\n",
    "    important_dates = {'christmas': datetime(2019, 12, 25), 'new_years_eve': datetime(2019, 12, 31)}\n",
    "    for name, date in important_dates.items():\n",
    "        df[name] = (df['trans_date_trans_time'].dt.month == date.month) & (df['trans_date_trans_time'].dt.day == date.day)\n",
    "    \n",
    "    df['amt_to_avg'] = df['amt'] / df.groupby('cc_num')['amt'].transform('mean')\n",
    "\n",
    "    df['amt_to_avg_category'] = df['amt_to_avg'].apply(lambda x: \n",
    "    'Normal' if x <= 1.5 else \n",
    "    'Moderado' if x <= 3 else \n",
    "    'Suspeito'\n",
    ").astype(str)\n",
    "\n",
    "    df['suspect_transaction'] = (df['amt_to_avg'] > 4).astype(int)\n",
    "\n",
    "    # removing useless columns\n",
    "    df = df.drop(['Unnamed: 0', 'trans_num'], axis=1)\n",
    "\n",
    "    \n",
    "    return df"
   ]
  },
  {
   "cell_type": "code",
   "execution_count": 11,
   "id": "ce62e2ba-7372-4306-acd6-354c1d019a61",
   "metadata": {},
   "outputs": [],
   "source": [
    "X_train = feature_engineering(X_train)\n",
    "\n",
    "X_val = feature_engineering(X_val)"
   ]
  },
  {
   "cell_type": "markdown",
   "id": "ef42496f-eedf-4979-9ba7-4ca7e86ee976",
   "metadata": {},
   "source": [
    "## 5 - Encoding"
   ]
  },
  {
   "cell_type": "code",
   "execution_count": 12,
   "id": "9e994267-6bce-4ced-8f9d-f7f25954b5e1",
   "metadata": {},
   "outputs": [
    {
     "name": "stdout",
     "output_type": "stream",
     "text": [
      "Frequency Encoding applied to: merchant column that has 693 values.\n",
      "Target Enconding applied to: category column that has 14 values.\n",
      "Frequency Encoding applied to: first column that has 352 values.\n",
      "Frequency Encoding applied to: last column that has 481 values.\n",
      "One Hot Encoding columns applied to: gender column that has 2 values.\n",
      "Frequency Encoding applied to: street column that has 983 values.\n",
      "Frequency Encoding applied to: city column that has 894 values.\n",
      "Target Enconding applied to: state column that has 51 values.\n",
      "Frequency Encoding applied to: job column that has 494 values.\n",
      "Target Enconding applied to: most_frequent_category column that has 10 values.\n",
      "Colunas categoricas excluidas\n"
     ]
    }
   ],
   "source": [
    "X_train, enconding_map = encoding_training_data(X_train,y_train)"
   ]
  },
  {
   "cell_type": "code",
   "execution_count": 13,
   "id": "9c73f0d2-434a-42a6-a446-73ae83a86667",
   "metadata": {},
   "outputs": [
    {
     "name": "stdout",
     "output_type": "stream",
     "text": [
      "encodar como category_counts a coluna merchant\n",
      "encodar como TargetEncoder a coluna category\n",
      "encodar como category_counts a coluna first\n",
      "encodar como category_counts a coluna last\n",
      "encodar como OneHotEncoder a coluna gender\n",
      "encodar como category_counts a coluna street\n",
      "encodar como category_counts a coluna city\n",
      "encodar como TargetEncoder a coluna state\n",
      "encodar como category_counts a coluna job\n",
      "encodar como TargetEncoder a coluna most_frequent_category\n",
      "Colunas categoricas excluidas\n"
     ]
    }
   ],
   "source": [
    "X_val = encoding_test_data(X_val, enconding_map)"
   ]
  },
  {
   "cell_type": "markdown",
   "id": "24265b24-2297-4bb7-9db9-cc49e271698f",
   "metadata": {},
   "source": [
    "## 6 - Hyperparameter Fine Tuning"
   ]
  },
  {
   "cell_type": "code",
   "execution_count": 14,
   "id": "51860a6a-76f1-4802-82c1-d38e67419861",
   "metadata": {},
   "outputs": [
    {
     "name": "stdout",
     "output_type": "stream",
     "text": [
      "171.75179856115108\n"
     ]
    }
   ],
   "source": [
    "# calculate scale_pos_weight\n",
    "n_negative = y_train.value_counts()[0]\n",
    "n_positive = y_train.value_counts()[1]\n",
    "scale_pos_weight = n_negative / n_positive\n",
    "print(scale_pos_weight)"
   ]
  },
  {
   "cell_type": "code",
   "execution_count": 15,
   "id": "98fb6e39-2e85-4c6b-8bb7-b5256343fb37",
   "metadata": {},
   "outputs": [
    {
     "name": "stderr",
     "output_type": "stream",
     "text": [
      "[I 2025-03-15 21:55:02,424] A new study created in memory with name: no-name-fd563a11-4a48-422f-8b54-41183beac220\n",
      "[I 2025-03-15 21:55:15,154] Trial 0 finished with value: 0.30369058967724366 and parameters: {'num_leaves': 260, 'max_depth': 5, 'learning_rate': 0.11578771914046153, 'n_estimators': 107, 'subsample': 0.8247498888001188, 'colsample_bytree': 0.9007156649943542, 'min_child_samples': 47, 'lambda_l1': 0.7854650930629491, 'lambda_l2': 0.4493391820046453, 'scale_pos_weight': 44.55001438756877}. Best is trial 0 with value: 0.30369058967724366.\n",
      "[I 2025-03-15 21:56:05,183] Trial 1 finished with value: 0.8300037693177534 and parameters: {'num_leaves': 300, 'max_depth': 11, 'learning_rate': 0.04359493480932408, 'n_estimators': 241, 'subsample': 0.634761287389754, 'colsample_bytree': 0.7842334547318615, 'min_child_samples': 19, 'lambda_l1': 0.9795492895869166, 'lambda_l2': 0.81824489022059, 'scale_pos_weight': 97.60563868544494}. Best is trial 1 with value: 0.8300037693177534.\n",
      "[I 2025-03-15 21:56:46,283] Trial 2 finished with value: 0.47957894736842105 and parameters: {'num_leaves': 240, 'max_depth': 3, 'learning_rate': 0.07160502305674611, 'n_estimators': 557, 'subsample': 0.8521654199406017, 'colsample_bytree': 0.5774599167630373, 'min_child_samples': 68, 'lambda_l1': 0.32315514496610287, 'lambda_l2': 0.9565730467374024, 'scale_pos_weight': 80.60115209086896}. Best is trial 1 with value: 0.8300037693177534.\n",
      "[I 2025-03-15 21:58:21,897] Trial 3 finished with value: 0.7572506952721494 and parameters: {'num_leaves': 83, 'max_depth': 11, 'learning_rate': 0.08705197167489852, 'n_estimators': 766, 'subsample': 0.922378774827288, 'colsample_bytree': 0.5325089641787593, 'min_child_samples': 47, 'lambda_l1': 0.46826893064495356, 'lambda_l2': 0.9513934977243192, 'scale_pos_weight': 136.3005624787936}. Best is trial 1 with value: 0.8300037693177534.\n",
      "[I 2025-03-15 21:59:32,393] Trial 4 finished with value: 0.8387096774193549 and parameters: {'num_leaves': 277, 'max_depth': 7, 'learning_rate': 0.04617164186375677, 'n_estimators': 510, 'subsample': 0.9574540299994996, 'colsample_bytree': 0.8319543935286859, 'min_child_samples': 59, 'lambda_l1': 0.64420801983263, 'lambda_l2': 0.9227530586175583, 'scale_pos_weight': 20.9214076780439}. Best is trial 4 with value: 0.8387096774193549.\n",
      "[I 2025-03-15 22:01:05,591] Trial 5 finished with value: 0.5594447797223898 and parameters: {'num_leaves': 246, 'max_depth': 10, 'learning_rate': 0.1647646065185059, 'n_estimators': 546, 'subsample': 0.7741720187321959, 'colsample_bytree': 0.7891657918746728, 'min_child_samples': 75, 'lambda_l1': 0.8256493403870747, 'lambda_l2': 0.166916351325069, 'scale_pos_weight': 104.30761132090825}. Best is trial 4 with value: 0.8387096774193549.\n",
      "[I 2025-03-15 22:01:36,367] Trial 6 finished with value: 0.37891097666378565 and parameters: {'num_leaves': 59, 'max_depth': 5, 'learning_rate': 0.10656645677728721, 'n_estimators': 323, 'subsample': 0.9998221277609125, 'colsample_bytree': 0.720794287317237, 'min_child_samples': 42, 'lambda_l1': 0.49227970039621405, 'lambda_l2': 0.23952277572894087, 'scale_pos_weight': 28.541541406352046}. Best is trial 4 with value: 0.8387096774193549.\n",
      "[I 2025-03-15 22:02:59,577] Trial 7 finished with value: 0.7089627391742196 and parameters: {'num_leaves': 169, 'max_depth': 12, 'learning_rate': 0.07999860759303787, 'n_estimators': 847, 'subsample': 0.7439220570987626, 'colsample_bytree': 0.5850044273627211, 'min_child_samples': 63, 'lambda_l1': 0.9440742130242737, 'lambda_l2': 0.32111946003761405, 'scale_pos_weight': 157.1447446946356}. Best is trial 4 with value: 0.8387096774193549.\n",
      "[I 2025-03-15 22:03:34,131] Trial 8 finished with value: 0.6447520184544406 and parameters: {'num_leaves': 66, 'max_depth': 6, 'learning_rate': 0.043072844423365036, 'n_estimators': 285, 'subsample': 0.907781654072006, 'colsample_bytree': 0.8486672774594819, 'min_child_samples': 91, 'lambda_l1': 0.9299527662582158, 'lambda_l2': 0.8816889794101155, 'scale_pos_weight': 47.40369158233095}. Best is trial 4 with value: 0.8387096774193549.\n",
      "[I 2025-03-15 22:05:14,690] Trial 9 finished with value: 0.08884440680575872 and parameters: {'num_leaves': 162, 'max_depth': 9, 'learning_rate': 0.11086962852268008, 'n_estimators': 937, 'subsample': 0.9978906439386108, 'colsample_bytree': 0.5355223873862649, 'min_child_samples': 56, 'lambda_l1': 0.9207013041904328, 'lambda_l2': 0.013728585017488526, 'scale_pos_weight': 51.55401079974388}. Best is trial 4 with value: 0.8387096774193549.\n"
     ]
    },
    {
     "name": "stdout",
     "output_type": "stream",
     "text": [
      "Best hyperparameters:  {'num_leaves': 277, 'max_depth': 7, 'learning_rate': 0.04617164186375677, 'n_estimators': 510, 'subsample': 0.9574540299994996, 'colsample_bytree': 0.8319543935286859, 'min_child_samples': 59, 'lambda_l1': 0.64420801983263, 'lambda_l2': 0.9227530586175583, 'scale_pos_weight': 20.9214076780439}\n",
      "Final F1-score: 0.8387096774193549\n"
     ]
    }
   ],
   "source": [
    "# def objective(trial):\n",
    "#     param = {\n",
    "#         'objective': 'binary', \n",
    "#         'metric': 'binary_error',  \n",
    "#         'boosting_type': 'gbdt', \n",
    "#         'verbosity': -1, \n",
    "#         'num_leaves': trial.suggest_int('num_leaves', 30, 300),\n",
    "#         'max_depth': trial.suggest_int('max_depth', 3, 12),\n",
    "#         'learning_rate': trial.suggest_float('learning_rate', 0.01, 0.2),\n",
    "#         'n_estimators': trial.suggest_int('n_estimators', 100, 1000),\n",
    "#         'subsample': trial.suggest_float('subsample', 0.5, 1.0),\n",
    "#         'colsample_bytree': trial.suggest_float('colsample_bytree', 0.5, 1.0),\n",
    "#         'min_child_samples': trial.suggest_int('min_child_samples', 10, 100),\n",
    "#         'lambda_l1': trial.suggest_float('lambda_l1', 0.0, 1.0),\n",
    "#         'lambda_l2': trial.suggest_float('lambda_l2', 0.0, 1.0),\n",
    "#         'scale_pos_weight': trial.suggest_float('scale_pos_weight', 3,scale_pos_weight),\n",
    "#     }\n",
    "\n",
    "#     # training the model\n",
    "#     model = lgb.LGBMClassifier(**param)\n",
    "#     model.fit(X_train, y_train)\n",
    "\n",
    "#     # predict\n",
    "#     y_pred = model.predict(X_val)\n",
    "    \n",
    "#     # calculating f1-score\n",
    "#     f1 = f1_score(y_val, y_pred)\n",
    "    \n",
    "#     return f1\n",
    "\n",
    "# # creating optuna study\n",
    "# study = optuna.create_study(direction='maximize') \n",
    "# study.optimize(objective, n_trials=10)\n",
    "\n",
    "# # best params\n",
    "# best_params = study.best_params\n",
    "# print(\"Best hyperparameters: \", best_params)\n",
    "\n",
    "# # training final model\n",
    "# final_model = lgb.LGBMClassifier(**best_params)\n",
    "# final_model.fit(X_train, y_train)\n",
    "\n",
    "# # final pred\n",
    "# final_y_pred = final_model.predict(X_val)\n",
    "# final_f1 = f1_score(y_val, final_y_pred)\n",
    "# print(f'Final F1-score: {final_f1}')\n"
   ]
  },
  {
   "cell_type": "code",
   "execution_count": 20,
   "id": "1d4931e3-f5ad-4575-a2cc-8e3f5b5e6918",
   "metadata": {},
   "outputs": [
    {
     "data": {
      "text/plain": [
       "['model/final_model_v2.pkl']"
      ]
     },
     "execution_count": 20,
     "metadata": {},
     "output_type": "execute_result"
    }
   ],
   "source": [
    "# exporting trained model\n",
    "joblib.dump(final_model, 'model/final_model_v2.pkl')"
   ]
  },
  {
   "cell_type": "markdown",
   "id": "2f00b02a-4997-4ff7-9789-1e49e09fb025",
   "metadata": {},
   "source": [
    "## Feature Selection"
   ]
  },
  {
   "cell_type": "code",
   "execution_count": 21,
   "id": "fd697f60-5046-4502-bf48-dbc2371299ed",
   "metadata": {},
   "outputs": [],
   "source": [
    "X_train = X_train.fillna(0)"
   ]
  },
  {
   "cell_type": "code",
   "execution_count": 22,
   "id": "4413fe0d-ed07-467c-93b8-f8e02f559bab",
   "metadata": {},
   "outputs": [],
   "source": [
    "params = best_params"
   ]
  },
  {
   "cell_type": "code",
   "execution_count": 23,
   "id": "f19d5c54-9994-42a7-bb45-779421065408",
   "metadata": {},
   "outputs": [
    {
     "name": "stderr",
     "output_type": "stream",
     "text": [
      "D:\\repos\\fraud detection\\venv-fraud-detection\\Lib\\site-packages\\sklearn\\feature_selection\\_univariate_selection.py:112: UserWarning: Features [28] are constant.\n",
      "  warnings.warn(\"Features %s are constant.\" % constant_features_idx, UserWarning)\n",
      "D:\\repos\\fraud detection\\venv-fraud-detection\\Lib\\site-packages\\sklearn\\feature_selection\\_univariate_selection.py:113: RuntimeWarning: invalid value encountered in divide\n",
      "  f = msb / msw\n"
     ]
    },
    {
     "name": "stdout",
     "output_type": "stream",
     "text": [
      "k:2 F1_score: 0.3505075656004597\n"
     ]
    },
    {
     "name": "stderr",
     "output_type": "stream",
     "text": [
      "D:\\repos\\fraud detection\\venv-fraud-detection\\Lib\\site-packages\\sklearn\\feature_selection\\_univariate_selection.py:112: UserWarning: Features [28] are constant.\n",
      "  warnings.warn(\"Features %s are constant.\" % constant_features_idx, UserWarning)\n",
      "D:\\repos\\fraud detection\\venv-fraud-detection\\Lib\\site-packages\\sklearn\\feature_selection\\_univariate_selection.py:113: RuntimeWarning: invalid value encountered in divide\n",
      "  f = msb / msw\n"
     ]
    },
    {
     "name": "stdout",
     "output_type": "stream",
     "text": [
      "k:4 F1_score: 0.3582089552238806\n"
     ]
    },
    {
     "name": "stderr",
     "output_type": "stream",
     "text": [
      "D:\\repos\\fraud detection\\venv-fraud-detection\\Lib\\site-packages\\sklearn\\feature_selection\\_univariate_selection.py:112: UserWarning: Features [28] are constant.\n",
      "  warnings.warn(\"Features %s are constant.\" % constant_features_idx, UserWarning)\n",
      "D:\\repos\\fraud detection\\venv-fraud-detection\\Lib\\site-packages\\sklearn\\feature_selection\\_univariate_selection.py:113: RuntimeWarning: invalid value encountered in divide\n",
      "  f = msb / msw\n"
     ]
    },
    {
     "name": "stdout",
     "output_type": "stream",
     "text": [
      "k:6 F1_score: 0.520618556701031\n"
     ]
    },
    {
     "name": "stderr",
     "output_type": "stream",
     "text": [
      "D:\\repos\\fraud detection\\venv-fraud-detection\\Lib\\site-packages\\sklearn\\feature_selection\\_univariate_selection.py:112: UserWarning: Features [28] are constant.\n",
      "  warnings.warn(\"Features %s are constant.\" % constant_features_idx, UserWarning)\n",
      "D:\\repos\\fraud detection\\venv-fraud-detection\\Lib\\site-packages\\sklearn\\feature_selection\\_univariate_selection.py:113: RuntimeWarning: invalid value encountered in divide\n",
      "  f = msb / msw\n"
     ]
    },
    {
     "name": "stdout",
     "output_type": "stream",
     "text": [
      "k:8 F1_score: 0.513223356899712\n"
     ]
    },
    {
     "name": "stderr",
     "output_type": "stream",
     "text": [
      "D:\\repos\\fraud detection\\venv-fraud-detection\\Lib\\site-packages\\sklearn\\feature_selection\\_univariate_selection.py:112: UserWarning: Features [28] are constant.\n",
      "  warnings.warn(\"Features %s are constant.\" % constant_features_idx, UserWarning)\n",
      "D:\\repos\\fraud detection\\venv-fraud-detection\\Lib\\site-packages\\sklearn\\feature_selection\\_univariate_selection.py:113: RuntimeWarning: invalid value encountered in divide\n",
      "  f = msb / msw\n"
     ]
    },
    {
     "name": "stdout",
     "output_type": "stream",
     "text": [
      "k:10 F1_score: 0.6205191594561187\n"
     ]
    },
    {
     "name": "stderr",
     "output_type": "stream",
     "text": [
      "D:\\repos\\fraud detection\\venv-fraud-detection\\Lib\\site-packages\\sklearn\\feature_selection\\_univariate_selection.py:112: UserWarning: Features [28] are constant.\n",
      "  warnings.warn(\"Features %s are constant.\" % constant_features_idx, UserWarning)\n",
      "D:\\repos\\fraud detection\\venv-fraud-detection\\Lib\\site-packages\\sklearn\\feature_selection\\_univariate_selection.py:113: RuntimeWarning: invalid value encountered in divide\n",
      "  f = msb / msw\n"
     ]
    },
    {
     "name": "stdout",
     "output_type": "stream",
     "text": [
      "k:12 F1_score: 0.7707142857142857\n"
     ]
    },
    {
     "name": "stderr",
     "output_type": "stream",
     "text": [
      "D:\\repos\\fraud detection\\venv-fraud-detection\\Lib\\site-packages\\sklearn\\feature_selection\\_univariate_selection.py:112: UserWarning: Features [28] are constant.\n",
      "  warnings.warn(\"Features %s are constant.\" % constant_features_idx, UserWarning)\n",
      "D:\\repos\\fraud detection\\venv-fraud-detection\\Lib\\site-packages\\sklearn\\feature_selection\\_univariate_selection.py:113: RuntimeWarning: invalid value encountered in divide\n",
      "  f = msb / msw\n"
     ]
    },
    {
     "name": "stdout",
     "output_type": "stream",
     "text": [
      "k:14 F1_score: 0.8051441932969603\n"
     ]
    },
    {
     "name": "stderr",
     "output_type": "stream",
     "text": [
      "D:\\repos\\fraud detection\\venv-fraud-detection\\Lib\\site-packages\\sklearn\\feature_selection\\_univariate_selection.py:112: UserWarning: Features [28] are constant.\n",
      "  warnings.warn(\"Features %s are constant.\" % constant_features_idx, UserWarning)\n",
      "D:\\repos\\fraud detection\\venv-fraud-detection\\Lib\\site-packages\\sklearn\\feature_selection\\_univariate_selection.py:113: RuntimeWarning: invalid value encountered in divide\n",
      "  f = msb / msw\n"
     ]
    },
    {
     "name": "stdout",
     "output_type": "stream",
     "text": [
      "k:16 F1_score: 0.7701641684511064\n"
     ]
    },
    {
     "name": "stderr",
     "output_type": "stream",
     "text": [
      "D:\\repos\\fraud detection\\venv-fraud-detection\\Lib\\site-packages\\sklearn\\feature_selection\\_univariate_selection.py:112: UserWarning: Features [28] are constant.\n",
      "  warnings.warn(\"Features %s are constant.\" % constant_features_idx, UserWarning)\n",
      "D:\\repos\\fraud detection\\venv-fraud-detection\\Lib\\site-packages\\sklearn\\feature_selection\\_univariate_selection.py:113: RuntimeWarning: invalid value encountered in divide\n",
      "  f = msb / msw\n"
     ]
    },
    {
     "name": "stdout",
     "output_type": "stream",
     "text": [
      "k:18 F1_score: 0.763610818405339\n"
     ]
    },
    {
     "name": "stderr",
     "output_type": "stream",
     "text": [
      "D:\\repos\\fraud detection\\venv-fraud-detection\\Lib\\site-packages\\sklearn\\feature_selection\\_univariate_selection.py:112: UserWarning: Features [28] are constant.\n",
      "  warnings.warn(\"Features %s are constant.\" % constant_features_idx, UserWarning)\n",
      "D:\\repos\\fraud detection\\venv-fraud-detection\\Lib\\site-packages\\sklearn\\feature_selection\\_univariate_selection.py:113: RuntimeWarning: invalid value encountered in divide\n",
      "  f = msb / msw\n"
     ]
    },
    {
     "name": "stdout",
     "output_type": "stream",
     "text": [
      "k:20 F1_score: 0.7678634909349449\n"
     ]
    },
    {
     "name": "stderr",
     "output_type": "stream",
     "text": [
      "D:\\repos\\fraud detection\\venv-fraud-detection\\Lib\\site-packages\\sklearn\\feature_selection\\_univariate_selection.py:112: UserWarning: Features [28] are constant.\n",
      "  warnings.warn(\"Features %s are constant.\" % constant_features_idx, UserWarning)\n",
      "D:\\repos\\fraud detection\\venv-fraud-detection\\Lib\\site-packages\\sklearn\\feature_selection\\_univariate_selection.py:113: RuntimeWarning: invalid value encountered in divide\n",
      "  f = msb / msw\n"
     ]
    },
    {
     "name": "stdout",
     "output_type": "stream",
     "text": [
      "k:22 F1_score: 0.7968217934165721\n"
     ]
    },
    {
     "name": "stderr",
     "output_type": "stream",
     "text": [
      "D:\\repos\\fraud detection\\venv-fraud-detection\\Lib\\site-packages\\sklearn\\feature_selection\\_univariate_selection.py:112: UserWarning: Features [28] are constant.\n",
      "  warnings.warn(\"Features %s are constant.\" % constant_features_idx, UserWarning)\n",
      "D:\\repos\\fraud detection\\venv-fraud-detection\\Lib\\site-packages\\sklearn\\feature_selection\\_univariate_selection.py:113: RuntimeWarning: invalid value encountered in divide\n",
      "  f = msb / msw\n"
     ]
    },
    {
     "name": "stdout",
     "output_type": "stream",
     "text": [
      "k:24 F1_score: 0.8378698224852071\n"
     ]
    },
    {
     "name": "stderr",
     "output_type": "stream",
     "text": [
      "D:\\repos\\fraud detection\\venv-fraud-detection\\Lib\\site-packages\\sklearn\\feature_selection\\_univariate_selection.py:112: UserWarning: Features [28] are constant.\n",
      "  warnings.warn(\"Features %s are constant.\" % constant_features_idx, UserWarning)\n",
      "D:\\repos\\fraud detection\\venv-fraud-detection\\Lib\\site-packages\\sklearn\\feature_selection\\_univariate_selection.py:113: RuntimeWarning: invalid value encountered in divide\n",
      "  f = msb / msw\n"
     ]
    },
    {
     "name": "stdout",
     "output_type": "stream",
     "text": [
      "k:26 F1_score: 0.8362235067437379\n"
     ]
    },
    {
     "name": "stderr",
     "output_type": "stream",
     "text": [
      "D:\\repos\\fraud detection\\venv-fraud-detection\\Lib\\site-packages\\sklearn\\feature_selection\\_univariate_selection.py:112: UserWarning: Features [28] are constant.\n",
      "  warnings.warn(\"Features %s are constant.\" % constant_features_idx, UserWarning)\n",
      "D:\\repos\\fraud detection\\venv-fraud-detection\\Lib\\site-packages\\sklearn\\feature_selection\\_univariate_selection.py:113: RuntimeWarning: invalid value encountered in divide\n",
      "  f = msb / msw\n"
     ]
    },
    {
     "name": "stdout",
     "output_type": "stream",
     "text": [
      "k:28 F1_score: 0.8386850152905199\n"
     ]
    },
    {
     "name": "stderr",
     "output_type": "stream",
     "text": [
      "D:\\repos\\fraud detection\\venv-fraud-detection\\Lib\\site-packages\\sklearn\\feature_selection\\_univariate_selection.py:112: UserWarning: Features [28] are constant.\n",
      "  warnings.warn(\"Features %s are constant.\" % constant_features_idx, UserWarning)\n",
      "D:\\repos\\fraud detection\\venv-fraud-detection\\Lib\\site-packages\\sklearn\\feature_selection\\_univariate_selection.py:113: RuntimeWarning: invalid value encountered in divide\n",
      "  f = msb / msw\n"
     ]
    },
    {
     "name": "stdout",
     "output_type": "stream",
     "text": [
      "k:30 F1_score: 0.8354037267080745\n"
     ]
    },
    {
     "name": "stderr",
     "output_type": "stream",
     "text": [
      "D:\\repos\\fraud detection\\venv-fraud-detection\\Lib\\site-packages\\sklearn\\feature_selection\\_univariate_selection.py:112: UserWarning: Features [28] are constant.\n",
      "  warnings.warn(\"Features %s are constant.\" % constant_features_idx, UserWarning)\n",
      "D:\\repos\\fraud detection\\venv-fraud-detection\\Lib\\site-packages\\sklearn\\feature_selection\\_univariate_selection.py:113: RuntimeWarning: invalid value encountered in divide\n",
      "  f = msb / msw\n"
     ]
    },
    {
     "name": "stdout",
     "output_type": "stream",
     "text": [
      "k:32 F1_score: 0.8486997635933806\n"
     ]
    },
    {
     "name": "stderr",
     "output_type": "stream",
     "text": [
      "D:\\repos\\fraud detection\\venv-fraud-detection\\Lib\\site-packages\\sklearn\\feature_selection\\_univariate_selection.py:112: UserWarning: Features [28] are constant.\n",
      "  warnings.warn(\"Features %s are constant.\" % constant_features_idx, UserWarning)\n",
      "D:\\repos\\fraud detection\\venv-fraud-detection\\Lib\\site-packages\\sklearn\\feature_selection\\_univariate_selection.py:113: RuntimeWarning: invalid value encountered in divide\n",
      "  f = msb / msw\n"
     ]
    },
    {
     "name": "stdout",
     "output_type": "stream",
     "text": [
      "k:34 F1_score: 0.8215102974828375\n"
     ]
    },
    {
     "name": "stderr",
     "output_type": "stream",
     "text": [
      "D:\\repos\\fraud detection\\venv-fraud-detection\\Lib\\site-packages\\sklearn\\feature_selection\\_univariate_selection.py:112: UserWarning: Features [28] are constant.\n",
      "  warnings.warn(\"Features %s are constant.\" % constant_features_idx, UserWarning)\n",
      "D:\\repos\\fraud detection\\venv-fraud-detection\\Lib\\site-packages\\sklearn\\feature_selection\\_univariate_selection.py:113: RuntimeWarning: invalid value encountered in divide\n",
      "  f = msb / msw\n"
     ]
    },
    {
     "name": "stdout",
     "output_type": "stream",
     "text": [
      "k:36 F1_score: 0.8339798293250582\n"
     ]
    },
    {
     "name": "stderr",
     "output_type": "stream",
     "text": [
      "D:\\repos\\fraud detection\\venv-fraud-detection\\Lib\\site-packages\\sklearn\\feature_selection\\_univariate_selection.py:112: UserWarning: Features [28] are constant.\n",
      "  warnings.warn(\"Features %s are constant.\" % constant_features_idx, UserWarning)\n",
      "D:\\repos\\fraud detection\\venv-fraud-detection\\Lib\\site-packages\\sklearn\\feature_selection\\_univariate_selection.py:113: RuntimeWarning: invalid value encountered in divide\n",
      "  f = msb / msw\n"
     ]
    },
    {
     "name": "stdout",
     "output_type": "stream",
     "text": [
      "k:38 F1_score: 0.8492381716118684\n"
     ]
    },
    {
     "name": "stderr",
     "output_type": "stream",
     "text": [
      "D:\\repos\\fraud detection\\venv-fraud-detection\\Lib\\site-packages\\sklearn\\feature_selection\\_univariate_selection.py:112: UserWarning: Features [28] are constant.\n",
      "  warnings.warn(\"Features %s are constant.\" % constant_features_idx, UserWarning)\n",
      "D:\\repos\\fraud detection\\venv-fraud-detection\\Lib\\site-packages\\sklearn\\feature_selection\\_univariate_selection.py:113: RuntimeWarning: invalid value encountered in divide\n",
      "  f = msb / msw\n"
     ]
    },
    {
     "name": "stdout",
     "output_type": "stream",
     "text": [
      "k:40 F1_score: 0.8379888268156425\n"
     ]
    },
    {
     "name": "stderr",
     "output_type": "stream",
     "text": [
      "D:\\repos\\fraud detection\\venv-fraud-detection\\Lib\\site-packages\\sklearn\\feature_selection\\_univariate_selection.py:112: UserWarning: Features [28] are constant.\n",
      "  warnings.warn(\"Features %s are constant.\" % constant_features_idx, UserWarning)\n",
      "D:\\repos\\fraud detection\\venv-fraud-detection\\Lib\\site-packages\\sklearn\\feature_selection\\_univariate_selection.py:113: RuntimeWarning: invalid value encountered in divide\n",
      "  f = msb / msw\n"
     ]
    },
    {
     "name": "stdout",
     "output_type": "stream",
     "text": [
      "k:42 F1_score: 0.8368794326241135\n"
     ]
    },
    {
     "name": "stderr",
     "output_type": "stream",
     "text": [
      "D:\\repos\\fraud detection\\venv-fraud-detection\\Lib\\site-packages\\sklearn\\feature_selection\\_univariate_selection.py:112: UserWarning: Features [28] are constant.\n",
      "  warnings.warn(\"Features %s are constant.\" % constant_features_idx, UserWarning)\n",
      "D:\\repos\\fraud detection\\venv-fraud-detection\\Lib\\site-packages\\sklearn\\feature_selection\\_univariate_selection.py:113: RuntimeWarning: invalid value encountered in divide\n",
      "  f = msb / msw\n"
     ]
    },
    {
     "name": "stdout",
     "output_type": "stream",
     "text": [
      "k:44 F1_score: 0.8447254049782694\n"
     ]
    },
    {
     "name": "stderr",
     "output_type": "stream",
     "text": [
      "D:\\repos\\fraud detection\\venv-fraud-detection\\Lib\\site-packages\\sklearn\\feature_selection\\_univariate_selection.py:112: UserWarning: Features [28] are constant.\n",
      "  warnings.warn(\"Features %s are constant.\" % constant_features_idx, UserWarning)\n",
      "D:\\repos\\fraud detection\\venv-fraud-detection\\Lib\\site-packages\\sklearn\\feature_selection\\_univariate_selection.py:113: RuntimeWarning: invalid value encountered in divide\n",
      "  f = msb / msw\n"
     ]
    },
    {
     "name": "stdout",
     "output_type": "stream",
     "text": [
      "k:46 F1_score: 0.8387096774193549\n"
     ]
    }
   ],
   "source": [
    "k_vs_score = []\n",
    "\n",
    "for k in range(2, len(X_train.columns), 2): \n",
    "    \n",
    "    selector = SelectKBest(score_func=f_classif, k=k)\n",
    "    \n",
    "    \n",
    "    Xtrain2 = selector.fit_transform(X_train, y_train)\n",
    "    \n",
    "    \n",
    "    Xval2 = selector.transform(X_val)\n",
    "\n",
    "    mdl = lgb.LGBMClassifier(**params)\n",
    "\n",
    "   \n",
    "    mdl.fit(Xtrain2, y_train)\n",
    "\n",
    "    \n",
    "    p = mdl.predict(Xval2)\n",
    "\n",
    "    \n",
    "    score = f1_score(y_val, p)\n",
    "    \n",
    "    print(f'k:{k} F1_score: {score}')\n",
    "    \n",
    "    k_vs_score.append({'k': k, 'F1_Score': score})\n"
   ]
  },
  {
   "cell_type": "code",
   "execution_count": 24,
   "id": "2e261ded-fa28-4e4e-9029-aa71f6b0fe2d",
   "metadata": {},
   "outputs": [],
   "source": [
    "df_k_vs_score = pd.DataFrame(k_vs_score)\n",
    "df_k_vs_score_sorted_score = df_k_vs_score.sort_values(by='F1_Score', ascending=False)\n"
   ]
  },
  {
   "cell_type": "code",
   "execution_count": 28,
   "id": "445cdc0d-efe3-47cc-b70d-25b2cfcb5ea4",
   "metadata": {},
   "outputs": [
    {
     "data": {
      "text/html": [
       "<div>\n",
       "<style scoped>\n",
       "    .dataframe tbody tr th:only-of-type {\n",
       "        vertical-align: middle;\n",
       "    }\n",
       "\n",
       "    .dataframe tbody tr th {\n",
       "        vertical-align: top;\n",
       "    }\n",
       "\n",
       "    .dataframe thead th {\n",
       "        text-align: right;\n",
       "    }\n",
       "</style>\n",
       "<table border=\"1\" class=\"dataframe\">\n",
       "  <thead>\n",
       "    <tr style=\"text-align: right;\">\n",
       "      <th></th>\n",
       "      <th>k</th>\n",
       "      <th>F1_Score</th>\n",
       "    </tr>\n",
       "  </thead>\n",
       "  <tbody>\n",
       "    <tr>\n",
       "      <th>18</th>\n",
       "      <td>38</td>\n",
       "      <td>0.85</td>\n",
       "    </tr>\n",
       "    <tr>\n",
       "      <th>15</th>\n",
       "      <td>32</td>\n",
       "      <td>0.85</td>\n",
       "    </tr>\n",
       "    <tr>\n",
       "      <th>21</th>\n",
       "      <td>44</td>\n",
       "      <td>0.84</td>\n",
       "    </tr>\n",
       "    <tr>\n",
       "      <th>22</th>\n",
       "      <td>46</td>\n",
       "      <td>0.84</td>\n",
       "    </tr>\n",
       "    <tr>\n",
       "      <th>13</th>\n",
       "      <td>28</td>\n",
       "      <td>0.84</td>\n",
       "    </tr>\n",
       "    <tr>\n",
       "      <th>19</th>\n",
       "      <td>40</td>\n",
       "      <td>0.84</td>\n",
       "    </tr>\n",
       "    <tr>\n",
       "      <th>11</th>\n",
       "      <td>24</td>\n",
       "      <td>0.84</td>\n",
       "    </tr>\n",
       "    <tr>\n",
       "      <th>20</th>\n",
       "      <td>42</td>\n",
       "      <td>0.84</td>\n",
       "    </tr>\n",
       "    <tr>\n",
       "      <th>12</th>\n",
       "      <td>26</td>\n",
       "      <td>0.84</td>\n",
       "    </tr>\n",
       "    <tr>\n",
       "      <th>14</th>\n",
       "      <td>30</td>\n",
       "      <td>0.84</td>\n",
       "    </tr>\n",
       "    <tr>\n",
       "      <th>17</th>\n",
       "      <td>36</td>\n",
       "      <td>0.83</td>\n",
       "    </tr>\n",
       "    <tr>\n",
       "      <th>16</th>\n",
       "      <td>34</td>\n",
       "      <td>0.82</td>\n",
       "    </tr>\n",
       "    <tr>\n",
       "      <th>6</th>\n",
       "      <td>14</td>\n",
       "      <td>0.81</td>\n",
       "    </tr>\n",
       "    <tr>\n",
       "      <th>10</th>\n",
       "      <td>22</td>\n",
       "      <td>0.80</td>\n",
       "    </tr>\n",
       "    <tr>\n",
       "      <th>5</th>\n",
       "      <td>12</td>\n",
       "      <td>0.77</td>\n",
       "    </tr>\n",
       "    <tr>\n",
       "      <th>7</th>\n",
       "      <td>16</td>\n",
       "      <td>0.77</td>\n",
       "    </tr>\n",
       "    <tr>\n",
       "      <th>9</th>\n",
       "      <td>20</td>\n",
       "      <td>0.77</td>\n",
       "    </tr>\n",
       "    <tr>\n",
       "      <th>8</th>\n",
       "      <td>18</td>\n",
       "      <td>0.76</td>\n",
       "    </tr>\n",
       "    <tr>\n",
       "      <th>4</th>\n",
       "      <td>10</td>\n",
       "      <td>0.62</td>\n",
       "    </tr>\n",
       "    <tr>\n",
       "      <th>2</th>\n",
       "      <td>6</td>\n",
       "      <td>0.52</td>\n",
       "    </tr>\n",
       "    <tr>\n",
       "      <th>3</th>\n",
       "      <td>8</td>\n",
       "      <td>0.51</td>\n",
       "    </tr>\n",
       "    <tr>\n",
       "      <th>1</th>\n",
       "      <td>4</td>\n",
       "      <td>0.36</td>\n",
       "    </tr>\n",
       "    <tr>\n",
       "      <th>0</th>\n",
       "      <td>2</td>\n",
       "      <td>0.35</td>\n",
       "    </tr>\n",
       "  </tbody>\n",
       "</table>\n",
       "</div>"
      ],
      "text/plain": [
       "     k  F1_Score\n",
       "18  38      0.85\n",
       "15  32      0.85\n",
       "21  44      0.84\n",
       "22  46      0.84\n",
       "13  28      0.84\n",
       "19  40      0.84\n",
       "11  24      0.84\n",
       "20  42      0.84\n",
       "12  26      0.84\n",
       "14  30      0.84\n",
       "17  36      0.83\n",
       "16  34      0.82\n",
       "6   14      0.81\n",
       "10  22      0.80\n",
       "5   12      0.77\n",
       "7   16      0.77\n",
       "9   20      0.77\n",
       "8   18      0.76\n",
       "4   10      0.62\n",
       "2    6      0.52\n",
       "3    8      0.51\n",
       "1    4      0.36\n",
       "0    2      0.35"
      ]
     },
     "execution_count": 28,
     "metadata": {},
     "output_type": "execute_result"
    },
    {
     "data": {
      "image/png": "[encoded data removed]",
      "text/plain": [
       "<Figure size 640x480 with 1 Axes>"
      ]
     },
     "metadata": {},
     "output_type": "display_data"
    }
   ],
   "source": [
    "plt.plot(df_k_vs_score['k'], df_k_vs_score['F1_Score'], marker='o', linestyle='-', color='b')\n",
    "df_k_vs_score_sorted_score"
   ]
  },
  {
   "cell_type": "code",
   "execution_count": 29,
   "id": "fc15588d-c8c2-4ee0-884e-e304f240a0e1",
   "metadata": {},
   "outputs": [
    {
     "name": "stderr",
     "output_type": "stream",
     "text": [
      "D:\\repos\\fraud detection\\venv-fraud-detection\\Lib\\site-packages\\sklearn\\feature_selection\\_univariate_selection.py:112: UserWarning: Features [28] are constant.\n",
      "  warnings.warn(\"Features %s are constant.\" % constant_features_idx, UserWarning)\n",
      "D:\\repos\\fraud detection\\venv-fraud-detection\\Lib\\site-packages\\sklearn\\feature_selection\\_univariate_selection.py:113: RuntimeWarning: invalid value encountered in divide\n",
      "  f = msb / msw\n"
     ]
    },
    {
     "data": {
      "text/html": [
       "<style>#sk-container-id-2 {\n",
       "  /* Definition of color scheme common for light and dark mode */\n",
       "  --sklearn-color-text: black;\n",
       "  --sklearn-color-line: gray;\n",
       "  /* Definition of color scheme for unfitted estimators */\n",
       "  --sklearn-color-unfitted-level-0: #fff5e6;\n",
       "  --sklearn-color-unfitted-level-1: #f6e4d2;\n",
       "  --sklearn-color-unfitted-level-2: #ffe0b3;\n",
       "  --sklearn-color-unfitted-level-3: chocolate;\n",
       "  /* Definition of color scheme for fitted estimators */\n",
       "  --sklearn-color-fitted-level-0: #f0f8ff;\n",
       "  --sklearn-color-fitted-level-1: #d4ebff;\n",
       "  --sklearn-color-fitted-level-2: #b3dbfd;\n",
       "  --sklearn-color-fitted-level-3: cornflowerblue;\n",
       "\n",
       "  /* Specific color for light theme */\n",
       "  --sklearn-color-text-on-default-background: var(--sg-text-color, var(--theme-code-foreground, var(--jp-content-font-color1, black)));\n",
       "  --sklearn-color-background: var(--sg-background-color, var(--theme-background, var(--jp-layout-color0, white)));\n",
       "  --sklearn-color-border-box: var(--sg-text-color, var(--theme-code-foreground, var(--jp-content-font-color1, black)));\n",
       "  --sklearn-color-icon: #696969;\n",
       "\n",
       "  @media (prefers-color-scheme: dark) {\n",
       "    /* Redefinition of color scheme for dark theme */\n",
       "    --sklearn-color-text-on-default-background: var(--sg-text-color, var(--theme-code-foreground, var(--jp-content-font-color1, white)));\n",
       "    --sklearn-color-background: var(--sg-background-color, var(--theme-background, var(--jp-layout-color0, #111)));\n",
       "    --sklearn-color-border-box: var(--sg-text-color, var(--theme-code-foreground, var(--jp-content-font-color1, white)));\n",
       "    --sklearn-color-icon: #878787;\n",
       "  }\n",
       "}\n",
       "\n",
       "#sk-container-id-2 {\n",
       "  color: var(--sklearn-color-text);\n",
       "}\n",
       "\n",
       "#sk-container-id-2 pre {\n",
       "  padding: 0;\n",
       "}\n",
       "\n",
       "#sk-container-id-2 input.sk-hidden--visually {\n",
       "  border: 0;\n",
       "  clip: rect(1px 1px 1px 1px);\n",
       "  clip: rect(1px, 1px, 1px, 1px);\n",
       "  height: 1px;\n",
       "  margin: -1px;\n",
       "  overflow: hidden;\n",
       "  padding: 0;\n",
       "  position: absolute;\n",
       "  width: 1px;\n",
       "}\n",
       "\n",
       "#sk-container-id-2 div.sk-dashed-wrapped {\n",
       "  border: 1px dashed var(--sklearn-color-line);\n",
       "  margin: 0 0.4em 0.5em 0.4em;\n",
       "  box-sizing: border-box;\n",
       "  padding-bottom: 0.4em;\n",
       "  background-color: var(--sklearn-color-background);\n",
       "}\n",
       "\n",
       "#sk-container-id-2 div.sk-container {\n",
       "  /* jupyter's `normalize.less` sets `[hidden] { display: none; }`\n",
       "     but bootstrap.min.css set `[hidden] { display: none !important; }`\n",
       "     so we also need the `!important` here to be able to override the\n",
       "     default hidden behavior on the sphinx rendered scikit-learn.org.\n",
       "     See: https://github.com/scikit-learn/scikit-learn/issues/21755 */\n",
       "  display: inline-block !important;\n",
       "  position: relative;\n",
       "}\n",
       "\n",
       "#sk-container-id-2 div.sk-text-repr-fallback {\n",
       "  display: none;\n",
       "}\n",
       "\n",
       "div.sk-parallel-item,\n",
       "div.sk-serial,\n",
       "div.sk-item {\n",
       "  /* draw centered vertical line to link estimators */\n",
       "  background-image: linear-gradient(var(--sklearn-color-text-on-default-background), var(--sklearn-color-text-on-default-background));\n",
       "  background-size: 2px 100%;\n",
       "  background-repeat: no-repeat;\n",
       "  background-position: center center;\n",
       "}\n",
       "\n",
       "/* Parallel-specific style estimator block */\n",
       "\n",
       "#sk-container-id-2 div.sk-parallel-item::after {\n",
       "  content: \"\";\n",
       "  width: 100%;\n",
       "  border-bottom: 2px solid var(--sklearn-color-text-on-default-background);\n",
       "  flex-grow: 1;\n",
       "}\n",
       "\n",
       "#sk-container-id-2 div.sk-parallel {\n",
       "  display: flex;\n",
       "  align-items: stretch;\n",
       "  justify-content: center;\n",
       "  background-color: var(--sklearn-color-background);\n",
       "  position: relative;\n",
       "}\n",
       "\n",
       "#sk-container-id-2 div.sk-parallel-item {\n",
       "  display: flex;\n",
       "  flex-direction: column;\n",
       "}\n",
       "\n",
       "#sk-container-id-2 div.sk-parallel-item:first-child::after {\n",
       "  align-self: flex-end;\n",
       "  width: 50%;\n",
       "}\n",
       "\n",
       "#sk-container-id-2 div.sk-parallel-item:last-child::after {\n",
       "  align-self: flex-start;\n",
       "  width: 50%;\n",
       "}\n",
       "\n",
       "#sk-container-id-2 div.sk-parallel-item:only-child::after {\n",
       "  width: 0;\n",
       "}\n",
       "\n",
       "/* Serial-specific style estimator block */\n",
       "\n",
       "#sk-container-id-2 div.sk-serial {\n",
       "  display: flex;\n",
       "  flex-direction: column;\n",
       "  align-items: center;\n",
       "  background-color: var(--sklearn-color-background);\n",
       "  padding-right: 1em;\n",
       "  padding-left: 1em;\n",
       "}\n",
       "\n",
       "\n",
       "/* Toggleable style: style used for estimator/Pipeline/ColumnTransformer box that is\n",
       "clickable and can be expanded/collapsed.\n",
       "- Pipeline and ColumnTransformer use this feature and define the default style\n",
       "- Estimators will overwrite some part of the style using the `sk-estimator` class\n",
       "*/\n",
       "\n",
       "/* Pipeline and ColumnTransformer style (default) */\n",
       "\n",
       "#sk-container-id-2 div.sk-toggleable {\n",
       "  /* Default theme specific background. It is overwritten whether we have a\n",
       "  specific estimator or a Pipeline/ColumnTransformer */\n",
       "  background-color: var(--sklearn-color-background);\n",
       "}\n",
       "\n",
       "/* Toggleable label */\n",
       "#sk-container-id-2 label.sk-toggleable__label {\n",
       "  cursor: pointer;\n",
       "  display: block;\n",
       "  width: 100%;\n",
       "  margin-bottom: 0;\n",
       "  padding: 0.5em;\n",
       "  box-sizing: border-box;\n",
       "  text-align: center;\n",
       "}\n",
       "\n",
       "#sk-container-id-2 label.sk-toggleable__label-arrow:before {\n",
       "  /* Arrow on the left of the label */\n",
       "  content: \"▸\";\n",
       "  float: left;\n",
       "  margin-right: 0.25em;\n",
       "  color: var(--sklearn-color-icon);\n",
       "}\n",
       "\n",
       "#sk-container-id-2 label.sk-toggleable__label-arrow:hover:before {\n",
       "  color: var(--sklearn-color-text);\n",
       "}\n",
       "\n",
       "/* Toggleable content - dropdown */\n",
       "\n",
       "#sk-container-id-2 div.sk-toggleable__content {\n",
       "  max-height: 0;\n",
       "  max-width: 0;\n",
       "  overflow: hidden;\n",
       "  text-align: left;\n",
       "  /* unfitted */\n",
       "  background-color: var(--sklearn-color-unfitted-level-0);\n",
       "}\n",
       "\n",
       "#sk-container-id-2 div.sk-toggleable__content.fitted {\n",
       "  /* fitted */\n",
       "  background-color: var(--sklearn-color-fitted-level-0);\n",
       "}\n",
       "\n",
       "#sk-container-id-2 div.sk-toggleable__content pre {\n",
       "  margin: 0.2em;\n",
       "  border-radius: 0.25em;\n",
       "  color: var(--sklearn-color-text);\n",
       "  /* unfitted */\n",
       "  background-color: var(--sklearn-color-unfitted-level-0);\n",
       "}\n",
       "\n",
       "#sk-container-id-2 div.sk-toggleable__content.fitted pre {\n",
       "  /* unfitted */\n",
       "  background-color: var(--sklearn-color-fitted-level-0);\n",
       "}\n",
       "\n",
       "#sk-container-id-2 input.sk-toggleable__control:checked~div.sk-toggleable__content {\n",
       "  /* Expand drop-down */\n",
       "  max-height: 200px;\n",
       "  max-width: 100%;\n",
       "  overflow: auto;\n",
       "}\n",
       "\n",
       "#sk-container-id-2 input.sk-toggleable__control:checked~label.sk-toggleable__label-arrow:before {\n",
       "  content: \"▾\";\n",
       "}\n",
       "\n",
       "/* Pipeline/ColumnTransformer-specific style */\n",
       "\n",
       "#sk-container-id-2 div.sk-label input.sk-toggleable__control:checked~label.sk-toggleable__label {\n",
       "  color: var(--sklearn-color-text);\n",
       "  background-color: var(--sklearn-color-unfitted-level-2);\n",
       "}\n",
       "\n",
       "#sk-container-id-2 div.sk-label.fitted input.sk-toggleable__control:checked~label.sk-toggleable__label {\n",
       "  background-color: var(--sklearn-color-fitted-level-2);\n",
       "}\n",
       "\n",
       "/* Estimator-specific style */\n",
       "\n",
       "/* Colorize estimator box */\n",
       "#sk-container-id-2 div.sk-estimator input.sk-toggleable__control:checked~label.sk-toggleable__label {\n",
       "  /* unfitted */\n",
       "  background-color: var(--sklearn-color-unfitted-level-2);\n",
       "}\n",
       "\n",
       "#sk-container-id-2 div.sk-estimator.fitted input.sk-toggleable__control:checked~label.sk-toggleable__label {\n",
       "  /* fitted */\n",
       "  background-color: var(--sklearn-color-fitted-level-2);\n",
       "}\n",
       "\n",
       "#sk-container-id-2 div.sk-label label.sk-toggleable__label,\n",
       "#sk-container-id-2 div.sk-label label {\n",
       "  /* The background is the default theme color */\n",
       "  color: var(--sklearn-color-text-on-default-background);\n",
       "}\n",
       "\n",
       "/* On hover, darken the color of the background */\n",
       "#sk-container-id-2 div.sk-label:hover label.sk-toggleable__label {\n",
       "  color: var(--sklearn-color-text);\n",
       "  background-color: var(--sklearn-color-unfitted-level-2);\n",
       "}\n",
       "\n",
       "/* Label box, darken color on hover, fitted */\n",
       "#sk-container-id-2 div.sk-label.fitted:hover label.sk-toggleable__label.fitted {\n",
       "  color: var(--sklearn-color-text);\n",
       "  background-color: var(--sklearn-color-fitted-level-2);\n",
       "}\n",
       "\n",
       "/* Estimator label */\n",
       "\n",
       "#sk-container-id-2 div.sk-label label {\n",
       "  font-family: monospace;\n",
       "  font-weight: bold;\n",
       "  display: inline-block;\n",
       "  line-height: 1.2em;\n",
       "}\n",
       "\n",
       "#sk-container-id-2 div.sk-label-container {\n",
       "  text-align: center;\n",
       "}\n",
       "\n",
       "/* Estimator-specific */\n",
       "#sk-container-id-2 div.sk-estimator {\n",
       "  font-family: monospace;\n",
       "  border: 1px dotted var(--sklearn-color-border-box);\n",
       "  border-radius: 0.25em;\n",
       "  box-sizing: border-box;\n",
       "  margin-bottom: 0.5em;\n",
       "  /* unfitted */\n",
       "  background-color: var(--sklearn-color-unfitted-level-0);\n",
       "}\n",
       "\n",
       "#sk-container-id-2 div.sk-estimator.fitted {\n",
       "  /* fitted */\n",
       "  background-color: var(--sklearn-color-fitted-level-0);\n",
       "}\n",
       "\n",
       "/* on hover */\n",
       "#sk-container-id-2 div.sk-estimator:hover {\n",
       "  /* unfitted */\n",
       "  background-color: var(--sklearn-color-unfitted-level-2);\n",
       "}\n",
       "\n",
       "#sk-container-id-2 div.sk-estimator.fitted:hover {\n",
       "  /* fitted */\n",
       "  background-color: var(--sklearn-color-fitted-level-2);\n",
       "}\n",
       "\n",
       "/* Specification for estimator info (e.g. \"i\" and \"?\") */\n",
       "\n",
       "/* Common style for \"i\" and \"?\" */\n",
       "\n",
       ".sk-estimator-doc-link,\n",
       "a:link.sk-estimator-doc-link,\n",
       "a:visited.sk-estimator-doc-link {\n",
       "  float: right;\n",
       "  font-size: smaller;\n",
       "  line-height: 1em;\n",
       "  font-family: monospace;\n",
       "  background-color: var(--sklearn-color-background);\n",
       "  border-radius: 1em;\n",
       "  height: 1em;\n",
       "  width: 1em;\n",
       "  text-decoration: none !important;\n",
       "  margin-left: 1ex;\n",
       "  /* unfitted */\n",
       "  border: var(--sklearn-color-unfitted-level-1) 1pt solid;\n",
       "  color: var(--sklearn-color-unfitted-level-1);\n",
       "}\n",
       "\n",
       ".sk-estimator-doc-link.fitted,\n",
       "a:link.sk-estimator-doc-link.fitted,\n",
       "a:visited.sk-estimator-doc-link.fitted {\n",
       "  /* fitted */\n",
       "  border: var(--sklearn-color-fitted-level-1) 1pt solid;\n",
       "  color: var(--sklearn-color-fitted-level-1);\n",
       "}\n",
       "\n",
       "/* On hover */\n",
       "div.sk-estimator:hover .sk-estimator-doc-link:hover,\n",
       ".sk-estimator-doc-link:hover,\n",
       "div.sk-label-container:hover .sk-estimator-doc-link:hover,\n",
       ".sk-estimator-doc-link:hover {\n",
       "  /* unfitted */\n",
       "  background-color: var(--sklearn-color-unfitted-level-3);\n",
       "  color: var(--sklearn-color-background);\n",
       "  text-decoration: none;\n",
       "}\n",
       "\n",
       "div.sk-estimator.fitted:hover .sk-estimator-doc-link.fitted:hover,\n",
       ".sk-estimator-doc-link.fitted:hover,\n",
       "div.sk-label-container:hover .sk-estimator-doc-link.fitted:hover,\n",
       ".sk-estimator-doc-link.fitted:hover {\n",
       "  /* fitted */\n",
       "  background-color: var(--sklearn-color-fitted-level-3);\n",
       "  color: var(--sklearn-color-background);\n",
       "  text-decoration: none;\n",
       "}\n",
       "\n",
       "/* Span, style for the box shown on hovering the info icon */\n",
       ".sk-estimator-doc-link span {\n",
       "  display: none;\n",
       "  z-index: 9999;\n",
       "  position: relative;\n",
       "  font-weight: normal;\n",
       "  right: .2ex;\n",
       "  padding: .5ex;\n",
       "  margin: .5ex;\n",
       "  width: min-content;\n",
       "  min-width: 20ex;\n",
       "  max-width: 50ex;\n",
       "  color: var(--sklearn-color-text);\n",
       "  box-shadow: 2pt 2pt 4pt #999;\n",
       "  /* unfitted */\n",
       "  background: var(--sklearn-color-unfitted-level-0);\n",
       "  border: .5pt solid var(--sklearn-color-unfitted-level-3);\n",
       "}\n",
       "\n",
       ".sk-estimator-doc-link.fitted span {\n",
       "  /* fitted */\n",
       "  background: var(--sklearn-color-fitted-level-0);\n",
       "  border: var(--sklearn-color-fitted-level-3);\n",
       "}\n",
       "\n",
       ".sk-estimator-doc-link:hover span {\n",
       "  display: block;\n",
       "}\n",
       "\n",
       "/* \"?\"-specific style due to the `<a>` HTML tag */\n",
       "\n",
       "#sk-container-id-2 a.estimator_doc_link {\n",
       "  float: right;\n",
       "  font-size: 1rem;\n",
       "  line-height: 1em;\n",
       "  font-family: monospace;\n",
       "  background-color: var(--sklearn-color-background);\n",
       "  border-radius: 1rem;\n",
       "  height: 1rem;\n",
       "  width: 1rem;\n",
       "  text-decoration: none;\n",
       "  /* unfitted */\n",
       "  color: var(--sklearn-color-unfitted-level-1);\n",
       "  border: var(--sklearn-color-unfitted-level-1) 1pt solid;\n",
       "}\n",
       "\n",
       "#sk-container-id-2 a.estimator_doc_link.fitted {\n",
       "  /* fitted */\n",
       "  border: var(--sklearn-color-fitted-level-1) 1pt solid;\n",
       "  color: var(--sklearn-color-fitted-level-1);\n",
       "}\n",
       "\n",
       "/* On hover */\n",
       "#sk-container-id-2 a.estimator_doc_link:hover {\n",
       "  /* unfitted */\n",
       "  background-color: var(--sklearn-color-unfitted-level-3);\n",
       "  color: var(--sklearn-color-background);\n",
       "  text-decoration: none;\n",
       "}\n",
       "\n",
       "#sk-container-id-2 a.estimator_doc_link.fitted:hover {\n",
       "  /* fitted */\n",
       "  background-color: var(--sklearn-color-fitted-level-3);\n",
       "}\n",
       "</style><div id=\"sk-container-id-2\" class=\"sk-top-container\"><div class=\"sk-text-repr-fallback\"><pre>SelectKBest(k=32)</pre><b>In a Jupyter environment, please rerun this cell to show the HTML representation or trust the notebook. <br />On GitHub, the HTML representation is unable to render, please try loading this page with nbviewer.org.</b></div><div class=\"sk-container\" hidden><div class=\"sk-item\"><div class=\"sk-estimator fitted sk-toggleable\"><input class=\"sk-toggleable__control sk-hidden--visually\" id=\"sk-estimator-id-2\" type=\"checkbox\" checked><label for=\"sk-estimator-id-2\" class=\"sk-toggleable__label fitted sk-toggleable__label-arrow fitted\">&nbsp;&nbsp;SelectKBest<a class=\"sk-estimator-doc-link fitted\" rel=\"noreferrer\" target=\"_blank\" href=\"https://scikit-learn.org/1.5/modules/generated/sklearn.feature_selection.SelectKBest.html\">?<span>Documentation for SelectKBest</span></a><span class=\"sk-estimator-doc-link fitted\">i<span>Fitted</span></span></label><div class=\"sk-toggleable__content fitted\"><pre>SelectKBest(k=32)</pre></div> </div></div></div></div>"
      ],
      "text/plain": [
       "SelectKBest(k=32)"
      ]
     },
     "execution_count": 29,
     "metadata": {},
     "output_type": "execute_result"
    }
   ],
   "source": [
    "selector = SelectKBest(score_func=f_classif, k=32)\n",
    "selector.fit(X_train, y_train)"
   ]
  },
  {
   "cell_type": "code",
   "execution_count": 30,
   "id": "f527a598-a4d3-4e56-b528-9c2c7f0354b4",
   "metadata": {},
   "outputs": [
    {
     "data": {
      "text/plain": [
       "['feature_selection/k_best_selection']"
      ]
     },
     "execution_count": 30,
     "metadata": {},
     "output_type": "execute_result"
    }
   ],
   "source": [
    "selected_columns = selector.get_support()\n",
    "joblib.dump(selected_columns, 'feature_selection/k_best_selection')"
   ]
  },
  {
   "cell_type": "code",
   "execution_count": 31,
   "id": "0e11ecf0-7959-46d5-a9bf-84512bb00d6a",
   "metadata": {},
   "outputs": [],
   "source": [
    "# selecting columns for X_train and X_val\n",
    "X_train = X_train.iloc[:,selected_columns]\n",
    "X_val = X_val.iloc[:,selected_columns]"
   ]
  },
  {
   "cell_type": "markdown",
   "id": "179a6550-664c-459d-b4aa-4af73e0b34df",
   "metadata": {},
   "source": [
    "## 7 - Training Model"
   ]
  },
  {
   "cell_type": "markdown",
   "id": "8d32278a-06c1-4dd4-9e8f-36c007a6a91f",
   "metadata": {},
   "source": [
    "### lgbm"
   ]
  },
  {
   "cell_type": "code",
   "execution_count": 32,
   "id": "f5aeacfa-218a-4e70-81d5-1e5335b05540",
   "metadata": {},
   "outputs": [],
   "source": [
    "\n",
    "final_model.fit( X_train, y_train )\n",
    "\n",
    "y_pred_lgbm = final_model.predict( X_val )\n",
    "y_proba = final_model.predict_proba( X_val )\n",
    "\n"
   ]
  },
  {
   "cell_type": "code",
   "execution_count": 33,
   "id": "e28555fa-ee71-4c66-906b-5681d3db6923",
   "metadata": {},
   "outputs": [
    {
     "data": {
      "text/html": [
       "<div>\n",
       "<style scoped>\n",
       "    .dataframe tbody tr th:only-of-type {\n",
       "        vertical-align: middle;\n",
       "    }\n",
       "\n",
       "    .dataframe tbody tr th {\n",
       "        vertical-align: top;\n",
       "    }\n",
       "\n",
       "    .dataframe thead th {\n",
       "        text-align: right;\n",
       "    }\n",
       "</style>\n",
       "<table border=\"1\" class=\"dataframe\">\n",
       "  <thead>\n",
       "    <tr style=\"text-align: right;\">\n",
       "      <th></th>\n",
       "      <th>Model Name</th>\n",
       "      <th>Accuracy_score</th>\n",
       "      <th>Precision_score</th>\n",
       "      <th>Recall</th>\n",
       "      <th>F1_score</th>\n",
       "      <th>ROC_AUC</th>\n",
       "    </tr>\n",
       "  </thead>\n",
       "  <tbody>\n",
       "    <tr>\n",
       "      <th>0</th>\n",
       "      <td>lgb_model</td>\n",
       "      <td>1.00</td>\n",
       "      <td>0.80</td>\n",
       "      <td>0.90</td>\n",
       "      <td>0.85</td>\n",
       "      <td>1.00</td>\n",
       "    </tr>\n",
       "  </tbody>\n",
       "</table>\n",
       "</div>"
      ],
      "text/plain": [
       "  Model Name  Accuracy_score  Precision_score  Recall  F1_score  ROC_AUC\n",
       "0  lgb_model            1.00             0.80    0.90      0.85     1.00"
      ]
     },
     "execution_count": 33,
     "metadata": {},
     "output_type": "execute_result"
    }
   ],
   "source": [
    "result_lgbm = eveluate_model( 'lgb_model', y_val , y_pred_lgbm, y_proba )\n",
    "result_lgbm"
   ]
  },
  {
   "cell_type": "code",
   "execution_count": 34,
   "id": "24df3ab4-8570-41ed-bd37-afcf125b47ce",
   "metadata": {},
   "outputs": [
    {
     "data": {
      "image/png": "[encoded data removed]",
      "text/plain": [
       "<Figure size 600x500 with 2 Axes>"
      ]
     },
     "metadata": {},
     "output_type": "display_data"
    }
   ],
   "source": [
    "cm = confusion_matrix(y_val, y_pred_lgbm)\n",
    "\n",
    "plt.figure(figsize=(6, 5))\n",
    "sns.heatmap(cm, annot=True, fmt='d', cmap='Blues')\n",
    "\n",
    "\n",
    "\n",
    "plt.show()"
   ]
  },
  {
   "cell_type": "markdown",
   "id": "d3cdbb0f-92a1-421c-9e4f-157de580880b",
   "metadata": {},
   "source": [
    "## 6 - Testing on unseen data"
   ]
  },
  {
   "cell_type": "code",
   "execution_count": 44,
   "id": "212ef083-e171-4c9b-a682-af94eafb65ed",
   "metadata": {},
   "outputs": [
    {
     "name": "stdout",
     "output_type": "stream",
     "text": [
      "====================================================================================================\n",
      "Test dataset:\n",
      " min date:2020-10-01 00:00:02 | max date :2020-12-31 23:59:34\n",
      "Positive class: 936.00 negative class: 280,585.00 \n",
      "====================================================================================================\n"
     ]
    }
   ],
   "source": [
    "X_test = df_test.loc[ (pd.to_datetime(df_test['trans_date_trans_time']) >= max_date_val ) & (pd.to_datetime(df_test['trans_date_trans_time'])<= max_date_df_test), :]\n",
    "y_test = X_test['is_fraud']\n",
    "X_test = X_test.drop('is_fraud',axis = 1)\n",
    "\n",
    "\n",
    "print('='*100)\n",
    "print(f'Test dataset:\\n min date:{X_test['trans_date_trans_time'].min()} | max date :{X_test['trans_date_trans_time'].max()}')\n",
    "print(f'Positive class: {y_test.value_counts()[1]:,.2f} negative class: {y_test.value_counts()[0]:,.2f} ')\n",
    "print('='*100)\n"
   ]
  },
  {
   "cell_type": "code",
   "execution_count": 45,
   "id": "864b1412-6f27-4446-b062-72195a083535",
   "metadata": {},
   "outputs": [],
   "source": [
    "X_test = feature_engineering( X_test )"
   ]
  },
  {
   "cell_type": "code",
   "execution_count": 46,
   "id": "77c740a0-9351-4ffe-a969-2dc695a76227",
   "metadata": {},
   "outputs": [
    {
     "name": "stdout",
     "output_type": "stream",
     "text": [
      "encodar como category_counts a coluna merchant\n",
      "encodar como TargetEncoder a coluna category\n",
      "encodar como category_counts a coluna first\n",
      "encodar como category_counts a coluna last\n",
      "encodar como OneHotEncoder a coluna gender\n",
      "encodar como category_counts a coluna street\n",
      "encodar como category_counts a coluna city\n",
      "encodar como TargetEncoder a coluna state\n",
      "encodar como category_counts a coluna job\n",
      "encodar como TargetEncoder a coluna most_frequent_category\n",
      "Colunas categoricas excluidas\n"
     ]
    }
   ],
   "source": [
    "X_test = encoding_test_data( X_test , enconding_map )"
   ]
  },
  {
   "cell_type": "code",
   "execution_count": 47,
   "id": "3ad7a184-cd91-4ef3-8e98-23a13dbaf7b4",
   "metadata": {},
   "outputs": [
    {
     "data": {
      "text/plain": [
       "array([False,  True,  True,  True,  True,  True,  True,  True,  True,\n",
       "       False, False, False, False,  True,  True, False, False, False,\n",
       "        True,  True,  True, False, False,  True,  True, False,  True,\n",
       "       False, False,  True,  True,  True,  True,  True,  True,  True,\n",
       "        True,  True,  True,  True,  True,  True, False, False,  True,\n",
       "        True,  True])"
      ]
     },
     "execution_count": 47,
     "metadata": {},
     "output_type": "execute_result"
    }
   ],
   "source": [
    "selected_columns"
   ]
  },
  {
   "cell_type": "code",
   "execution_count": 48,
   "id": "876f3bcd-3be0-4f22-b95e-5fb46d01f6d8",
   "metadata": {},
   "outputs": [],
   "source": [
    "# selecting columns\n",
    "X_test = X_test.iloc[:,selected_columns]\n"
   ]
  },
  {
   "cell_type": "markdown",
   "id": "f86c131a-7092-4d85-863f-a70907586671",
   "metadata": {},
   "source": [
    "### Results on new data"
   ]
  },
  {
   "cell_type": "code",
   "execution_count": 50,
   "id": "7191d023-80ca-4e18-9c3e-96a783845798",
   "metadata": {},
   "outputs": [
    {
     "data": {
      "text/html": [
       "<div>\n",
       "<style scoped>\n",
       "    .dataframe tbody tr th:only-of-type {\n",
       "        vertical-align: middle;\n",
       "    }\n",
       "\n",
       "    .dataframe tbody tr th {\n",
       "        vertical-align: top;\n",
       "    }\n",
       "\n",
       "    .dataframe thead th {\n",
       "        text-align: right;\n",
       "    }\n",
       "</style>\n",
       "<table border=\"1\" class=\"dataframe\">\n",
       "  <thead>\n",
       "    <tr style=\"text-align: right;\">\n",
       "      <th></th>\n",
       "      <th>Model Name</th>\n",
       "      <th>Accuracy_score</th>\n",
       "      <th>Precision_score</th>\n",
       "      <th>Recall</th>\n",
       "      <th>F1_score</th>\n",
       "      <th>ROC_AUC</th>\n",
       "    </tr>\n",
       "  </thead>\n",
       "  <tbody>\n",
       "    <tr>\n",
       "      <th>0</th>\n",
       "      <td>LGBMClassifier(colsample_bytree=0.831954393528...</td>\n",
       "      <td>1.00</td>\n",
       "      <td>0.59</td>\n",
       "      <td>0.94</td>\n",
       "      <td>0.72</td>\n",
       "      <td>0.97</td>\n",
       "    </tr>\n",
       "  </tbody>\n",
       "</table>\n",
       "</div>"
      ],
      "text/plain": [
       "                                          Model Name  Accuracy_score  \\\n",
       "0  LGBMClassifier(colsample_bytree=0.831954393528...            1.00   \n",
       "\n",
       "   Precision_score  Recall  F1_score  ROC_AUC  \n",
       "0             0.59    0.94      0.72     0.97  "
      ]
     },
     "metadata": {},
     "output_type": "display_data"
    },
    {
     "data": {
      "image/png": "[encoded data removed]",
      "text/plain": [
       "<Figure size 600x500 with 2 Axes>"
      ]
     },
     "metadata": {},
     "output_type": "display_data"
    },
    {
     "name": "stderr",
     "output_type": "stream",
     "text": [
      "C:\\Users\\oscar\\AppData\\Local\\Temp\\ipykernel_9512\\2056674609.py:35: FutureWarning: \n",
      "\n",
      "Passing `palette` without assigning `hue` is deprecated and will be removed in v0.14.0. Assign the `y` variable to `hue` and set `legend=False` for the same effect.\n",
      "\n",
      "  sns.barplot(x='Importance', y='Feature', data=top_features, palette='viridis')\n"
     ]
    },
    {
     "data": {
      "image/png": "[encoded data removed]",
      "text/plain": [
       "<Figure size 1000x600 with 1 Axes>"
      ]
     },
     "metadata": {},
     "output_type": "display_data"
    }
   ],
   "source": [
    "y_pred = final_model.predict( X_test )\n",
    "\n",
    "y_pred_proba =  final_model.predict( X_test )\n",
    "\n",
    "evaluation = eveluate_model( final_model, y_test ,y_pred, y_pred_proba)\n",
    "\n",
    "display(evaluation)\n",
    "\n",
    "cm = confusion_matrix(y_test, y_pred)\n",
    "\n",
    "plt.figure(figsize=(6, 5))\n",
    "sns.heatmap(cm, annot=True, fmt='d', cmap='Blues', xticklabels=['Not Fraud', 'Fraud'], yticklabels=['Not Fraud', 'Fraud'])\n",
    "plt.title(f'Confusion Matrix for {final_model}')\n",
    "plt.xlabel('Predicted')\n",
    "plt.ylabel('True')\n",
    "plt.show()\n",
    "\n",
    "importances = final_model.feature_importances_\n",
    "features = X_test.columns \n",
    "\n",
    "  \n",
    "df_importances = pd.DataFrame({\n",
    "    'Feature': features,\n",
    "    'Importance': importances\n",
    "})\n",
    "\n",
    "  \n",
    "df_importances = df_importances.sort_values(by='Importance', ascending=False)\n",
    "\n",
    " \n",
    "\n",
    "top_features = df_importances\n",
    "\n",
    "plt.figure(figsize=(10, 6))\n",
    "sns.barplot(x='Importance', y='Feature', data=top_features, palette='viridis')\n",
    "plt.title(f'Feature Importances - {'Lgbm Final Model'}')\n",
    "plt.xlabel('Importance')\n",
    "plt.ylabel('Features')\n",
    "plt.show()"
   ]
  },
  {
   "cell_type": "code",
   "execution_count": null,
   "id": "da6b3f0b-96ff-42ba-aeb8-41b4ea070ce9",
   "metadata": {},
   "outputs": [],
   "source": []
  },
  {
   "cell_type": "code",
   "execution_count": null,
   "id": "da6c35c0-5db7-4d3a-863e-c5be5976e491",
   "metadata": {},
   "outputs": [],
   "source": []
  },
  {
   "cell_type": "code",
   "execution_count": null,
   "id": "29f69fcb-3b03-44f9-9aa6-6c470d3adea8",
   "metadata": {},
   "outputs": [],
   "source": []
  },
  {
   "cell_type": "code",
   "execution_count": null,
   "id": "d3e35790-fb05-43d9-9f4e-e623ccdb46e1",
   "metadata": {},
   "outputs": [],
   "source": []
  },
  {
   "cell_type": "code",
   "execution_count": null,
   "id": "f146cf69-49b8-4157-a4b3-1607c730931b",
   "metadata": {},
   "outputs": [],
   "source": []
  },
  {
   "cell_type": "code",
   "execution_count": null,
   "id": "8ff85d31-98c7-48d0-98a2-2c077fb5753e",
   "metadata": {},
   "outputs": [],
   "source": []
  }
 ],
 "metadata": {
  "kernelspec": {
   "display_name": "venv-fraud-dectection",
   "language": "python",
   "name": "venv-fraud-dectection"
  },
  "language_info": {
   "codemirror_mode": {
    "name": "ipython",
    "version": 3
   },
   "file_extension": ".py",
   "mimetype": "text/x-python",
   "name": "python",
   "nbconvert_exporter": "python",
   "pygments_lexer": "ipython3",
   "version": "3.12.5"
  }
 },
 "nbformat": 4,
 "nbformat_minor": 5
}
