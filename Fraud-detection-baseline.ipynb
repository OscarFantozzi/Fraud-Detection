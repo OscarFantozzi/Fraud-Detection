{
 "cells": [
  {
   "cell_type": "markdown",
   "id": "4792ca47-7ab9-4098-a1dd-4e3d18a5a8a2",
   "metadata": {},
   "source": [
    "# Imports"
   ]
  },
  {
   "cell_type": "code",
   "execution_count": 39,
   "id": "264e10da-69e1-4628-a354-b3655395ca23",
   "metadata": {},
   "outputs": [],
   "source": [
    "import pandas  as pd\n",
    "import seaborn as sns\n",
    "import joblib\n",
    "import numpy  as np\n",
    "\n",
    "import matplotlib.pyplot as plt\n",
    "import plotly.express    as px\n",
    "import seaborn           as sns\n",
    "\n",
    "from sklearn.model_selection import train_test_split\n",
    "from category_encoders       import OneHotEncoder,TargetEncoder,BinaryEncoder\n",
    "from sklearn.model_selection import TimeSeriesSplit\n",
    "\n",
    "# models\n",
    "from sklearn.ensemble import RandomForestClassifier\n",
    "import xgboost as xgb\n",
    "import lightgbm as lgb\n",
    "\n",
    "# metrics\n",
    "from sklearn.metrics import accuracy_score, precision_score, recall_score,f1_score,roc_auc_score,confusion_matrix\n",
    "from sklearn.model_selection import cross_val_predict, StratifiedKFold\n"
   ]
  },
  {
   "cell_type": "markdown",
   "id": "127977c7-7da1-4b09-a2aa-c3c0e12639d8",
   "metadata": {},
   "source": [
    "### 0.0 - Functions"
   ]
  },
  {
   "cell_type": "code",
   "execution_count": 2,
   "id": "91c348a8-f83d-47d0-a404-49f9d4b049d4",
   "metadata": {},
   "outputs": [],
   "source": [
    "def encoding_trainig_data( df, y):\n",
    "\n",
    "    dict_encoders = {}\n",
    "    \n",
    "    df_cat = df.select_dtypes(include=['object']).columns\n",
    "    \n",
    "    unique_count = df[df_cat].nunique() \n",
    "    \n",
    "    df_aux = pd.DataFrame(unique_count).reset_index().rename(columns = {'index': 'category', 0: 'count'})\n",
    "\n",
    "    for line in df_aux.iterrows():\n",
    "\n",
    "        # applying one hot encoding\n",
    "        if line[1]['count'] >=2 and line[1]['count'] <=6:\n",
    "\n",
    "            ohe = OneHotEncoder(handle_unknown='value')\n",
    "\n",
    "            ohe_trained = ohe.fit( df[ [ line[1]['category'] ] ])\n",
    "\n",
    "            joblib.dump(ohe_trained, f'encoders/ohe_trained{line[1]['category']}.pkl')\n",
    "\n",
    "            df_ohe = ohe_trained.transform( df[ [ line[1]['category'] ] ] ) \n",
    "\n",
    "            df = pd.concat( [df, df_ohe] , axis = 1 ).drop( line[1]['category'], axis = 1 )\n",
    "            \n",
    "            print(f'One Hot Encoding columns applied to: {line[1]['category']} column that has {line[1]['count']} values.')\n",
    "\n",
    "            dict_encoders[line[1]['category']] = 'OneHotEncoder'\n",
    "\n",
    "        # applying target encoding\n",
    "        if line[1]['count'] >=10 and line[1]['count'] <=60:\n",
    "\n",
    "            te = TargetEncoder(handle_unknown='value')\n",
    "\n",
    "            te_trained = te.fit( df[ [ line[1]['category'] ] ] , y = y )\n",
    "\n",
    "            joblib.dump(te_trained, f'encoders/te_trained{line[1]['category']}.pkl')\n",
    "\n",
    "            df[ line[1]['category'] ] = te_trained.transform( df[ [ line[1]['category'] ] ] ) \n",
    "\n",
    "            print( f'Target Enconding applied to: {line[1]['category']} column that has {line[1]['count']} values.' )\n",
    "\n",
    "            dict_encoders[line[1]['category']] = 'TargetEncoder'\n",
    "\n",
    "        # applying frequency encoding\n",
    "        if line[1]['count'] >=60:\n",
    "\n",
    "            category_counts = df[ line[1]['category'] ].value_counts()\n",
    "\n",
    "            df[ line[1]['category'] ] =  df[ line[1]['category'] ].map( category_counts )\n",
    "\n",
    "            joblib.dump(category_counts, f'encoders/category_counts{line[1]['category']}.pkl')\n",
    "\n",
    "            print(f'Frequency Encoding applied to: {line[1]['category']} column that has {line[1]['count']} values.')\n",
    "\n",
    "            dict_encoders[line[1]['category']] = 'category_counts'\n",
    "            \n",
    "    return df, dict_encoders\n",
    "\n",
    "\n",
    "def transform_data(df):\n",
    "\n",
    "    df['trans_date_trans_time'] = pd.to_datetime( df['trans_date_trans_time']  )\n",
    "\n",
    "    df['dob'] = pd.to_datetime( df['dob'] )\n",
    "\n",
    "    # extract year\n",
    "    df['trans_date_trans_time_year'] = df['trans_date_trans_time'].dt.year\n",
    "\n",
    "    # extract month\n",
    "    df['trans_date_trans_time_month'] = df['trans_date_trans_time'].dt.month\n",
    "\n",
    "    # extract day\n",
    "    df['trans_date_trans_time_day'] = df['trans_date_trans_time'].dt.day\n",
    "\n",
    "    # convert into datetime format\n",
    "    df['dob'] = pd.to_datetime(df['dob'])\n",
    "\n",
    "    # extract year from dob\n",
    "    df['dob_year'] = df['dob'].dt.year\n",
    "    \n",
    "    # extract month from dob\n",
    "    df['dob_month'] = df['dob'].dt.month\n",
    "\n",
    "    # extract day from dob\n",
    "    df['dob_day'] = df['dob'].dt.day\n",
    "\n",
    "    df = df.drop( ['dob','trans_date_trans_time','Unnamed: 0','trans_num'], axis = 1 )\n",
    "\n",
    "    \n",
    "\n",
    "    return df\n",
    "\n",
    "def encoding_trainig_data( df, y):\n",
    "\n",
    "    dict_encoders = {}\n",
    "    \n",
    "    df_cat = df.select_dtypes(include=['object']).columns\n",
    "    \n",
    "    unique_count = df[df_cat].nunique() \n",
    "    \n",
    "    df_aux = pd.DataFrame(unique_count).reset_index().rename(columns = {'index': 'category', 0: 'count'})\n",
    "\n",
    "    for line in df_aux.iterrows():\n",
    "\n",
    "        # applying one hot encoding\n",
    "        if line[1]['count'] >=2 and line[1]['count'] <=6:\n",
    "\n",
    "            ohe = OneHotEncoder(handle_unknown='value')\n",
    "\n",
    "            ohe_trained = ohe.fit( df[ [ line[1]['category'] ] ])\n",
    "\n",
    "            joblib.dump(ohe_trained, f'encoders/ohe_trained{line[1]['category']}.pkl')\n",
    "\n",
    "            df_ohe = ohe_trained.transform( df[ [ line[1]['category'] ] ] ) \n",
    "\n",
    "            df = pd.concat( [df, df_ohe] , axis = 1 ).drop( line[1]['category'], axis = 1 )\n",
    "            \n",
    "            print(f'One Hot Encoding columns applied to: {line[1]['category']} column that has {line[1]['count']} values.')\n",
    "\n",
    "            dict_encoders[line[1]['category']] = 'OneHotEncoder'\n",
    "\n",
    "        # applying target encoding\n",
    "        if line[1]['count'] >=10 and line[1]['count'] <=60:\n",
    "\n",
    "            te = TargetEncoder(handle_unknown='value')\n",
    "\n",
    "            te_trained = te.fit( df[ [ line[1]['category'] ] ] , y = y )\n",
    "\n",
    "            joblib.dump(te_trained, f'encoders/te_trained{line[1]['category']}.pkl')\n",
    "\n",
    "            df[ line[1]['category'] ] = te_trained.transform( df[ [ line[1]['category'] ] ] ) \n",
    "\n",
    "            print( f'Target Enconding applied to: {line[1]['category']} column that has {line[1]['count']} values.' )\n",
    "\n",
    "            dict_encoders[line[1]['category']] = 'TargetEncoder'\n",
    "\n",
    "        # applying frequency encoding\n",
    "        if line[1]['count'] >=60:\n",
    "\n",
    "            category_counts = df[ line[1]['category'] ].value_counts()\n",
    "\n",
    "            df[ line[1]['category'] ] =  df[ line[1]['category'] ].map( category_counts )\n",
    "\n",
    "            joblib.dump(category_counts, f'encoders/category_counts{line[1]['category']}.pkl')\n",
    "\n",
    "            print(f'Frequency Encoding applied to: {line[1]['category']} column that has {line[1]['count']} values.')\n",
    "\n",
    "            dict_encoders[line[1]['category']] = 'category_counts'\n",
    "            \n",
    "    return df, dict_encoders\n",
    "    \n",
    "def encoding_test_data(df, enconding_map ):\n",
    "\n",
    "    test_cat_columns = df.select_dtypes( include = 'object' ).columns\n",
    "\n",
    "    for chave,valor in enconding_map.items():\n",
    "        \n",
    "        if valor == 'category_counts':\n",
    "\n",
    "            print(f'encodar como {valor} a coluna {chave}')\n",
    "    \n",
    "            fe_trained = joblib.load( f'encoders/category_counts{chave}.pkl' )\n",
    "            \n",
    "            df[chave] = df[chave].map( fe_trained )\n",
    "\n",
    "        if valor == 'TargetEncoder':\n",
    "\n",
    "            print(f'encodar como {valor} a coluna {chave}')\n",
    "    \n",
    "            te_trained = joblib.load( f'encoders/te_trained{chave}.pkl' )\n",
    "    \n",
    "            df[chave] = te_trained.transform( df[chave] )\n",
    "\n",
    "        if valor == 'OneHotEncoder':\n",
    "\n",
    "            print(f'encodar como {valor} a coluna {chave}')\n",
    "    \n",
    "            ohe = joblib.load( f'encoders/ohe_trained{chave}.pkl' )\n",
    "    \n",
    "            df_ohe = ohe.transform( df[chave] )\n",
    "\n",
    "            df = pd.concat( [df, df_ohe], axis = 1 )\n",
    "\n",
    "           \n",
    "    df = df.fillna(0)\n",
    "\n",
    "    return df.drop( 'gender', axis = 1 )\n",
    "\n",
    "        \n",
    "def eveluate_model(model_name, y_test, y_pred, y_pred_proba):\n",
    "\n",
    "    df_result = pd.DataFrame()\n",
    "\n",
    "    accuracy = accuracy_score(y_test, y_pred)\n",
    "\n",
    "    precision = precision_score( y_test , y_pred )\n",
    "\n",
    "    recall = recall_score( y_test , y_pred )\n",
    "\n",
    "    f1 = f1_score( y_test , y_pred,average='binary' )\n",
    "\n",
    "    if y_pred_proba.ndim == 2:\n",
    "        roc = roc_auc_score(y_test, y_pred_proba[:, 1])  # Usando a probabilidade da classe positiva\n",
    "    else:\n",
    "        roc = roc_auc_score(y_test, y_pred_proba)\n",
    "\n",
    "\n",
    "    dict_results = {'Model Name': model_name,\n",
    "     'Accuracy_score': accuracy,\n",
    "     'Precision_score': precision,\n",
    "     'Recall': recall,\n",
    "     'F1_score': f1,\n",
    "     'ROC_AUC' : roc\n",
    "    }\n",
    "\n",
    "    return pd.DataFrame( dict_results, index = [0] )\n",
    "    \n",
    "        \n",
    "def evaluate_model_cv(model, X, y, cv=5):\n",
    "\n",
    "\n",
    "    tscv = TimeSeriesSplit(n_splits=cv)\n",
    "\n",
    "    \n",
    "    accuracy_scores = []\n",
    "    precision_scores = []\n",
    "    recall_scores = []\n",
    "    f1_scores = []\n",
    "    roc_auc_scores = []\n",
    "    \n",
    "\n",
    "    for train_index, val_index in tscv.split(X, y):\n",
    "        X_train, X_val = X.iloc[train_index], X.iloc[val_index]\n",
    "        y_train, y_val = y.iloc[train_index], y.iloc[val_index]\n",
    "    \n",
    "    \n",
    "        model.fit(X_train, y_train)\n",
    "    \n",
    "    \n",
    "        y_pred = model.predict(X_val)\n",
    "        y_pred_proba = model.predict_proba(X_val)[:, 1]\n",
    "\n",
    "    \n",
    "        accuracy_scores.append(accuracy_score(y_val, y_pred))\n",
    "        precision_scores.append(precision_score(y_val, y_pred))\n",
    "        recall_scores.append(recall_score(y_val, y_pred))\n",
    "        f1_scores.append(f1_score(y_val, y_pred,average='binary' ))\n",
    "        if y_pred_proba.ndim == 2:\n",
    "            roc = roc_auc_score(y_val, y_pred_proba[:, 1])  # Usando a probabilidade da classe positiva\n",
    "        else:\n",
    "            roc = roc_auc_score(y_val, y_pred_proba)\n",
    "    \n",
    "    \n",
    "    results = {\n",
    "        'Model Name': str(model),\n",
    "        'Accuracy_score': np.mean(accuracy_scores),\n",
    "        'Precision_score': np.mean(precision_scores),\n",
    "        'Recall': np.mean(recall_scores),\n",
    "        'F1_score': np.mean(f1_scores),\n",
    "        'ROC_AUC': np.mean(roc_auc_scores)\n",
    "    }\n",
    "    \n",
    "    \n",
    "    return pd.DataFrame(results, index=[0])\n"
   ]
  },
  {
   "cell_type": "markdown",
   "id": "4afdbe84-e505-40ff-abb2-348d680a25a4",
   "metadata": {},
   "source": [
    "## 1.0 Load Data"
   ]
  },
  {
   "cell_type": "code",
   "execution_count": 3,
   "id": "7fa813f4-9aec-40d8-8f82-e867a1fb3dcb",
   "metadata": {},
   "outputs": [],
   "source": [
    "df = pd.read_csv( r'data/fraudTrain.csv' )\n",
    "df_test = pd.read_csv(r'data/fraudTest.csv')\n",
    "df.head().to_csv('sample.data.csv') "
   ]
  },
  {
   "cell_type": "markdown",
   "id": "4983bf13-e250-435a-8b16-af9a25d1710c",
   "metadata": {},
   "source": [
    "## 2.0 Check Data"
   ]
  },
  {
   "cell_type": "code",
   "execution_count": 4,
   "id": "82180f1b-8f0d-4d7f-84b0-2c34476be5f0",
   "metadata": {},
   "outputs": [],
   "source": [
    "df2 = df.copy()"
   ]
  },
  {
   "cell_type": "markdown",
   "id": "ed542d35-4bd4-4ccf-997a-87f16dae0d17",
   "metadata": {},
   "source": [
    "### 2.1 - Check Shape"
   ]
  },
  {
   "cell_type": "code",
   "execution_count": 5,
   "id": "6de8bf1d-cd65-4d35-93e7-266aadd72abc",
   "metadata": {},
   "outputs": [
    {
     "data": {
      "text/plain": [
       "(1296675, 23)"
      ]
     },
     "execution_count": 5,
     "metadata": {},
     "output_type": "execute_result"
    }
   ],
   "source": [
    "df2.shape"
   ]
  },
  {
   "cell_type": "markdown",
   "id": "93e33c33-f78d-471b-b19b-58fe3abf1b7f",
   "metadata": {},
   "source": [
    "## 3.0 - Split Data Into Train and Test"
   ]
  },
  {
   "cell_type": "code",
   "execution_count": 6,
   "id": "b57d4d6c-3347-4973-91d5-b4b82d1cf2ac",
   "metadata": {},
   "outputs": [],
   "source": [
    "df3 = df2.copy()\n",
    "\n",
    "# convert into datetime format\n",
    "df3['trans_date_trans_time'] = pd.to_datetime(df3['trans_date_trans_time'])\n",
    "\n",
    "# order df by customer account and datetime in ascending order \n",
    "df3 = df3.sort_values( by = ['cc_num','trans_date_trans_time'], ascending = True )"
   ]
  },
  {
   "cell_type": "code",
   "execution_count": 7,
   "id": "cc972cf1-3976-44a4-af59-edbae0ddcfe2",
   "metadata": {},
   "outputs": [],
   "source": [
    "# min date val\n",
    "min_date = pd.to_datetime(df_test['trans_date_trans_time']).min() + pd.Timedelta(days=1)\n",
    "\n",
    "# max date val\n",
    "max_date_df_test = pd.to_datetime(df_test['trans_date_trans_time']).max()\n",
    "\n",
    "# max date train val\n",
    "max_date_val = max_date_df_test - pd.DateOffset(months=3)\n",
    "\n"
   ]
  },
  {
   "cell_type": "code",
   "execution_count": 8,
   "id": "9c5293c2-0c10-4f89-8073-335edc2d7581",
   "metadata": {},
   "outputs": [],
   "source": [
    "# split data into X_train\n",
    "X_train = df3.drop('is_fraud', axis = 1)\n",
    "\n",
    "# y_train\n",
    "y_train = df3['is_fraud']\n",
    "\n",
    "# X_val\n",
    "X_val = df_test.loc[ (pd.to_datetime(df_test['trans_date_trans_time']) >= min_date ) & (pd.to_datetime(df_test['trans_date_trans_time']) <= max_date_val), : ]\n",
    "\n",
    "# y val\n",
    "y_val = X_val['is_fraud']\n",
    "\n",
    "# drop y\n",
    "X_val = X_val.drop('is_fraud', axis = 1)\n"
   ]
  },
  {
   "cell_type": "markdown",
   "id": "a89cc181-7a32-49db-a066-03c50a8b6c51",
   "metadata": {},
   "source": [
    "### Drop Columns"
   ]
  },
  {
   "cell_type": "code",
   "execution_count": 9,
   "id": "39a4d601-f4df-47ae-b30e-f5d4d953c792",
   "metadata": {},
   "outputs": [],
   "source": [
    "# drop column\n",
    "X_train = X_train.drop( ['Unnamed: 0','trans_num'], axis = 1 )"
   ]
  },
  {
   "cell_type": "markdown",
   "id": "1cd781ac-f961-464c-80ad-5de1b2cf03e2",
   "metadata": {},
   "source": [
    "### 3.1 - Check Nulls"
   ]
  },
  {
   "cell_type": "code",
   "execution_count": 10,
   "id": "0baf4c00-a4a5-44c8-8d84-24f987de0010",
   "metadata": {},
   "outputs": [
    {
     "data": {
      "text/plain": [
       "trans_date_trans_time    0\n",
       "cc_num                   0\n",
       "merchant                 0\n",
       "category                 0\n",
       "amt                      0\n",
       "first                    0\n",
       "last                     0\n",
       "gender                   0\n",
       "street                   0\n",
       "city                     0\n",
       "state                    0\n",
       "zip                      0\n",
       "lat                      0\n",
       "long                     0\n",
       "city_pop                 0\n",
       "job                      0\n",
       "dob                      0\n",
       "unix_time                0\n",
       "merch_lat                0\n",
       "merch_long               0\n",
       "dtype: int64"
      ]
     },
     "execution_count": 10,
     "metadata": {},
     "output_type": "execute_result"
    }
   ],
   "source": [
    "X_train.isna().sum()"
   ]
  },
  {
   "cell_type": "markdown",
   "id": "1e10c08f-bce4-48ee-9b35-2a6d93884fd8",
   "metadata": {},
   "source": [
    "### 3.2 - Check Dtypes"
   ]
  },
  {
   "cell_type": "code",
   "execution_count": 11,
   "id": "a2e6f10a-3f4b-493d-b29e-fbe8ca70f4f2",
   "metadata": {},
   "outputs": [
    {
     "data": {
      "text/plain": [
       "trans_date_trans_time    datetime64[ns]\n",
       "cc_num                            int64\n",
       "merchant                         object\n",
       "category                         object\n",
       "amt                             float64\n",
       "first                            object\n",
       "last                             object\n",
       "gender                           object\n",
       "street                           object\n",
       "city                             object\n",
       "state                            object\n",
       "zip                               int64\n",
       "lat                             float64\n",
       "long                            float64\n",
       "city_pop                          int64\n",
       "job                              object\n",
       "dob                              object\n",
       "unix_time                         int64\n",
       "merch_lat                       float64\n",
       "merch_long                      float64\n",
       "dtype: object"
      ]
     },
     "execution_count": 11,
     "metadata": {},
     "output_type": "execute_result"
    }
   ],
   "source": [
    "X_train.dtypes"
   ]
  },
  {
   "cell_type": "markdown",
   "id": "1c55289a-b290-4fd0-a8a8-18e9c1f76066",
   "metadata": {},
   "source": [
    "### 3.3 - Extract Date Parts"
   ]
  },
  {
   "cell_type": "code",
   "execution_count": 12,
   "id": "7aafd350-ce84-4079-bf7d-0574857ad988",
   "metadata": {},
   "outputs": [],
   "source": [
    "# extract year\n",
    "X_train['trans_date_trans_time_year'] = X_train['trans_date_trans_time'].dt.year\n",
    "\n",
    "# extract month\n",
    "X_train['trans_date_trans_time_month'] = X_train['trans_date_trans_time'].dt.month\n",
    "\n",
    "# extract day\n",
    "X_train['trans_date_trans_time_day'] =   X_train['trans_date_trans_time'].dt.day\n",
    "\n",
    "# convert into datetime format\n",
    "X_train['dob'] = pd.to_datetime(X_train['dob'])\n",
    "\n",
    "# extract year from dob\n",
    "X_train['dob_year'] = X_train['dob'].dt.year\n",
    "\n",
    "# extract month from dob\n",
    "X_train['dob_month'] = X_train['dob'].dt.month\n",
    "\n",
    "# extract day from dob\n",
    "X_train['dob_day'] = X_train['dob'].dt.day\n",
    "\n",
    "X_train = X_train.drop( ['dob','trans_date_trans_time'], axis = 1 )\n"
   ]
  },
  {
   "cell_type": "markdown",
   "id": "a1dda8d2-81b7-40c7-88d2-228cac70cf67",
   "metadata": {},
   "source": [
    "### 3.4 - Pre processing Train Data"
   ]
  },
  {
   "cell_type": "code",
   "execution_count": 13,
   "id": "9e994267-6bce-4ced-8f9d-f7f25954b5e1",
   "metadata": {},
   "outputs": [
    {
     "name": "stdout",
     "output_type": "stream",
     "text": [
      "Frequency Encoding applied to: merchant column that has 693 values.\n",
      "Target Enconding applied to: category column that has 14 values.\n",
      "Frequency Encoding applied to: first column that has 352 values.\n",
      "Frequency Encoding applied to: last column that has 481 values.\n",
      "One Hot Encoding columns applied to: gender column that has 2 values.\n",
      "Frequency Encoding applied to: street column that has 983 values.\n",
      "Frequency Encoding applied to: city column that has 894 values.\n",
      "Target Enconding applied to: state column that has 51 values.\n",
      "Frequency Encoding applied to: job column that has 494 values.\n"
     ]
    }
   ],
   "source": [
    "X_train, enconding_map = encoding_trainig_data(X_train,y_train)"
   ]
  },
  {
   "cell_type": "markdown",
   "id": "d3ccecd1-55c6-494c-a2d4-3b140209fd76",
   "metadata": {},
   "source": [
    "### 3.5 - Pre processing Test Data"
   ]
  },
  {
   "cell_type": "code",
   "execution_count": 14,
   "id": "21756e0f-d193-47fe-ac41-570ca003a598",
   "metadata": {},
   "outputs": [],
   "source": [
    "X_val = transform_data(X_val)"
   ]
  },
  {
   "cell_type": "code",
   "execution_count": 15,
   "id": "4e7204e7-ec84-4855-a36d-ee0d77f93048",
   "metadata": {},
   "outputs": [
    {
     "name": "stdout",
     "output_type": "stream",
     "text": [
      "encodar como category_counts a coluna merchant\n",
      "encodar como TargetEncoder a coluna category\n",
      "encodar como category_counts a coluna first\n",
      "encodar como category_counts a coluna last\n",
      "encodar como OneHotEncoder a coluna gender\n",
      "encodar como category_counts a coluna street\n",
      "encodar como category_counts a coluna city\n",
      "encodar como TargetEncoder a coluna state\n",
      "encodar como category_counts a coluna job\n"
     ]
    }
   ],
   "source": [
    "X_val = encoding_test_data( X_val, enconding_map )"
   ]
  },
  {
   "cell_type": "markdown",
   "id": "179a6550-664c-459d-b4aa-4af73e0b34df",
   "metadata": {},
   "source": [
    "## 4 - Training Models"
   ]
  },
  {
   "cell_type": "markdown",
   "id": "153ff4e3-11ee-4999-9f1a-04d20c25339a",
   "metadata": {},
   "source": [
    "### Random Forest"
   ]
  },
  {
   "cell_type": "code",
   "execution_count": 16,
   "id": "c6eb4dbc-5b6f-4dd9-b794-fea0e2514547",
   "metadata": {},
   "outputs": [],
   "source": [
    "# instancing \n",
    "rf = RandomForestClassifier( n_estimators=100,\n",
    "                             class_weight = 'balanced',\n",
    "                             random_state=42,\n",
    "                             n_jobs = 8\n",
    "                           )\n",
    "\n",
    "rf.fit( X_train, y_train )\n",
    "\n",
    "y_pred_rf = rf.predict( X_val )\n",
    "\n",
    "y_prob = rf.predict_proba(X_val)\n"
   ]
  },
  {
   "cell_type": "code",
   "execution_count": 17,
   "id": "e7fac39a-9051-428d-822f-075606087de5",
   "metadata": {},
   "outputs": [
    {
     "data": {
      "text/html": [
       "<div>\n",
       "<style scoped>\n",
       "    .dataframe tbody tr th:only-of-type {\n",
       "        vertical-align: middle;\n",
       "    }\n",
       "\n",
       "    .dataframe tbody tr th {\n",
       "        vertical-align: top;\n",
       "    }\n",
       "\n",
       "    .dataframe thead th {\n",
       "        text-align: right;\n",
       "    }\n",
       "</style>\n",
       "<table border=\"1\" class=\"dataframe\">\n",
       "  <thead>\n",
       "    <tr style=\"text-align: right;\">\n",
       "      <th></th>\n",
       "      <th>Model Name</th>\n",
       "      <th>Accuracy_score</th>\n",
       "      <th>Precision_score</th>\n",
       "      <th>Recall</th>\n",
       "      <th>F1_score</th>\n",
       "      <th>ROC_AUC</th>\n",
       "    </tr>\n",
       "  </thead>\n",
       "  <tbody>\n",
       "    <tr>\n",
       "      <th>0</th>\n",
       "      <td>Random Forest</td>\n",
       "      <td>0.996474</td>\n",
       "      <td>0.991701</td>\n",
       "      <td>0.200672</td>\n",
       "      <td>0.333799</td>\n",
       "      <td>0.93074</td>\n",
       "    </tr>\n",
       "  </tbody>\n",
       "</table>\n",
       "</div>"
      ],
      "text/plain": [
       "      Model Name  Accuracy_score  Precision_score    Recall  F1_score  ROC_AUC\n",
       "0  Random Forest        0.996474         0.991701  0.200672  0.333799  0.93074"
      ]
     },
     "execution_count": 17,
     "metadata": {},
     "output_type": "execute_result"
    }
   ],
   "source": [
    "result_rf = eveluate_model( 'Random Forest', y_val ,y_pred_rf,y_prob )\n",
    "result_rf"
   ]
  },
  {
   "cell_type": "code",
   "execution_count": 18,
   "id": "68f02e62-b7f8-4c59-9983-e5d3729226a2",
   "metadata": {},
   "outputs": [
    {
     "name": "stderr",
     "output_type": "stream",
     "text": [
      "D:\\repos\\fraud detection\\venv-fraud-detection\\Lib\\site-packages\\numpy\\core\\fromnumeric.py:3504: RuntimeWarning: Mean of empty slice.\n",
      "  return _methods._mean(a, axis=axis, dtype=dtype,\n",
      "D:\\repos\\fraud detection\\venv-fraud-detection\\Lib\\site-packages\\numpy\\core\\_methods.py:129: RuntimeWarning: invalid value encountered in scalar divide\n",
      "  ret = ret.dtype.type(ret / rcount)\n"
     ]
    },
    {
     "data": {
      "text/html": [
       "<div>\n",
       "<style scoped>\n",
       "    .dataframe tbody tr th:only-of-type {\n",
       "        vertical-align: middle;\n",
       "    }\n",
       "\n",
       "    .dataframe tbody tr th {\n",
       "        vertical-align: top;\n",
       "    }\n",
       "\n",
       "    .dataframe thead th {\n",
       "        text-align: right;\n",
       "    }\n",
       "</style>\n",
       "<table border=\"1\" class=\"dataframe\">\n",
       "  <thead>\n",
       "    <tr style=\"text-align: right;\">\n",
       "      <th></th>\n",
       "      <th>Model Name</th>\n",
       "      <th>Accuracy_score</th>\n",
       "      <th>Precision_score</th>\n",
       "      <th>Recall</th>\n",
       "      <th>F1_score</th>\n",
       "      <th>ROC_AUC</th>\n",
       "    </tr>\n",
       "  </thead>\n",
       "  <tbody>\n",
       "    <tr>\n",
       "      <th>0</th>\n",
       "      <td>RandomForestClassifier(class_weight='balanced'...</td>\n",
       "      <td>0.995634</td>\n",
       "      <td>0.982235</td>\n",
       "      <td>0.248162</td>\n",
       "      <td>0.388701</td>\n",
       "      <td>NaN</td>\n",
       "    </tr>\n",
       "  </tbody>\n",
       "</table>\n",
       "</div>"
      ],
      "text/plain": [
       "                                          Model Name  Accuracy_score  \\\n",
       "0  RandomForestClassifier(class_weight='balanced'...        0.995634   \n",
       "\n",
       "   Precision_score    Recall  F1_score  ROC_AUC  \n",
       "0         0.982235  0.248162  0.388701      NaN  "
      ]
     },
     "execution_count": 18,
     "metadata": {},
     "output_type": "execute_result"
    }
   ],
   "source": [
    "rf_cv = RandomForestClassifier( n_estimators=100,\n",
    "                             class_weight = 'balanced',\n",
    "                             random_state=42,\n",
    "                             n_jobs = 8\n",
    "                           )\n",
    "\n",
    "tscv = 3\n",
    "\n",
    "result_rf_cv = evaluate_model_cv(rf_cv, X_train ,y_train , tscv )\n",
    "result_rf_cv"
   ]
  },
  {
   "cell_type": "code",
   "execution_count": 19,
   "id": "45528b08-8983-4ca5-ac7e-27246c17a8e9",
   "metadata": {},
   "outputs": [
    {
     "data": {
      "image/png": "[encoded data removed]",
      "text/plain": [
       "<Figure size 600x500 with 2 Axes>"
      ]
     },
     "metadata": {},
     "output_type": "display_data"
    }
   ],
   "source": [
    "cm = confusion_matrix(y_val, y_pred_rf)\n",
    "\n",
    "plt.figure(figsize=(6, 5))\n",
    "sns.heatmap(cm, annot=True, fmt='d', cmap='Blues')\n",
    "\n",
    "\n",
    "# Exiba o gráfico\n",
    "plt.show()"
   ]
  },
  {
   "cell_type": "code",
   "execution_count": 20,
   "id": "952a09e5-4165-4d9e-b264-5d085d9732da",
   "metadata": {},
   "outputs": [
    {
     "name": "stderr",
     "output_type": "stream",
     "text": [
      "C:\\Users\\oscar\\AppData\\Local\\Temp\\ipykernel_6248\\2286433535.py:18: FutureWarning: \n",
      "\n",
      "Passing `palette` without assigning `hue` is deprecated and will be removed in v0.14.0. Assign the `y` variable to `hue` and set `legend=False` for the same effect.\n",
      "\n",
      "  sns.barplot(x='Importance', y='Feature', data=top_features, palette='viridis')\n"
     ]
    },
    {
     "data": {
      "image/png": "[encoded data removed]",
      "text/plain": [
       "<Figure size 1000x600 with 1 Axes>"
      ]
     },
     "metadata": {},
     "output_type": "display_data"
    }
   ],
   "source": [
    "X_train_valimportances = rf.feature_importances_\n",
    "features = X_train.columns \n",
    "\n",
    "\n",
    "df_importances = pd.DataFrame({\n",
    "    'Feature': features,\n",
    "    'Importance': X_train_valimportances\n",
    "})\n",
    "\n",
    "\n",
    "df_importances = df_importances.sort_values(by='Importance', ascending=False)\n",
    "\n",
    "top_n = 10\n",
    "top_features = df_importances\n",
    "\n",
    "\n",
    "plt.figure(figsize=(10, 6))\n",
    "sns.barplot(x='Importance', y='Feature', data=top_features, palette='viridis')\n",
    "plt.title(f'Top {top_n} Feature Importances')\n",
    "plt.xlabel('Importance')\n",
    "plt.ylabel('Features')\n",
    "plt.show()"
   ]
  },
  {
   "cell_type": "markdown",
   "id": "c2ab9939-2588-4ae7-b8bf-9ba33dd7326e",
   "metadata": {},
   "source": [
    "### Xgboost"
   ]
  },
  {
   "cell_type": "code",
   "execution_count": 21,
   "id": "1d3ae753-575b-4728-9242-744d1d445d37",
   "metadata": {},
   "outputs": [],
   "source": [
    "# instanciating\n",
    "xgb_model = xgb.XGBClassifier(\n",
    "    scale_pos_weight=3,  \n",
    "    objective='binary:logistic', \n",
    "    eval_metric='logloss',\n",
    "    random_state=42\n",
    ")\n",
    "\n",
    "\n",
    "xgb_model.fit( X_train, y_train )\n",
    "\n",
    "y_pred_xgb = xgb_model.predict( X_val )\n",
    "y_proba = xgb_model.predict_proba( X_val )\n"
   ]
  },
  {
   "cell_type": "code",
   "execution_count": 22,
   "id": "03b42234-fc6d-42e6-9500-85e8eb1f1687",
   "metadata": {},
   "outputs": [
    {
     "data": {
      "text/html": [
       "<div>\n",
       "<style scoped>\n",
       "    .dataframe tbody tr th:only-of-type {\n",
       "        vertical-align: middle;\n",
       "    }\n",
       "\n",
       "    .dataframe tbody tr th {\n",
       "        vertical-align: top;\n",
       "    }\n",
       "\n",
       "    .dataframe thead th {\n",
       "        text-align: right;\n",
       "    }\n",
       "</style>\n",
       "<table border=\"1\" class=\"dataframe\">\n",
       "  <thead>\n",
       "    <tr style=\"text-align: right;\">\n",
       "      <th></th>\n",
       "      <th>Model Name</th>\n",
       "      <th>Accuracy_score</th>\n",
       "      <th>Precision_score</th>\n",
       "      <th>Recall</th>\n",
       "      <th>F1_score</th>\n",
       "      <th>ROC_AUC</th>\n",
       "    </tr>\n",
       "  </thead>\n",
       "  <tbody>\n",
       "    <tr>\n",
       "      <th>0</th>\n",
       "      <td>xgb</td>\n",
       "      <td>0.996888</td>\n",
       "      <td>0.740028</td>\n",
       "      <td>0.451721</td>\n",
       "      <td>0.561001</td>\n",
       "      <td>0.986705</td>\n",
       "    </tr>\n",
       "  </tbody>\n",
       "</table>\n",
       "</div>"
      ],
      "text/plain": [
       "  Model Name  Accuracy_score  Precision_score    Recall  F1_score   ROC_AUC\n",
       "0        xgb        0.996888         0.740028  0.451721  0.561001  0.986705"
      ]
     },
     "execution_count": 22,
     "metadata": {},
     "output_type": "execute_result"
    }
   ],
   "source": [
    "result_xgb = eveluate_model( 'xgb', y_val , y_pred_xgb, y_proba )\n",
    "result_xgb"
   ]
  },
  {
   "cell_type": "code",
   "execution_count": 23,
   "id": "c02db0e2-79c9-4c6e-bb5e-2eac25670d1f",
   "metadata": {},
   "outputs": [
    {
     "name": "stderr",
     "output_type": "stream",
     "text": [
      "D:\\repos\\fraud detection\\venv-fraud-detection\\Lib\\site-packages\\numpy\\core\\fromnumeric.py:3504: RuntimeWarning: Mean of empty slice.\n",
      "  return _methods._mean(a, axis=axis, dtype=dtype,\n",
      "D:\\repos\\fraud detection\\venv-fraud-detection\\Lib\\site-packages\\numpy\\core\\_methods.py:129: RuntimeWarning: invalid value encountered in scalar divide\n",
      "  ret = ret.dtype.type(ret / rcount)\n"
     ]
    },
    {
     "data": {
      "text/html": [
       "<div>\n",
       "<style scoped>\n",
       "    .dataframe tbody tr th:only-of-type {\n",
       "        vertical-align: middle;\n",
       "    }\n",
       "\n",
       "    .dataframe tbody tr th {\n",
       "        vertical-align: top;\n",
       "    }\n",
       "\n",
       "    .dataframe thead th {\n",
       "        text-align: right;\n",
       "    }\n",
       "</style>\n",
       "<table border=\"1\" class=\"dataframe\">\n",
       "  <thead>\n",
       "    <tr style=\"text-align: right;\">\n",
       "      <th></th>\n",
       "      <th>Model Name</th>\n",
       "      <th>Accuracy_score</th>\n",
       "      <th>Precision_score</th>\n",
       "      <th>Recall</th>\n",
       "      <th>F1_score</th>\n",
       "      <th>ROC_AUC</th>\n",
       "    </tr>\n",
       "  </thead>\n",
       "  <tbody>\n",
       "    <tr>\n",
       "      <th>0</th>\n",
       "      <td>XGBClassifier(base_score=None, booster=None, c...</td>\n",
       "      <td>0.996475</td>\n",
       "      <td>0.923317</td>\n",
       "      <td>0.429028</td>\n",
       "      <td>0.576163</td>\n",
       "      <td>NaN</td>\n",
       "    </tr>\n",
       "  </tbody>\n",
       "</table>\n",
       "</div>"
      ],
      "text/plain": [
       "                                          Model Name  Accuracy_score  \\\n",
       "0  XGBClassifier(base_score=None, booster=None, c...        0.996475   \n",
       "\n",
       "   Precision_score    Recall  F1_score  ROC_AUC  \n",
       "0         0.923317  0.429028  0.576163      NaN  "
      ]
     },
     "execution_count": 23,
     "metadata": {},
     "output_type": "execute_result"
    }
   ],
   "source": [
    "xgb_model_cv = xgb.XGBClassifier(\n",
    "    scale_pos_weight=3,  \n",
    "    objective='binary:logistic', \n",
    "    eval_metric='logloss', \n",
    "    random_state=42\n",
    ")\n",
    "\n",
    "tscv_xgb = 3\n",
    "\n",
    "result_xgb_cv = evaluate_model_cv(xgb_model_cv, X_train ,y_train ,tscv_xgb)\n",
    "result_xgb_cv"
   ]
  },
  {
   "cell_type": "code",
   "execution_count": 24,
   "id": "d2a80381-d020-44f4-b8ae-c2413289027d",
   "metadata": {},
   "outputs": [
    {
     "data": {
      "image/png": "[encoded data removed]",
      "text/plain": [
       "<Figure size 600x500 with 2 Axes>"
      ]
     },
     "metadata": {},
     "output_type": "display_data"
    }
   ],
   "source": [
    "cm = confusion_matrix(y_val, y_pred_xgb)\n",
    "\n",
    "plt.figure(figsize=(6, 5))\n",
    "sns.heatmap(cm, annot=True, fmt='d', cmap='Blues')\n",
    "\n",
    "\n",
    "# Exiba o gráfico\n",
    "plt.show()"
   ]
  },
  {
   "cell_type": "code",
   "execution_count": 25,
   "id": "8a80760e-e23f-4f99-a628-279ab926daff",
   "metadata": {},
   "outputs": [
    {
     "name": "stderr",
     "output_type": "stream",
     "text": [
      "C:\\Users\\oscar\\AppData\\Local\\Temp\\ipykernel_6248\\1167550434.py:18: FutureWarning: \n",
      "\n",
      "Passing `palette` without assigning `hue` is deprecated and will be removed in v0.14.0. Assign the `y` variable to `hue` and set `legend=False` for the same effect.\n",
      "\n",
      "  sns.barplot(x='Importance', y='Feature', data=top_features, palette='viridis')\n"
     ]
    },
    {
     "data": {
      "image/png": "[encoded data removed]",
      "text/plain": [
       "<Figure size 1000x600 with 1 Axes>"
      ]
     },
     "metadata": {},
     "output_type": "display_data"
    }
   ],
   "source": [
    "importances = xgb_model.feature_importances_\n",
    "features = X_train.columns \n",
    "\n",
    "\n",
    "df_importances = pd.DataFrame({\n",
    "    'Feature': features,\n",
    "    'Importance': importances\n",
    "})\n",
    "\n",
    "\n",
    "df_importances = df_importances.sort_values(by='Importance', ascending=False)\n",
    "\n",
    "\n",
    "top_features = df_importances\n",
    "\n",
    "top_n = 10\n",
    "plt.figure(figsize=(10, 6))\n",
    "sns.barplot(x='Importance', y='Feature', data=top_features, palette='viridis')\n",
    "plt.title(f'Top {top_n} Feature Importances')\n",
    "plt.xlabel('Importance')\n",
    "plt.ylabel('Features')\n",
    "plt.show()"
   ]
  },
  {
   "cell_type": "markdown",
   "id": "8d32278a-06c1-4dd4-9e8f-36c007a6a91f",
   "metadata": {},
   "source": [
    "### lgbm"
   ]
  },
  {
   "cell_type": "code",
   "execution_count": 26,
   "id": "f5aeacfa-218a-4e70-81d5-1e5335b05540",
   "metadata": {},
   "outputs": [
    {
     "name": "stdout",
     "output_type": "stream",
     "text": [
      "[LightGBM] [Info] Number of positive: 7506, number of negative: 1289169\n",
      "[LightGBM] [Info] Auto-choosing row-wise multi-threading, the overhead of testing was 0.047718 seconds.\n",
      "You can set `force_row_wise=true` to remove the overhead.\n",
      "And if memory is not enough, you can set `force_col_wise=true`.\n",
      "[LightGBM] [Info] Total Bins 3965\n",
      "[LightGBM] [Info] Number of data points in the train set: 1296675, number of used features: 25\n",
      "[LightGBM] [Info] [binary:BoostFromScore]: pavg=0.005789 -> initscore=-5.146050\n",
      "[LightGBM] [Info] Start training from score -5.146050\n"
     ]
    }
   ],
   "source": [
    "lgb_model = lgb.LGBMClassifier(\n",
    "    scale_pos_weight=3, \n",
    "    objective='binary', \n",
    "    random_state=42\n",
    ")\n",
    "\n",
    "lgb_model.fit( X_train, y_train )\n",
    "\n",
    "y_pred_lgbm = lgb_model.predict( X_val )\n",
    "y_proba = lgb_model.predict_proba( X_val )\n",
    "\n"
   ]
  },
  {
   "cell_type": "code",
   "execution_count": 27,
   "id": "e28555fa-ee71-4c66-906b-5681d3db6923",
   "metadata": {},
   "outputs": [
    {
     "data": {
      "text/html": [
       "<div>\n",
       "<style scoped>\n",
       "    .dataframe tbody tr th:only-of-type {\n",
       "        vertical-align: middle;\n",
       "    }\n",
       "\n",
       "    .dataframe tbody tr th {\n",
       "        vertical-align: top;\n",
       "    }\n",
       "\n",
       "    .dataframe thead th {\n",
       "        text-align: right;\n",
       "    }\n",
       "</style>\n",
       "<table border=\"1\" class=\"dataframe\">\n",
       "  <thead>\n",
       "    <tr style=\"text-align: right;\">\n",
       "      <th></th>\n",
       "      <th>Model Name</th>\n",
       "      <th>Accuracy_score</th>\n",
       "      <th>Precision_score</th>\n",
       "      <th>Recall</th>\n",
       "      <th>F1_score</th>\n",
       "      <th>ROC_AUC</th>\n",
       "    </tr>\n",
       "  </thead>\n",
       "  <tbody>\n",
       "    <tr>\n",
       "      <th>0</th>\n",
       "      <td>lgb_model</td>\n",
       "      <td>0.991562</td>\n",
       "      <td>0.287217</td>\n",
       "      <td>0.618808</td>\n",
       "      <td>0.392334</td>\n",
       "      <td>0.896992</td>\n",
       "    </tr>\n",
       "  </tbody>\n",
       "</table>\n",
       "</div>"
      ],
      "text/plain": [
       "  Model Name  Accuracy_score  Precision_score    Recall  F1_score   ROC_AUC\n",
       "0  lgb_model        0.991562         0.287217  0.618808  0.392334  0.896992"
      ]
     },
     "execution_count": 27,
     "metadata": {},
     "output_type": "execute_result"
    }
   ],
   "source": [
    "result_lgbm = eveluate_model( 'lgb_model', y_val , y_pred_lgbm, y_proba )\n",
    "result_lgbm"
   ]
  },
  {
   "cell_type": "code",
   "execution_count": 28,
   "id": "2c322d29-1249-41f6-b2fe-0353376698bf",
   "metadata": {},
   "outputs": [
    {
     "name": "stdout",
     "output_type": "stream",
     "text": [
      "[LightGBM] [Info] Number of positive: 1873, number of negative: 322298\n",
      "[LightGBM] [Info] Auto-choosing row-wise multi-threading, the overhead of testing was 0.009656 seconds.\n",
      "You can set `force_row_wise=true` to remove the overhead.\n",
      "And if memory is not enough, you can set `force_col_wise=true`.\n",
      "[LightGBM] [Info] Total Bins 3637\n",
      "[LightGBM] [Info] Number of data points in the train set: 324171, number of used features: 25\n",
      "[LightGBM] [Info] [binary:BoostFromScore]: pavg=0.005778 -> initscore=-5.147935\n",
      "[LightGBM] [Info] Start training from score -5.147935\n",
      "[LightGBM] [Info] Number of positive: 3649, number of negative: 644690\n",
      "[LightGBM] [Info] Auto-choosing row-wise multi-threading, the overhead of testing was 0.028559 seconds.\n",
      "You can set `force_row_wise=true` to remove the overhead.\n",
      "And if memory is not enough, you can set `force_col_wise=true`.\n",
      "[LightGBM] [Info] Total Bins 3884\n",
      "[LightGBM] [Info] Number of data points in the train set: 648339, number of used features: 25\n",
      "[LightGBM] [Info] [binary:BoostFromScore]: pavg=0.005628 -> initscore=-5.174316\n",
      "[LightGBM] [Info] Start training from score -5.174316\n",
      "[LightGBM] [Info] Number of positive: 5624, number of negative: 966883\n",
      "[LightGBM] [Info] Auto-choosing row-wise multi-threading, the overhead of testing was 0.034515 seconds.\n",
      "You can set `force_row_wise=true` to remove the overhead.\n",
      "And if memory is not enough, you can set `force_col_wise=true`.\n",
      "[LightGBM] [Info] Total Bins 3934\n",
      "[LightGBM] [Info] Number of data points in the train set: 972507, number of used features: 25\n",
      "[LightGBM] [Info] [binary:BoostFromScore]: pavg=0.005783 -> initscore=-5.147034\n",
      "[LightGBM] [Info] Start training from score -5.147034\n"
     ]
    },
    {
     "name": "stderr",
     "output_type": "stream",
     "text": [
      "D:\\repos\\fraud detection\\venv-fraud-detection\\Lib\\site-packages\\numpy\\core\\fromnumeric.py:3504: RuntimeWarning: Mean of empty slice.\n",
      "  return _methods._mean(a, axis=axis, dtype=dtype,\n",
      "D:\\repos\\fraud detection\\venv-fraud-detection\\Lib\\site-packages\\numpy\\core\\_methods.py:129: RuntimeWarning: invalid value encountered in scalar divide\n",
      "  ret = ret.dtype.type(ret / rcount)\n"
     ]
    },
    {
     "data": {
      "text/html": [
       "<div>\n",
       "<style scoped>\n",
       "    .dataframe tbody tr th:only-of-type {\n",
       "        vertical-align: middle;\n",
       "    }\n",
       "\n",
       "    .dataframe tbody tr th {\n",
       "        vertical-align: top;\n",
       "    }\n",
       "\n",
       "    .dataframe thead th {\n",
       "        text-align: right;\n",
       "    }\n",
       "</style>\n",
       "<table border=\"1\" class=\"dataframe\">\n",
       "  <thead>\n",
       "    <tr style=\"text-align: right;\">\n",
       "      <th></th>\n",
       "      <th>Model Name</th>\n",
       "      <th>Accuracy_score</th>\n",
       "      <th>Precision_score</th>\n",
       "      <th>Recall</th>\n",
       "      <th>F1_score</th>\n",
       "      <th>ROC_AUC</th>\n",
       "    </tr>\n",
       "  </thead>\n",
       "  <tbody>\n",
       "    <tr>\n",
       "      <th>0</th>\n",
       "      <td>LGBMClassifier(objective='binary', random_stat...</td>\n",
       "      <td>0.984389</td>\n",
       "      <td>0.209781</td>\n",
       "      <td>0.483737</td>\n",
       "      <td>0.290763</td>\n",
       "      <td>NaN</td>\n",
       "    </tr>\n",
       "  </tbody>\n",
       "</table>\n",
       "</div>"
      ],
      "text/plain": [
       "                                          Model Name  Accuracy_score  \\\n",
       "0  LGBMClassifier(objective='binary', random_stat...        0.984389   \n",
       "\n",
       "   Precision_score    Recall  F1_score  ROC_AUC  \n",
       "0         0.209781  0.483737  0.290763      NaN  "
      ]
     },
     "execution_count": 28,
     "metadata": {},
     "output_type": "execute_result"
    }
   ],
   "source": [
    "lgb_model_cv = lgb.LGBMClassifier(\n",
    "    scale_pos_weight=3, \n",
    "    objective='binary', \n",
    "    random_state=42\n",
    ")\n",
    "\n",
    "tscv_lgbm = 3\n",
    "\n",
    "result_lgbm_cv = evaluate_model_cv(lgb_model_cv, X_train ,y_train ,tscv_lgbm )\n",
    "result_lgbm_cv"
   ]
  },
  {
   "cell_type": "code",
   "execution_count": 29,
   "id": "24df3ab4-8570-41ed-bd37-afcf125b47ce",
   "metadata": {},
   "outputs": [
    {
     "data": {
      "image/png": "[encoded data removed]",
      "text/plain": [
       "<Figure size 600x500 with 2 Axes>"
      ]
     },
     "metadata": {},
     "output_type": "display_data"
    }
   ],
   "source": [
    "cm = confusion_matrix(y_val, y_pred_lgbm)\n",
    "\n",
    "plt.figure(figsize=(6, 5))\n",
    "sns.heatmap(cm, annot=True, fmt='d', cmap='Blues')\n",
    "\n",
    "\n",
    "# Exiba o gráfico\n",
    "plt.show()"
   ]
  },
  {
   "cell_type": "markdown",
   "id": "4c260bb8-f76b-4c21-8946-aecf7d41fab8",
   "metadata": {},
   "source": [
    "## Final Result "
   ]
  },
  {
   "cell_type": "code",
   "execution_count": 30,
   "id": "3210eaf6-beb8-4da7-a7fc-c6ca98a7b0a7",
   "metadata": {},
   "outputs": [
    {
     "data": {
      "text/html": [
       "<div>\n",
       "<style scoped>\n",
       "    .dataframe tbody tr th:only-of-type {\n",
       "        vertical-align: middle;\n",
       "    }\n",
       "\n",
       "    .dataframe tbody tr th {\n",
       "        vertical-align: top;\n",
       "    }\n",
       "\n",
       "    .dataframe thead th {\n",
       "        text-align: right;\n",
       "    }\n",
       "</style>\n",
       "<table border=\"1\" class=\"dataframe\">\n",
       "  <thead>\n",
       "    <tr style=\"text-align: right;\">\n",
       "      <th></th>\n",
       "      <th>Model Name</th>\n",
       "      <th>Accuracy_score</th>\n",
       "      <th>Precision_score</th>\n",
       "      <th>Recall</th>\n",
       "      <th>F1_score</th>\n",
       "      <th>ROC_AUC</th>\n",
       "    </tr>\n",
       "  </thead>\n",
       "  <tbody>\n",
       "    <tr>\n",
       "      <th>0</th>\n",
       "      <td>xgb</td>\n",
       "      <td>0.996888</td>\n",
       "      <td>0.740028</td>\n",
       "      <td>0.451721</td>\n",
       "      <td>0.561001</td>\n",
       "      <td>0.986705</td>\n",
       "    </tr>\n",
       "    <tr>\n",
       "      <th>0</th>\n",
       "      <td>lgb_model</td>\n",
       "      <td>0.991562</td>\n",
       "      <td>0.287217</td>\n",
       "      <td>0.618808</td>\n",
       "      <td>0.392334</td>\n",
       "      <td>0.896992</td>\n",
       "    </tr>\n",
       "    <tr>\n",
       "      <th>0</th>\n",
       "      <td>Random Forest</td>\n",
       "      <td>0.996474</td>\n",
       "      <td>0.991701</td>\n",
       "      <td>0.200672</td>\n",
       "      <td>0.333799</td>\n",
       "      <td>0.930740</td>\n",
       "    </tr>\n",
       "  </tbody>\n",
       "</table>\n",
       "</div>"
      ],
      "text/plain": [
       "      Model Name  Accuracy_score  Precision_score    Recall  F1_score  \\\n",
       "0            xgb        0.996888         0.740028  0.451721  0.561001   \n",
       "0      lgb_model        0.991562         0.287217  0.618808  0.392334   \n",
       "0  Random Forest        0.996474         0.991701  0.200672  0.333799   \n",
       "\n",
       "    ROC_AUC  \n",
       "0  0.986705  \n",
       "0  0.896992  \n",
       "0  0.930740  "
      ]
     },
     "execution_count": 30,
     "metadata": {},
     "output_type": "execute_result"
    }
   ],
   "source": [
    "pd.concat( [result_rf,result_xgb,result_lgbm],axis = 0 ).sort_values( by = 'F1_score', ascending = False )"
   ]
  },
  {
   "cell_type": "markdown",
   "id": "d3cdbb0f-92a1-421c-9e4f-157de580880b",
   "metadata": {},
   "source": [
    "## 5 - Testing on unseen data"
   ]
  },
  {
   "cell_type": "code",
   "execution_count": 31,
   "id": "212ef083-e171-4c9b-a682-af94eafb65ed",
   "metadata": {},
   "outputs": [],
   "source": [
    "X_test = df_test.loc[ (pd.to_datetime(df_test['trans_date_trans_time']) >= max_date_val ) & (pd.to_datetime(df_test['trans_date_trans_time'])<= max_date_df_test), :]\n",
    "y_test = X_test['is_fraud']"
   ]
  },
  {
   "cell_type": "code",
   "execution_count": 32,
   "id": "b41f8c33-f7a5-4db3-8123-5d0072e912a7",
   "metadata": {},
   "outputs": [
    {
     "data": {
      "text/plain": [
       "(281521, 23)"
      ]
     },
     "execution_count": 32,
     "metadata": {},
     "output_type": "execute_result"
    }
   ],
   "source": [
    "X_test.shape"
   ]
  },
  {
   "cell_type": "code",
   "execution_count": 33,
   "id": "06ffdc4d-444e-4b61-93c1-63d566a98187",
   "metadata": {},
   "outputs": [
    {
     "data": {
      "text/plain": [
       "is_fraud\n",
       "0    280585\n",
       "1       936\n",
       "Name: count, dtype: int64"
      ]
     },
     "execution_count": 33,
     "metadata": {},
     "output_type": "execute_result"
    }
   ],
   "source": [
    "X_test.is_fraud.value_counts()"
   ]
  },
  {
   "cell_type": "code",
   "execution_count": 34,
   "id": "864b1412-6f27-4446-b062-72195a083535",
   "metadata": {},
   "outputs": [
    {
     "name": "stderr",
     "output_type": "stream",
     "text": [
      "C:\\Users\\oscar\\AppData\\Local\\Temp\\ipykernel_6248\\2955963530.py:63: SettingWithCopyWarning: \n",
      "A value is trying to be set on a copy of a slice from a DataFrame.\n",
      "Try using .loc[row_indexer,col_indexer] = value instead\n",
      "\n",
      "See the caveats in the documentation: https://pandas.pydata.org/pandas-docs/stable/user_guide/indexing.html#returning-a-view-versus-a-copy\n",
      "  df['trans_date_trans_time'] = pd.to_datetime( df['trans_date_trans_time']  )\n",
      "C:\\Users\\oscar\\AppData\\Local\\Temp\\ipykernel_6248\\2955963530.py:65: SettingWithCopyWarning: \n",
      "A value is trying to be set on a copy of a slice from a DataFrame.\n",
      "Try using .loc[row_indexer,col_indexer] = value instead\n",
      "\n",
      "See the caveats in the documentation: https://pandas.pydata.org/pandas-docs/stable/user_guide/indexing.html#returning-a-view-versus-a-copy\n",
      "  df['dob'] = pd.to_datetime( df['dob'] )\n",
      "C:\\Users\\oscar\\AppData\\Local\\Temp\\ipykernel_6248\\2955963530.py:68: SettingWithCopyWarning: \n",
      "A value is trying to be set on a copy of a slice from a DataFrame.\n",
      "Try using .loc[row_indexer,col_indexer] = value instead\n",
      "\n",
      "See the caveats in the documentation: https://pandas.pydata.org/pandas-docs/stable/user_guide/indexing.html#returning-a-view-versus-a-copy\n",
      "  df['trans_date_trans_time_year'] = df['trans_date_trans_time'].dt.year\n",
      "C:\\Users\\oscar\\AppData\\Local\\Temp\\ipykernel_6248\\2955963530.py:71: SettingWithCopyWarning: \n",
      "A value is trying to be set on a copy of a slice from a DataFrame.\n",
      "Try using .loc[row_indexer,col_indexer] = value instead\n",
      "\n",
      "See the caveats in the documentation: https://pandas.pydata.org/pandas-docs/stable/user_guide/indexing.html#returning-a-view-versus-a-copy\n",
      "  df['trans_date_trans_time_month'] = df['trans_date_trans_time'].dt.month\n",
      "C:\\Users\\oscar\\AppData\\Local\\Temp\\ipykernel_6248\\2955963530.py:74: SettingWithCopyWarning: \n",
      "A value is trying to be set on a copy of a slice from a DataFrame.\n",
      "Try using .loc[row_indexer,col_indexer] = value instead\n",
      "\n",
      "See the caveats in the documentation: https://pandas.pydata.org/pandas-docs/stable/user_guide/indexing.html#returning-a-view-versus-a-copy\n",
      "  df['trans_date_trans_time_day'] = df['trans_date_trans_time'].dt.day\n",
      "C:\\Users\\oscar\\AppData\\Local\\Temp\\ipykernel_6248\\2955963530.py:77: SettingWithCopyWarning: \n",
      "A value is trying to be set on a copy of a slice from a DataFrame.\n",
      "Try using .loc[row_indexer,col_indexer] = value instead\n",
      "\n",
      "See the caveats in the documentation: https://pandas.pydata.org/pandas-docs/stable/user_guide/indexing.html#returning-a-view-versus-a-copy\n",
      "  df['dob'] = pd.to_datetime(df['dob'])\n",
      "C:\\Users\\oscar\\AppData\\Local\\Temp\\ipykernel_6248\\2955963530.py:80: SettingWithCopyWarning: \n",
      "A value is trying to be set on a copy of a slice from a DataFrame.\n",
      "Try using .loc[row_indexer,col_indexer] = value instead\n",
      "\n",
      "See the caveats in the documentation: https://pandas.pydata.org/pandas-docs/stable/user_guide/indexing.html#returning-a-view-versus-a-copy\n",
      "  df['dob_year'] = df['dob'].dt.year\n",
      "C:\\Users\\oscar\\AppData\\Local\\Temp\\ipykernel_6248\\2955963530.py:83: SettingWithCopyWarning: \n",
      "A value is trying to be set on a copy of a slice from a DataFrame.\n",
      "Try using .loc[row_indexer,col_indexer] = value instead\n",
      "\n",
      "See the caveats in the documentation: https://pandas.pydata.org/pandas-docs/stable/user_guide/indexing.html#returning-a-view-versus-a-copy\n",
      "  df['dob_month'] = df['dob'].dt.month\n",
      "C:\\Users\\oscar\\AppData\\Local\\Temp\\ipykernel_6248\\2955963530.py:86: SettingWithCopyWarning: \n",
      "A value is trying to be set on a copy of a slice from a DataFrame.\n",
      "Try using .loc[row_indexer,col_indexer] = value instead\n",
      "\n",
      "See the caveats in the documentation: https://pandas.pydata.org/pandas-docs/stable/user_guide/indexing.html#returning-a-view-versus-a-copy\n",
      "  df['dob_day'] = df['dob'].dt.day\n"
     ]
    }
   ],
   "source": [
    "X_test = transform_data( X_test )"
   ]
  },
  {
   "cell_type": "code",
   "execution_count": 35,
   "id": "77c740a0-9351-4ffe-a969-2dc695a76227",
   "metadata": {},
   "outputs": [
    {
     "name": "stdout",
     "output_type": "stream",
     "text": [
      "encodar como category_counts a coluna merchant\n",
      "encodar como TargetEncoder a coluna category\n",
      "encodar como category_counts a coluna first\n",
      "encodar como category_counts a coluna last\n",
      "encodar como OneHotEncoder a coluna gender\n",
      "encodar como category_counts a coluna street\n",
      "encodar como category_counts a coluna city\n",
      "encodar como TargetEncoder a coluna state\n",
      "encodar como category_counts a coluna job\n"
     ]
    }
   ],
   "source": [
    "X_test = encoding_test_data( X_test , enconding_map )"
   ]
  },
  {
   "cell_type": "markdown",
   "id": "f86c131a-7092-4d85-863f-a70907586671",
   "metadata": {},
   "source": [
    "### Results on new data"
   ]
  },
  {
   "cell_type": "code",
   "execution_count": 38,
   "id": "7191d023-80ca-4e18-9c3e-96a783845798",
   "metadata": {},
   "outputs": [
    {
     "data": {
      "image/png": "[encoded data removed]",
      "text/plain": [
       "<Figure size 600x500 with 2 Axes>"
      ]
     },
     "metadata": {},
     "output_type": "display_data"
    },
    {
     "name": "stderr",
     "output_type": "stream",
     "text": [
      "C:\\Users\\oscar\\AppData\\Local\\Temp\\ipykernel_6248\\982896639.py:43: FutureWarning: \n",
      "\n",
      "Passing `palette` without assigning `hue` is deprecated and will be removed in v0.14.0. Assign the `y` variable to `hue` and set `legend=False` for the same effect.\n",
      "\n",
      "  sns.barplot(x='Importance', y='Feature', data=top_features, palette='viridis')\n"
     ]
    },
    {
     "data": {
      "image/png": "[encoded data removed]",
      "text/plain": [
       "<Figure size 1000x600 with 1 Axes>"
      ]
     },
     "metadata": {},
     "output_type": "display_data"
    },
    {
     "data": {
      "image/png": "[encoded data removed]",
      "text/plain": [
       "<Figure size 600x500 with 2 Axes>"
      ]
     },
     "metadata": {},
     "output_type": "display_data"
    },
    {
     "name": "stderr",
     "output_type": "stream",
     "text": [
      "C:\\Users\\oscar\\AppData\\Local\\Temp\\ipykernel_6248\\982896639.py:43: FutureWarning: \n",
      "\n",
      "Passing `palette` without assigning `hue` is deprecated and will be removed in v0.14.0. Assign the `y` variable to `hue` and set `legend=False` for the same effect.\n",
      "\n",
      "  sns.barplot(x='Importance', y='Feature', data=top_features, palette='viridis')\n"
     ]
    },
    {
     "data": {
      "image/png": "[encoded data removed]",
      "text/plain": [
       "<Figure size 1000x600 with 1 Axes>"
      ]
     },
     "metadata": {},
     "output_type": "display_data"
    },
    {
     "data": {
      "image/png": "[encoded data removed]",
      "text/plain": [
       "<Figure size 600x500 with 2 Axes>"
      ]
     },
     "metadata": {},
     "output_type": "display_data"
    },
    {
     "name": "stderr",
     "output_type": "stream",
     "text": [
      "C:\\Users\\oscar\\AppData\\Local\\Temp\\ipykernel_6248\\982896639.py:43: FutureWarning: \n",
      "\n",
      "Passing `palette` without assigning `hue` is deprecated and will be removed in v0.14.0. Assign the `y` variable to `hue` and set `legend=False` for the same effect.\n",
      "\n",
      "  sns.barplot(x='Importance', y='Feature', data=top_features, palette='viridis')\n"
     ]
    },
    {
     "data": {
      "image/png": "[encoded data removed]",
      "text/plain": [
       "<Figure size 1000x600 with 1 Axes>"
      ]
     },
     "metadata": {},
     "output_type": "display_data"
    },
    {
     "data": {
      "text/html": [
       "<div>\n",
       "<style scoped>\n",
       "    .dataframe tbody tr th:only-of-type {\n",
       "        vertical-align: middle;\n",
       "    }\n",
       "\n",
       "    .dataframe tbody tr th {\n",
       "        vertical-align: top;\n",
       "    }\n",
       "\n",
       "    .dataframe thead th {\n",
       "        text-align: right;\n",
       "    }\n",
       "</style>\n",
       "<table border=\"1\" class=\"dataframe\">\n",
       "  <thead>\n",
       "    <tr style=\"text-align: right;\">\n",
       "      <th></th>\n",
       "      <th>Model Name</th>\n",
       "      <th>Accuracy_score</th>\n",
       "      <th>Precision_score</th>\n",
       "      <th>Recall</th>\n",
       "      <th>F1_score</th>\n",
       "      <th>ROC_AUC</th>\n",
       "    </tr>\n",
       "  </thead>\n",
       "  <tbody>\n",
       "    <tr>\n",
       "      <th>0</th>\n",
       "      <td>Xgb</td>\n",
       "      <td>0.997798</td>\n",
       "      <td>0.758170</td>\n",
       "      <td>0.495726</td>\n",
       "      <td>0.599483</td>\n",
       "      <td>0.747600</td>\n",
       "    </tr>\n",
       "    <tr>\n",
       "      <th>0</th>\n",
       "      <td>lgbm</td>\n",
       "      <td>0.991979</td>\n",
       "      <td>0.240987</td>\n",
       "      <td>0.657051</td>\n",
       "      <td>0.352638</td>\n",
       "      <td>0.825074</td>\n",
       "    </tr>\n",
       "    <tr>\n",
       "      <th>0</th>\n",
       "      <td>Random Forest</td>\n",
       "      <td>0.997279</td>\n",
       "      <td>0.988506</td>\n",
       "      <td>0.183761</td>\n",
       "      <td>0.309910</td>\n",
       "      <td>0.591877</td>\n",
       "    </tr>\n",
       "  </tbody>\n",
       "</table>\n",
       "</div>"
      ],
      "text/plain": [
       "      Model Name  Accuracy_score  Precision_score    Recall  F1_score  \\\n",
       "0            Xgb        0.997798         0.758170  0.495726  0.599483   \n",
       "0           lgbm        0.991979         0.240987  0.657051  0.352638   \n",
       "0  Random Forest        0.997279         0.988506  0.183761  0.309910   \n",
       "\n",
       "    ROC_AUC  \n",
       "0  0.747600  \n",
       "0  0.825074  \n",
       "0  0.591877  "
      ]
     },
     "execution_count": 38,
     "metadata": {},
     "output_type": "execute_result"
    }
   ],
   "source": [
    "model_list = [{'Random Forest': rf} ,{'Xgb':xgb_model},{'lgbm':lgb_model}]\n",
    "\n",
    "df_list = []\n",
    "\n",
    "for model in model_list:\n",
    "\n",
    "    model_name = list(model.keys())[0]\n",
    "\n",
    "    model = list(model.values())[0]\n",
    "\n",
    "    y_pred = model.predict( X_test.drop('is_fraud', axis= 1) )\n",
    "\n",
    "    y_pred_proba =  model.predict( X_test.drop('is_fraud',axis=1) )\n",
    "\n",
    "    evaluation = eveluate_model( model_name, y_test ,y_pred, y_pred_proba)\n",
    "\n",
    "    cm = confusion_matrix(y_test, y_pred)\n",
    "\n",
    "    plt.figure(figsize=(6, 5))\n",
    "    sns.heatmap(cm, annot=True, fmt='d', cmap='Blues', xticklabels=['Not Fraud', 'Fraud'], yticklabels=['Not Fraud', 'Fraud'])\n",
    "    plt.title(f'Confusion Matrix for {model_name}')\n",
    "    plt.xlabel('Predicted')\n",
    "    plt.ylabel('True')\n",
    "    plt.show()\n",
    "\n",
    "    importances = model.feature_importances_\n",
    "    features = X_test.drop('is_fraud', axis = 1).columns \n",
    "\n",
    "  \n",
    "    df_importances = pd.DataFrame({\n",
    "        'Feature': features,\n",
    "        'Importance': importances\n",
    "    })\n",
    "\n",
    "  \n",
    "    df_importances = df_importances.sort_values(by='Importance', ascending=False)\n",
    "\n",
    " \n",
    "    top_n = 10\n",
    "    top_features = df_importances.head(top_n)\n",
    "\n",
    "    plt.figure(figsize=(10, 6))\n",
    "    sns.barplot(x='Importance', y='Feature', data=top_features, palette='viridis')\n",
    "    plt.title(f'Top {top_n} Feature Importances - {model_name}')\n",
    "    plt.xlabel('Importance')\n",
    "    plt.ylabel('Features')\n",
    "    plt.show()\n",
    "\n",
    "    \n",
    "    df_list.append( evaluation )\n",
    "\n",
    "pd.concat( df_list, axis = 0 ).sort_values( by = 'F1_score', ascending = False )\n",
    "\n",
    "    \n",
    "    \n",
    "\n"
   ]
  },
  {
   "cell_type": "code",
   "execution_count": null,
   "id": "a82dbed2-189f-4811-b48d-d464f886bc54",
   "metadata": {},
   "outputs": [],
   "source": []
  },
  {
   "cell_type": "code",
   "execution_count": null,
   "id": "09471989-a098-482d-8da8-4be5f9887781",
   "metadata": {},
   "outputs": [],
   "source": []
  },
  {
   "cell_type": "code",
   "execution_count": null,
   "id": "2da9e6a6-261c-4cc1-af6e-5b5d2a0405ff",
   "metadata": {},
   "outputs": [],
   "source": []
  },
  {
   "cell_type": "code",
   "execution_count": null,
   "id": "30df772e-c9ea-4b66-ab9b-0fefb9766811",
   "metadata": {},
   "outputs": [],
   "source": []
  }
 ],
 "metadata": {
  "kernelspec": {
   "display_name": "venv-fraud-dectection",
   "language": "python",
   "name": "venv-fraud-dectection"
  },
  "language_info": {
   "codemirror_mode": {
    "name": "ipython",
    "version": 3
   },
   "file_extension": ".py",
   "mimetype": "text/x-python",
   "name": "python",
   "nbconvert_exporter": "python",
   "pygments_lexer": "ipython3",
   "version": "3.12.5"
  }
 },
 "nbformat": 4,
 "nbformat_minor": 5
}
