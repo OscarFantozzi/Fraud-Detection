{
 "cells": [
  {
   "cell_type": "markdown",
   "id": "4792ca47-7ab9-4098-a1dd-4e3d18a5a8a2",
   "metadata": {},
   "source": [
    "# Imports"
   ]
  },
  {
   "cell_type": "code",
   "execution_count": 98,
   "id": "264e10da-69e1-4628-a354-b3655395ca23",
   "metadata": {},
   "outputs": [],
   "source": [
    "# basics \n",
    "from watermark import watermark\n",
    "import pandas  as pd\n",
    "pd.options.display.float_format = '{:,.2f}'.format\n",
    "import joblib\n",
    "import numpy  as np\n",
    "import optuna\n",
    "\n",
    "# plot\n",
    "import matplotlib.pyplot as plt\n",
    "import plotly.express    as px\n",
    "import seaborn           as sns\n",
    "\n",
    "# feature selection\n",
    "from sklearn.feature_selection import SelectKBest, f_classif\n",
    "\n",
    "# encoders\n",
    "from category_encoders       import OneHotEncoder,TargetEncoder,BinaryEncoder\n",
    "\n",
    "\n",
    "# models\n",
    "from sklearn.ensemble import RandomForestClassifier\n",
    "import xgboost as xgb\n",
    "import lightgbm as lgb\n",
    "\n",
    "# metrics\n",
    "from sklearn.metrics import accuracy_score, precision_score, recall_score,f1_score,roc_auc_score,confusion_matrix\n",
    "from sklearn.model_selection import cross_val_predict, StratifiedKFold\n"
   ]
  },
  {
   "cell_type": "code",
   "execution_count": 99,
   "id": "ca2fa8f7-dfb6-4421-92fd-b76be5ebb6fe",
   "metadata": {},
   "outputs": [
    {
     "name": "stdout",
     "output_type": "stream",
     "text": [
      "pandas           : 2.1.4\n",
      "seaborn          : 0.13.2\n",
      "joblib           : 1.4.2\n",
      "numpy            : 1.26.4\n",
      "optuna           : 4.2.1\n",
      "matplotlib       : 3.10.0\n",
      "sklearn          : 1.5.2\n",
      "category_encoders: 2.6.3\n",
      "xgboost          : 1.7.6\n",
      "lightgbm         : 4.6.0\n",
      "\n"
     ]
    }
   ],
   "source": [
    "print( watermark( packages = 'pandas,seaborn,joblib,numpy,optuna,matplotlib,sklearn,category_encoders,xgboost,lightgbm' ) )"
   ]
  },
  {
   "cell_type": "markdown",
   "id": "127977c7-7da1-4b09-a2aa-c3c0e12639d8",
   "metadata": {},
   "source": [
    "### 0.0 - Functions"
   ]
  },
  {
   "cell_type": "code",
   "execution_count": 73,
   "id": "91c348a8-f83d-47d0-a404-49f9d4b049d4",
   "metadata": {},
   "outputs": [],
   "source": [
    "# convert lat long inot km's\n",
    "def calculate_distance(lat1, lon1, lat2, lon2):\n",
    "    return geodesic((lat1, lon1), (lat2, lon2)).km\n",
    "\n",
    "\n",
    "def encoding_training_data( df, y):\n",
    "\n",
    "    dict_encoders = {}\n",
    "    \n",
    "    df_cat = df.select_dtypes(include=['object']).columns\n",
    "    \n",
    "    unique_count = df[df_cat].nunique() \n",
    "    \n",
    "    df_aux = pd.DataFrame(unique_count).reset_index().rename(columns = {'index': 'category', 0: 'count'})\n",
    "\n",
    "    for line in df_aux.iterrows():\n",
    "\n",
    "        # applying one hot encoding\n",
    "        if line[1]['count'] >=2 and line[1]['count'] <=6:\n",
    "\n",
    "            ohe = OneHotEncoder(handle_unknown='value')\n",
    "\n",
    "            ohe_trained = ohe.fit( df[ [ line[1]['category'] ] ])\n",
    "\n",
    "            joblib.dump(ohe_trained, f'encoders/ohe_trained{line[1]['category']}.pkl')\n",
    "\n",
    "            df_ohe = ohe_trained.transform( df[ [ line[1]['category'] ] ] ) \n",
    "\n",
    "            df = pd.concat( [df, df_ohe] , axis = 1 ).drop( line[1]['category'], axis = 1 )\n",
    "            \n",
    "            print(f'One Hot Encoding columns applied to: {line[1]['category']} column that has {line[1]['count']} values.')\n",
    "\n",
    "            dict_encoders[line[1]['category']] = 'OneHotEncoder'\n",
    "\n",
    "        # applying target encoding\n",
    "        if line[1]['count'] >=10 and line[1]['count'] <=60:\n",
    "\n",
    "            te = TargetEncoder(handle_unknown='value')\n",
    "\n",
    "            te_trained = te.fit( df[ [ line[1]['category'] ] ] , y = y )\n",
    "\n",
    "            joblib.dump(te_trained, f'encoders/te_trained{line[1]['category']}.pkl')\n",
    "\n",
    "            df[ line[1]['category'] ] = te_trained.transform( df[ [ line[1]['category'] ] ] ) \n",
    "\n",
    "            print( f'Target Enconding applied to: {line[1]['category']} column that has {line[1]['count']} values.' )\n",
    "\n",
    "            dict_encoders[line[1]['category']] = 'TargetEncoder'\n",
    "\n",
    "        # applying frequency encoding\n",
    "        if line[1]['count'] >=60:\n",
    "\n",
    "            category_counts = df[ line[1]['category'] ].value_counts()\n",
    "\n",
    "            df[ line[1]['category'] ] =  df[ line[1]['category'] ].map( category_counts )\n",
    "\n",
    "            joblib.dump(category_counts, f'encoders/category_counts{line[1]['category']}.pkl')\n",
    "\n",
    "            print(f'Frequency Encoding applied to: {line[1]['category']} column that has {line[1]['count']} values.')\n",
    "\n",
    "            dict_encoders[line[1]['category']] = 'category_counts'\n",
    "            \n",
    "    return df.select_dtypes(exclude = ['datetime']), dict_encoders\n",
    "\n",
    "\n",
    "def feature_engineering(df):\n",
    "\n",
    "    df['trans_date_trans_time'] = pd.to_datetime( df['trans_date_trans_time']  )\n",
    "\n",
    "    df['dob'] = pd.to_datetime( df['dob'] )\n",
    "\n",
    "    # extract year\n",
    "    df['trans_date_trans_time_year'] = df['trans_date_trans_time'].dt.year\n",
    "\n",
    "    # extract month\n",
    "    df['trans_date_trans_time_month'] = df['trans_date_trans_time'].dt.month\n",
    "\n",
    "    # extract day\n",
    "    df['trans_date_trans_time_day'] = df['trans_date_trans_time'].dt.day\n",
    "\n",
    "    # convert into datetime format\n",
    "    df['dob'] = pd.to_datetime(df['dob'])\n",
    "\n",
    "    # extract year from dob\n",
    "    df['dob_year'] = df['dob'].dt.year\n",
    "    \n",
    "    # extract month from dob\n",
    "    df['dob_month'] = df['dob'].dt.month\n",
    "\n",
    "    # extract day from dob\n",
    "    df['dob_day'] = df['dob'].dt.day\n",
    "\n",
    "    df = df.drop( ['Unnamed: 0','trans_num'], axis = 1 )\n",
    "\n",
    "\n",
    "    return df\n",
    "    \n",
    "def encoding_test_data(df, enconding_map ):\n",
    "\n",
    "    test_cat_columns = df.select_dtypes( include = 'object' ).columns\n",
    "\n",
    "    for chave,valor in enconding_map.items():\n",
    "        \n",
    "        if valor == 'category_counts':\n",
    "\n",
    "            print(f'encodar como {valor} a coluna {chave}')\n",
    "    \n",
    "            fe_trained = joblib.load( f'encoders/category_counts{chave}.pkl' )\n",
    "            \n",
    "            df[chave] = df[chave].map( fe_trained )\n",
    "\n",
    "        if valor == 'TargetEncoder':\n",
    "\n",
    "            print(f'encodar como {valor} a coluna {chave}')\n",
    "    \n",
    "            te_trained = joblib.load( f'encoders/te_trained{chave}.pkl' )\n",
    "    \n",
    "            df[chave] = te_trained.transform( df[chave] )\n",
    "\n",
    "        if valor == 'OneHotEncoder':\n",
    "\n",
    "            print(f'encodar como {valor} a coluna {chave}')\n",
    "    \n",
    "            ohe = joblib.load( f'encoders/ohe_trained{chave}.pkl' )\n",
    "    \n",
    "            df_ohe = ohe.transform( df[chave] )\n",
    "\n",
    "            df = pd.concat( [df, df_ohe], axis = 1 )\n",
    "\n",
    "           \n",
    "    df = df.fillna(0)\n",
    "\n",
    "    return df.drop( 'gender', axis = 1 ).select_dtypes( exclude = ['datetime'] ) \n",
    "\n",
    "        \n",
    "def eveluate_model(model_name, y_test, y_pred, y_pred_proba):\n",
    "\n",
    "    df_result = pd.DataFrame()\n",
    "\n",
    "    accuracy = accuracy_score(y_test, y_pred)\n",
    "\n",
    "    precision = precision_score( y_test , y_pred )\n",
    "\n",
    "    recall = recall_score( y_test , y_pred )\n",
    "\n",
    "    f1 = f1_score( y_test , y_pred,average='binary' )\n",
    "\n",
    "    if y_pred_proba.ndim == 2:\n",
    "        roc = roc_auc_score(y_test, y_pred_proba[:, 1])  # Usando a probabilidade da classe positiva\n",
    "    else:\n",
    "        roc = roc_auc_score(y_test, y_pred_proba)\n",
    "\n",
    "\n",
    "    dict_results = {'Model Name': model_name,\n",
    "     'Accuracy_score': accuracy,\n",
    "     'Precision_score': precision,\n",
    "     'Recall': recall,\n",
    "     'F1_score': f1,\n",
    "     'ROC_AUC' : roc\n",
    "    }\n",
    "\n",
    "    return pd.DataFrame( dict_results, index = [0] )\n",
    "    \n",
    "        \n",
    "def evaluate_model_cv(model, X, y, cv=5):\n",
    "\n",
    "\n",
    "    tscv = TimeSeriesSplit(n_splits=cv)\n",
    "\n",
    "    \n",
    "    accuracy_scores = []\n",
    "    precision_scores = []\n",
    "    recall_scores = []\n",
    "    f1_scores = []\n",
    "    roc_auc_scores = []\n",
    "    \n",
    "\n",
    "    for train_index, val_index in tscv.split(X, y):\n",
    "        X_train, X_val = X.iloc[train_index], X.iloc[val_index]\n",
    "        y_train, y_val = y.iloc[train_index], y.iloc[val_index]\n",
    "    \n",
    "    \n",
    "        model.fit(X_train, y_train)\n",
    "    \n",
    "    \n",
    "        y_pred = model.predict(X_val)\n",
    "        y_pred_proba = model.predict_proba(X_val)[:, 1]\n",
    "\n",
    "    \n",
    "        accuracy_scores.append(accuracy_score(y_val, y_pred))\n",
    "        precision_scores.append(precision_score(y_val, y_pred))\n",
    "        recall_scores.append(recall_score(y_val, y_pred))\n",
    "        f1_scores.append(f1_score(y_val, y_pred,average='binary' ))\n",
    "        if y_pred_proba.ndim == 2:\n",
    "            roc = roc_auc_score(y_val, y_pred_proba[:, 1])  # Usando a probabilidade da classe positiva\n",
    "        else:\n",
    "            roc = roc_auc_score(y_val, y_pred_proba)\n",
    "    \n",
    "    \n",
    "    results = {\n",
    "        'Model Name': str(model),\n",
    "        'Accuracy_score': np.mean(accuracy_scores),\n",
    "        'Precision_score': np.mean(precision_scores),\n",
    "        'Recall': np.mean(recall_scores),\n",
    "        'F1_score': np.mean(f1_scores),\n",
    "        'ROC_AUC': np.mean(roc_auc_scores)\n",
    "    }\n",
    "    \n",
    "    \n",
    "    return pd.DataFrame(results, index=[0])\n"
   ]
  },
  {
   "cell_type": "markdown",
   "id": "4afdbe84-e505-40ff-abb2-348d680a25a4",
   "metadata": {},
   "source": [
    "## 1 - Load Data"
   ]
  },
  {
   "cell_type": "code",
   "execution_count": 74,
   "id": "7fa813f4-9aec-40d8-8f82-e867a1fb3dcb",
   "metadata": {},
   "outputs": [],
   "source": [
    "df = pd.read_csv( r'data/fraudTrain.csv' )\n",
    "df_test = pd.read_csv(r'data/fraudTest.csv')\n",
    "df.head().to_csv('sample.data.csv') "
   ]
  },
  {
   "cell_type": "markdown",
   "id": "4983bf13-e250-435a-8b16-af9a25d1710c",
   "metadata": {},
   "source": [
    "## 2 - Check Data"
   ]
  },
  {
   "cell_type": "code",
   "execution_count": 75,
   "id": "82180f1b-8f0d-4d7f-84b0-2c34476be5f0",
   "metadata": {},
   "outputs": [],
   "source": [
    "df2 = df.copy()"
   ]
  },
  {
   "cell_type": "markdown",
   "id": "ed542d35-4bd4-4ccf-997a-87f16dae0d17",
   "metadata": {},
   "source": [
    "### 2.1 - Check Shape"
   ]
  },
  {
   "cell_type": "code",
   "execution_count": 76,
   "id": "6de8bf1d-cd65-4d35-93e7-266aadd72abc",
   "metadata": {},
   "outputs": [
    {
     "name": "stdout",
     "output_type": "stream",
     "text": [
      "Dataset has 1,296,675.00 rows and 23 columns\n"
     ]
    }
   ],
   "source": [
    "print(f'Dataset has {df2.shape[0]:,.2f} rows and {df2.shape[1]:,} columns')"
   ]
  },
  {
   "cell_type": "markdown",
   "id": "93e33c33-f78d-471b-b19b-58fe3abf1b7f",
   "metadata": {},
   "source": [
    "## 3.0 - Split Data Into Train and Test"
   ]
  },
  {
   "cell_type": "code",
   "execution_count": 77,
   "id": "b57d4d6c-3347-4973-91d5-b4b82d1cf2ac",
   "metadata": {},
   "outputs": [],
   "source": [
    "df3 = df2.copy()\n",
    "\n",
    "# converto to datetime format\n",
    "df3['trans_date_trans_time'] = pd.to_datetime(df3['trans_date_trans_time'])\n",
    "df_test['trans_date_trans_time'] = pd.to_datetime(df_test['trans_date_trans_time'])\n",
    "\n",
    "# order df by customer account and datetime in ascending order \n",
    "df3 = df3.sort_values( by = ['cc_num','trans_date_trans_time'], ascending = True )\n",
    "df_test = df_test.sort_values(by = ['cc_num','trans_date_trans_time'],ascending = True)"
   ]
  },
  {
   "cell_type": "code",
   "execution_count": 78,
   "id": "cc972cf1-3976-44a4-af59-edbae0ddcfe2",
   "metadata": {},
   "outputs": [],
   "source": [
    "# min date val\n",
    "min_date = pd.to_datetime(df_test['trans_date_trans_time']).min() + pd.Timedelta(days=1)\n",
    "\n",
    "# max date val\n",
    "max_date_df_test = pd.to_datetime(df_test['trans_date_trans_time']).max()\n",
    "\n",
    "# max date train val\n",
    "max_date_val = max_date_df_test - pd.DateOffset(months=3)\n",
    "\n"
   ]
  },
  {
   "cell_type": "code",
   "execution_count": 79,
   "id": "9c5293c2-0c10-4f89-8073-335edc2d7581",
   "metadata": {},
   "outputs": [
    {
     "name": "stdout",
     "output_type": "stream",
     "text": [
      "Train dataset:\n",
      " min date:2019-01-01 00:00:18 | max date :2020-06-21 12:13:37\n",
      "Positive class: 7,506.00 negative class: 1,289,169.00 \n",
      "====================================================================================================\n",
      "Val dataset:\n",
      " min date:2020-06-22 12:14:42 | max date :2020-09-30 23:59:23\n",
      "Val class: 1,191.00 negative class: 269,359.00 \n"
     ]
    }
   ],
   "source": [
    "# split data into X_train\n",
    "X_train = df3.drop('is_fraud', axis = 1)\n",
    "\n",
    "# y_train\n",
    "y_train = df3['is_fraud']\n",
    "\n",
    "# X_val\n",
    "X_val = df_test.loc[ ( df_test['trans_date_trans_time'] >= min_date ) & (df_test['trans_date_trans_time'] <= max_date_val), : ]\n",
    "\n",
    "# y val\n",
    "y_val = X_val['is_fraud']\n",
    "\n",
    "# drop y\n",
    "X_val = X_val.drop('is_fraud', axis = 1)\n",
    "\n",
    "print(f'Train dataset:\\n min date:{X_train['trans_date_trans_time'].min()} | max date :{X_train['trans_date_trans_time'].max()}')\n",
    "print(f'Positive class: {y_train.value_counts()[1]:,.2f} negative class: {y_train.value_counts()[0]:,.2f} ')\n",
    "print('='*100)\n",
    "print(f'Val dataset:\\n min date:{X_val['trans_date_trans_time'].min()} | max date :{X_val['trans_date_trans_time'].max()}')\n",
    "print(f'Val class: {y_val.value_counts()[1]:,.2f} negative class: {y_val.value_counts()[0]:,.2f} ')"
   ]
  },
  {
   "cell_type": "markdown",
   "id": "180d1e29-61c8-4951-a9e4-ebd0b138c0d5",
   "metadata": {},
   "source": [
    "## 4 - Feature Engineering"
   ]
  },
  {
   "cell_type": "code",
   "execution_count": 80,
   "id": "ce62e2ba-7372-4306-acd6-354c1d019a61",
   "metadata": {},
   "outputs": [],
   "source": [
    "X_train = feature_engineering(X_train)\n",
    "\n",
    "X_val = feature_engineering(X_val)"
   ]
  },
  {
   "cell_type": "markdown",
   "id": "ef42496f-eedf-4979-9ba7-4ca7e86ee976",
   "metadata": {},
   "source": [
    "## 5 - Encoding"
   ]
  },
  {
   "cell_type": "code",
   "execution_count": 81,
   "id": "9e994267-6bce-4ced-8f9d-f7f25954b5e1",
   "metadata": {},
   "outputs": [
    {
     "name": "stdout",
     "output_type": "stream",
     "text": [
      "Frequency Encoding applied to: merchant column that has 693 values.\n",
      "Target Enconding applied to: category column that has 14 values.\n",
      "Frequency Encoding applied to: first column that has 352 values.\n",
      "Frequency Encoding applied to: last column that has 481 values.\n",
      "One Hot Encoding columns applied to: gender column that has 2 values.\n",
      "Frequency Encoding applied to: street column that has 983 values.\n",
      "Frequency Encoding applied to: city column that has 894 values.\n",
      "Target Enconding applied to: state column that has 51 values.\n",
      "Frequency Encoding applied to: job column that has 494 values.\n"
     ]
    }
   ],
   "source": [
    "X_train, enconding_map = encoding_training_data(X_train,y_train)"
   ]
  },
  {
   "cell_type": "code",
   "execution_count": 82,
   "id": "9c73f0d2-434a-42a6-a446-73ae83a86667",
   "metadata": {},
   "outputs": [
    {
     "name": "stdout",
     "output_type": "stream",
     "text": [
      "encodar como category_counts a coluna merchant\n",
      "encodar como TargetEncoder a coluna category\n",
      "encodar como category_counts a coluna first\n",
      "encodar como category_counts a coluna last\n",
      "encodar como OneHotEncoder a coluna gender\n",
      "encodar como category_counts a coluna street\n",
      "encodar como category_counts a coluna city\n",
      "encodar como TargetEncoder a coluna state\n",
      "encodar como category_counts a coluna job\n"
     ]
    }
   ],
   "source": [
    "X_val = encoding_test_data(X_val, enconding_map)"
   ]
  },
  {
   "cell_type": "markdown",
   "id": "24265b24-2297-4bb7-9db9-cc49e271698f",
   "metadata": {},
   "source": [
    "## 6 - Hyperparameter Fine Tuning"
   ]
  },
  {
   "cell_type": "code",
   "execution_count": 83,
   "id": "51860a6a-76f1-4802-82c1-d38e67419861",
   "metadata": {},
   "outputs": [
    {
     "name": "stdout",
     "output_type": "stream",
     "text": [
      "171.75179856115108\n"
     ]
    }
   ],
   "source": [
    "# calculate scale_pos_weight\n",
    "n_negative = y_train.value_counts()[0]\n",
    "n_positive = y_train.value_counts()[1]\n",
    "scale_pos_weight = n_negative / n_positive\n",
    "print(scale_pos_weight)"
   ]
  },
  {
   "cell_type": "code",
   "execution_count": 51,
   "id": "98fb6e39-2e85-4c6b-8bb7-b5256343fb37",
   "metadata": {},
   "outputs": [
    {
     "name": "stderr",
     "output_type": "stream",
     "text": [
      "[I 2025-03-11 19:49:23,514] A new study created in memory with name: no-name-74df568e-225b-4f12-b9a5-7ddeab9b9544\n",
      "[I 2025-03-11 19:50:23,846] Trial 0 finished with value: 0.2803149606299213 and parameters: {'num_leaves': 250, 'max_depth': 12, 'learning_rate': 0.14217527801865412, 'n_estimators': 515, 'subsample': 0.8824046522629233, 'colsample_bytree': 0.685911160697354, 'min_child_samples': 21, 'lambda_l1': 0.6226762651279469, 'lambda_l2': 0.43630567016728916, 'scale_pos_weight': 41.85862468695842}. Best is trial 0 with value: 0.2803149606299213.\n",
      "[I 2025-03-11 19:50:55,106] Trial 1 finished with value: 0.2789407313997478 and parameters: {'num_leaves': 103, 'max_depth': 9, 'learning_rate': 0.1930230856030189, 'n_estimators': 305, 'subsample': 0.6034751986868181, 'colsample_bytree': 0.5995028032590274, 'min_child_samples': 81, 'lambda_l1': 0.00044846478638504994, 'lambda_l2': 0.4301542405556703, 'scale_pos_weight': 124.18215279222932}. Best is trial 0 with value: 0.2803149606299213.\n",
      "[I 2025-03-11 19:51:50,551] Trial 2 finished with value: 0.3197707736389685 and parameters: {'num_leaves': 174, 'max_depth': 7, 'learning_rate': 0.16085303699528194, 'n_estimators': 561, 'subsample': 0.5089020815113727, 'colsample_bytree': 0.7096845803300298, 'min_child_samples': 84, 'lambda_l1': 0.09547411788326698, 'lambda_l2': 0.9577546360151514, 'scale_pos_weight': 169.88008745037638}. Best is trial 2 with value: 0.3197707736389685.\n",
      "[I 2025-03-11 19:52:57,437] Trial 3 finished with value: 0.33202146690518786 and parameters: {'num_leaves': 295, 'max_depth': 12, 'learning_rate': 0.12503365845057304, 'n_estimators': 555, 'subsample': 0.5498757196621895, 'colsample_bytree': 0.7785167299477841, 'min_child_samples': 68, 'lambda_l1': 0.675921912788839, 'lambda_l2': 0.7354319386921697, 'scale_pos_weight': 145.598084914219}. Best is trial 3 with value: 0.33202146690518786.\n",
      "[I 2025-03-11 19:53:07,605] Trial 4 finished with value: 0.32094142818935545 and parameters: {'num_leaves': 97, 'max_depth': 9, 'learning_rate': 0.11293611828083511, 'n_estimators': 101, 'subsample': 0.6127331972031685, 'colsample_bytree': 0.7343903289910552, 'min_child_samples': 19, 'lambda_l1': 0.8960519782433701, 'lambda_l2': 0.42661813337832644, 'scale_pos_weight': 52.4491973890955}. Best is trial 3 with value: 0.33202146690518786.\n",
      "[I 2025-03-11 19:54:01,210] Trial 5 finished with value: 0.43474903474903476 and parameters: {'num_leaves': 153, 'max_depth': 11, 'learning_rate': 0.1847853036947531, 'n_estimators': 410, 'subsample': 0.8949008046669704, 'colsample_bytree': 0.8053219790840505, 'min_child_samples': 90, 'lambda_l1': 0.4486245092102773, 'lambda_l2': 0.7654088879272717, 'scale_pos_weight': 81.95084595172045}. Best is trial 5 with value: 0.43474903474903476.\n",
      "[I 2025-03-11 19:54:39,265] Trial 6 finished with value: 0.3911719939117199 and parameters: {'num_leaves': 154, 'max_depth': 10, 'learning_rate': 0.06940535029039464, 'n_estimators': 247, 'subsample': 0.8367264152599271, 'colsample_bytree': 0.7481054168060713, 'min_child_samples': 67, 'lambda_l1': 0.7564954982031745, 'lambda_l2': 0.6100656653754374, 'scale_pos_weight': 132.61129269355388}. Best is trial 5 with value: 0.43474903474903476.\n",
      "[I 2025-03-11 19:55:58,745] Trial 7 finished with value: 0.32636469221835074 and parameters: {'num_leaves': 89, 'max_depth': 7, 'learning_rate': 0.09571506044377118, 'n_estimators': 944, 'subsample': 0.6176004508415587, 'colsample_bytree': 0.6204295343153827, 'min_child_samples': 35, 'lambda_l1': 0.5417918692414935, 'lambda_l2': 0.29936769444201505, 'scale_pos_weight': 114.80021508038517}. Best is trial 5 with value: 0.43474903474903476.\n",
      "[I 2025-03-11 19:56:40,042] Trial 8 finished with value: 0.25602923264311817 and parameters: {'num_leaves': 232, 'max_depth': 3, 'learning_rate': 0.021018392355207693, 'n_estimators': 726, 'subsample': 0.7104881071505239, 'colsample_bytree': 0.8254053227117784, 'min_child_samples': 41, 'lambda_l1': 0.8324950151849149, 'lambda_l2': 0.26083988211640063, 'scale_pos_weight': 82.22496387467505}. Best is trial 5 with value: 0.43474903474903476.\n",
      "[I 2025-03-11 19:57:14,405] Trial 9 finished with value: 0.43569131832797425 and parameters: {'num_leaves': 30, 'max_depth': 6, 'learning_rate': 0.08856663719286945, 'n_estimators': 532, 'subsample': 0.8526409671927451, 'colsample_bytree': 0.8352301844315817, 'min_child_samples': 56, 'lambda_l1': 0.431827975823606, 'lambda_l2': 0.3183467206524435, 'scale_pos_weight': 93.06552623834135}. Best is trial 9 with value: 0.43569131832797425.\n"
     ]
    },
    {
     "name": "stdout",
     "output_type": "stream",
     "text": [
      "Best hyperparameters:  {'num_leaves': 30, 'max_depth': 6, 'learning_rate': 0.08856663719286945, 'n_estimators': 532, 'subsample': 0.8526409671927451, 'colsample_bytree': 0.8352301844315817, 'min_child_samples': 56, 'lambda_l1': 0.431827975823606, 'lambda_l2': 0.3183467206524435, 'scale_pos_weight': 93.06552623834135}\n",
      "Final F1-score: 0.43569131832797425\n"
     ]
    }
   ],
   "source": [
    "def objective(trial):\n",
    "    param = {\n",
    "        'objective': 'binary', \n",
    "        'metric': 'binary_error',  \n",
    "        'boosting_type': 'gbdt', \n",
    "        'verbosity': -1, \n",
    "        'num_leaves': trial.suggest_int('num_leaves', 30, 300),\n",
    "        'max_depth': trial.suggest_int('max_depth', 3, 12),\n",
    "        'learning_rate': trial.suggest_float('learning_rate', 0.01, 0.2),\n",
    "        'n_estimators': trial.suggest_int('n_estimators', 100, 1000),\n",
    "        'subsample': trial.suggest_float('subsample', 0.5, 1.0),\n",
    "        'colsample_bytree': trial.suggest_float('colsample_bytree', 0.5, 1.0),\n",
    "        'min_child_samples': trial.suggest_int('min_child_samples', 10, 100),\n",
    "        'lambda_l1': trial.suggest_float('lambda_l1', 0.0, 1.0),\n",
    "        'lambda_l2': trial.suggest_float('lambda_l2', 0.0, 1.0),\n",
    "        'scale_pos_weight': trial.suggest_float('scale_pos_weight', 3,scale_pos_weight),\n",
    "    }\n",
    "\n",
    "    # Treinando o modelo\n",
    "    model = lgb.LGBMClassifier(**param)\n",
    "    model.fit(X_train, y_train)\n",
    "\n",
    "    # Fazendo a previsão (decisão de classe: 1 ou 0)\n",
    "    y_pred = model.predict(X_val)\n",
    "    \n",
    "    # Calculando o F1-score\n",
    "    f1 = f1_score(y_val, y_pred)\n",
    "    \n",
    "    return f1\n",
    "\n",
    "# Criando o estudo do Optuna\n",
    "study = optuna.create_study(direction='maximize') \n",
    "study.optimize(objective, n_trials=10)\n",
    "\n",
    "# Obtendo os melhores parâmetros\n",
    "best_params = study.best_params\n",
    "print(\"Best hyperparameters: \", best_params)\n",
    "\n",
    "# Treinando o modelo final com os melhores parâmetros\n",
    "final_model = lgb.LGBMClassifier(**best_params)\n",
    "final_model.fit(X_train, y_train)\n",
    "\n",
    "# Previsão final\n",
    "final_y_pred = final_model.predict(X_val)\n",
    "final_f1 = f1_score(y_val, final_y_pred)\n",
    "print(f'Final F1-score: {final_f1}')\n"
   ]
  },
  {
   "cell_type": "code",
   "execution_count": 52,
   "id": "1d4931e3-f5ad-4575-a2cc-8e3f5b5e6918",
   "metadata": {},
   "outputs": [
    {
     "data": {
      "text/plain": [
       "['model/final_model.pkl']"
      ]
     },
     "execution_count": 52,
     "metadata": {},
     "output_type": "execute_result"
    }
   ],
   "source": [
    "# exporting trained model\n",
    "joblib.dump(final_model, 'model/final_model.pkl')"
   ]
  },
  {
   "cell_type": "markdown",
   "id": "179a6550-664c-459d-b4aa-4af73e0b34df",
   "metadata": {},
   "source": [
    "## 7 - Training Model"
   ]
  },
  {
   "cell_type": "markdown",
   "id": "8d32278a-06c1-4dd4-9e8f-36c007a6a91f",
   "metadata": {},
   "source": [
    "### lgbm"
   ]
  },
  {
   "cell_type": "code",
   "execution_count": 86,
   "id": "f5aeacfa-218a-4e70-81d5-1e5335b05540",
   "metadata": {},
   "outputs": [],
   "source": [
    "\n",
    "final_model.fit( X_train, y_train )\n",
    "\n",
    "y_pred_lgbm = final_model.predict( X_val )\n",
    "y_proba = final_model.predict_proba( X_val )\n",
    "\n"
   ]
  },
  {
   "cell_type": "code",
   "execution_count": 87,
   "id": "e28555fa-ee71-4c66-906b-5681d3db6923",
   "metadata": {},
   "outputs": [
    {
     "data": {
      "text/html": [
       "<div>\n",
       "<style scoped>\n",
       "    .dataframe tbody tr th:only-of-type {\n",
       "        vertical-align: middle;\n",
       "    }\n",
       "\n",
       "    .dataframe tbody tr th {\n",
       "        vertical-align: top;\n",
       "    }\n",
       "\n",
       "    .dataframe thead th {\n",
       "        text-align: right;\n",
       "    }\n",
       "</style>\n",
       "<table border=\"1\" class=\"dataframe\">\n",
       "  <thead>\n",
       "    <tr style=\"text-align: right;\">\n",
       "      <th></th>\n",
       "      <th>Model Name</th>\n",
       "      <th>Accuracy_score</th>\n",
       "      <th>Precision_score</th>\n",
       "      <th>Recall</th>\n",
       "      <th>F1_score</th>\n",
       "      <th>ROC_AUC</th>\n",
       "    </tr>\n",
       "  </thead>\n",
       "  <tbody>\n",
       "    <tr>\n",
       "      <th>0</th>\n",
       "      <td>lgb_model</td>\n",
       "      <td>0.99</td>\n",
       "      <td>0.42</td>\n",
       "      <td>0.46</td>\n",
       "      <td>0.44</td>\n",
       "      <td>0.97</td>\n",
       "    </tr>\n",
       "  </tbody>\n",
       "</table>\n",
       "</div>"
      ],
      "text/plain": [
       "  Model Name  Accuracy_score  Precision_score  Recall  F1_score  ROC_AUC\n",
       "0  lgb_model            0.99             0.42    0.46      0.44     0.97"
      ]
     },
     "execution_count": 87,
     "metadata": {},
     "output_type": "execute_result"
    }
   ],
   "source": [
    "result_lgbm = eveluate_model( 'lgb_model', y_val , y_pred_lgbm, y_proba )\n",
    "result_lgbm"
   ]
  },
  {
   "cell_type": "code",
   "execution_count": 88,
   "id": "24df3ab4-8570-41ed-bd37-afcf125b47ce",
   "metadata": {},
   "outputs": [
    {
     "data": {
      "image/png": "[encoded data removed]",
      "text/plain": [
       "<Figure size 600x500 with 2 Axes>"
      ]
     },
     "metadata": {},
     "output_type": "display_data"
    }
   ],
   "source": [
    "cm = confusion_matrix(y_val, y_pred_lgbm)\n",
    "\n",
    "plt.figure(figsize=(6, 5))\n",
    "sns.heatmap(cm, annot=True, fmt='d', cmap='Blues')\n",
    "\n",
    "\n",
    "\n",
    "plt.show()"
   ]
  },
  {
   "cell_type": "markdown",
   "id": "d3cdbb0f-92a1-421c-9e4f-157de580880b",
   "metadata": {},
   "source": [
    "## 6 - Testing on unseen data"
   ]
  },
  {
   "cell_type": "code",
   "execution_count": 89,
   "id": "212ef083-e171-4c9b-a682-af94eafb65ed",
   "metadata": {},
   "outputs": [
    {
     "name": "stdout",
     "output_type": "stream",
     "text": [
      "====================================================================================================\n",
      "Test dataset:\n",
      " min date:2020-10-01 00:00:02 | max date :2020-12-31 23:59:34\n",
      "Positive class: 936.00 negative class: 280,585.00 \n",
      "====================================================================================================\n"
     ]
    }
   ],
   "source": [
    "X_test = df_test.loc[ (pd.to_datetime(df_test['trans_date_trans_time']) >= max_date_val ) & (pd.to_datetime(df_test['trans_date_trans_time'])<= max_date_df_test), :]\n",
    "y_test = X_test['is_fraud']\n",
    "\n",
    "print('='*100)\n",
    "print(f'Test dataset:\\n min date:{X_test['trans_date_trans_time'].min()} | max date :{X_test['trans_date_trans_time'].max()}')\n",
    "print(f'Positive class: {y_test.value_counts()[1]:,.2f} negative class: {y_test.value_counts()[0]:,.2f} ')\n",
    "print('='*100)\n"
   ]
  },
  {
   "cell_type": "code",
   "execution_count": 90,
   "id": "864b1412-6f27-4446-b062-72195a083535",
   "metadata": {},
   "outputs": [
    {
     "name": "stderr",
     "output_type": "stream",
     "text": [
      "C:\\Users\\oscar\\AppData\\Local\\Temp\\ipykernel_9440\\2371277237.py:68: SettingWithCopyWarning: \n",
      "A value is trying to be set on a copy of a slice from a DataFrame.\n",
      "Try using .loc[row_indexer,col_indexer] = value instead\n",
      "\n",
      "See the caveats in the documentation: https://pandas.pydata.org/pandas-docs/stable/user_guide/indexing.html#returning-a-view-versus-a-copy\n",
      "  df['trans_date_trans_time'] = pd.to_datetime( df['trans_date_trans_time']  )\n",
      "C:\\Users\\oscar\\AppData\\Local\\Temp\\ipykernel_9440\\2371277237.py:70: SettingWithCopyWarning: \n",
      "A value is trying to be set on a copy of a slice from a DataFrame.\n",
      "Try using .loc[row_indexer,col_indexer] = value instead\n",
      "\n",
      "See the caveats in the documentation: https://pandas.pydata.org/pandas-docs/stable/user_guide/indexing.html#returning-a-view-versus-a-copy\n",
      "  df['dob'] = pd.to_datetime( df['dob'] )\n",
      "C:\\Users\\oscar\\AppData\\Local\\Temp\\ipykernel_9440\\2371277237.py:73: SettingWithCopyWarning: \n",
      "A value is trying to be set on a copy of a slice from a DataFrame.\n",
      "Try using .loc[row_indexer,col_indexer] = value instead\n",
      "\n",
      "See the caveats in the documentation: https://pandas.pydata.org/pandas-docs/stable/user_guide/indexing.html#returning-a-view-versus-a-copy\n",
      "  df['trans_date_trans_time_year'] = df['trans_date_trans_time'].dt.year\n",
      "C:\\Users\\oscar\\AppData\\Local\\Temp\\ipykernel_9440\\2371277237.py:76: SettingWithCopyWarning: \n",
      "A value is trying to be set on a copy of a slice from a DataFrame.\n",
      "Try using .loc[row_indexer,col_indexer] = value instead\n",
      "\n",
      "See the caveats in the documentation: https://pandas.pydata.org/pandas-docs/stable/user_guide/indexing.html#returning-a-view-versus-a-copy\n",
      "  df['trans_date_trans_time_month'] = df['trans_date_trans_time'].dt.month\n",
      "C:\\Users\\oscar\\AppData\\Local\\Temp\\ipykernel_9440\\2371277237.py:79: SettingWithCopyWarning: \n",
      "A value is trying to be set on a copy of a slice from a DataFrame.\n",
      "Try using .loc[row_indexer,col_indexer] = value instead\n",
      "\n",
      "See the caveats in the documentation: https://pandas.pydata.org/pandas-docs/stable/user_guide/indexing.html#returning-a-view-versus-a-copy\n",
      "  df['trans_date_trans_time_day'] = df['trans_date_trans_time'].dt.day\n",
      "C:\\Users\\oscar\\AppData\\Local\\Temp\\ipykernel_9440\\2371277237.py:82: SettingWithCopyWarning: \n",
      "A value is trying to be set on a copy of a slice from a DataFrame.\n",
      "Try using .loc[row_indexer,col_indexer] = value instead\n",
      "\n",
      "See the caveats in the documentation: https://pandas.pydata.org/pandas-docs/stable/user_guide/indexing.html#returning-a-view-versus-a-copy\n",
      "  df['dob'] = pd.to_datetime(df['dob'])\n",
      "C:\\Users\\oscar\\AppData\\Local\\Temp\\ipykernel_9440\\2371277237.py:85: SettingWithCopyWarning: \n",
      "A value is trying to be set on a copy of a slice from a DataFrame.\n",
      "Try using .loc[row_indexer,col_indexer] = value instead\n",
      "\n",
      "See the caveats in the documentation: https://pandas.pydata.org/pandas-docs/stable/user_guide/indexing.html#returning-a-view-versus-a-copy\n",
      "  df['dob_year'] = df['dob'].dt.year\n",
      "C:\\Users\\oscar\\AppData\\Local\\Temp\\ipykernel_9440\\2371277237.py:88: SettingWithCopyWarning: \n",
      "A value is trying to be set on a copy of a slice from a DataFrame.\n",
      "Try using .loc[row_indexer,col_indexer] = value instead\n",
      "\n",
      "See the caveats in the documentation: https://pandas.pydata.org/pandas-docs/stable/user_guide/indexing.html#returning-a-view-versus-a-copy\n",
      "  df['dob_month'] = df['dob'].dt.month\n",
      "C:\\Users\\oscar\\AppData\\Local\\Temp\\ipykernel_9440\\2371277237.py:91: SettingWithCopyWarning: \n",
      "A value is trying to be set on a copy of a slice from a DataFrame.\n",
      "Try using .loc[row_indexer,col_indexer] = value instead\n",
      "\n",
      "See the caveats in the documentation: https://pandas.pydata.org/pandas-docs/stable/user_guide/indexing.html#returning-a-view-versus-a-copy\n",
      "  df['dob_day'] = df['dob'].dt.day\n"
     ]
    }
   ],
   "source": [
    "X_test = feature_engineering( X_test )"
   ]
  },
  {
   "cell_type": "code",
   "execution_count": 91,
   "id": "77c740a0-9351-4ffe-a969-2dc695a76227",
   "metadata": {},
   "outputs": [
    {
     "name": "stdout",
     "output_type": "stream",
     "text": [
      "encodar como category_counts a coluna merchant\n",
      "encodar como TargetEncoder a coluna category\n",
      "encodar como category_counts a coluna first\n",
      "encodar como category_counts a coluna last\n",
      "encodar como OneHotEncoder a coluna gender\n",
      "encodar como category_counts a coluna street\n",
      "encodar como category_counts a coluna city\n",
      "encodar como TargetEncoder a coluna state\n",
      "encodar como category_counts a coluna job\n"
     ]
    }
   ],
   "source": [
    "X_test = encoding_test_data( X_test , enconding_map )"
   ]
  },
  {
   "cell_type": "markdown",
   "id": "f86c131a-7092-4d85-863f-a70907586671",
   "metadata": {},
   "source": [
    "### Results on new data"
   ]
  },
  {
   "cell_type": "code",
   "execution_count": 94,
   "id": "7191d023-80ca-4e18-9c3e-96a783845798",
   "metadata": {},
   "outputs": [
    {
     "data": {
      "image/png": "[encoded data removed]",
      "text/plain": [
       "<Figure size 600x500 with 2 Axes>"
      ]
     },
     "metadata": {},
     "output_type": "display_data"
    },
    {
     "name": "stderr",
     "output_type": "stream",
     "text": [
      "C:\\Users\\oscar\\AppData\\Local\\Temp\\ipykernel_9440\\1294571876.py:33: FutureWarning: \n",
      "\n",
      "Passing `palette` without assigning `hue` is deprecated and will be removed in v0.14.0. Assign the `y` variable to `hue` and set `legend=False` for the same effect.\n",
      "\n",
      "  sns.barplot(x='Importance', y='Feature', data=top_features, palette='viridis')\n"
     ]
    },
    {
     "data": {
      "image/png": "[encoded data removed]",
      "text/plain": [
       "<Figure size 1000x600 with 1 Axes>"
      ]
     },
     "metadata": {},
     "output_type": "display_data"
    }
   ],
   "source": [
    "y_pred = final_model.predict( X_test.drop('is_fraud', axis= 1) )\n",
    "\n",
    "y_pred_proba =  final_model.predict( X_test.drop('is_fraud',axis=1) )\n",
    "\n",
    "evaluation = eveluate_model( final_model, y_test ,y_pred, y_pred_proba)\n",
    "\n",
    "cm = confusion_matrix(y_test, y_pred)\n",
    "\n",
    "plt.figure(figsize=(6, 5))\n",
    "sns.heatmap(cm, annot=True, fmt='d', cmap='Blues', xticklabels=['Not Fraud', 'Fraud'], yticklabels=['Not Fraud', 'Fraud'])\n",
    "plt.title(f'Confusion Matrix for {final_model}')\n",
    "plt.xlabel('Predicted')\n",
    "plt.ylabel('True')\n",
    "plt.show()\n",
    "\n",
    "importances = final_model.feature_importances_\n",
    "features = X_test.drop('is_fraud', axis = 1).columns \n",
    "\n",
    "  \n",
    "df_importances = pd.DataFrame({\n",
    "    'Feature': features,\n",
    "    'Importance': importances\n",
    "})\n",
    "\n",
    "  \n",
    "df_importances = df_importances.sort_values(by='Importance', ascending=False)\n",
    "\n",
    " \n",
    "top_n = 10\n",
    "top_features = df_importances.head(top_n)\n",
    "\n",
    "plt.figure(figsize=(10, 6))\n",
    "sns.barplot(x='Importance', y='Feature', data=top_features, palette='viridis')\n",
    "plt.title(f'Top {top_n} Feature Importances - {'Lgbm Final Model'}')\n",
    "plt.xlabel('Importance')\n",
    "plt.ylabel('Features')\n",
    "plt.show()\n",
    "\n",
    "\n",
    "\n",
    "\n",
    "\n",
    "\n"
   ]
  }
 ],
 "metadata": {
  "kernelspec": {
   "display_name": "venv-fraud-dectection",
   "language": "python",
   "name": "venv-fraud-dectection"
  },
  "language_info": {
   "codemirror_mode": {
    "name": "ipython",
    "version": 3
   },
   "file_extension": ".py",
   "mimetype": "text/x-python",
   "name": "python",
   "nbconvert_exporter": "python",
   "pygments_lexer": "ipython3",
   "version": "3.12.5"
  }
 },
 "nbformat": 4,
 "nbformat_minor": 5
}
