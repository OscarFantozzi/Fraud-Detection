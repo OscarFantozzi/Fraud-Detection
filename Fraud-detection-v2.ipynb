{
 "cells": [
  {
   "cell_type": "markdown",
   "id": "4792ca47-7ab9-4098-a1dd-4e3d18a5a8a2",
   "metadata": {},
   "source": [
    "# Imports"
   ]
  },
  {
   "cell_type": "code",
   "execution_count": 2,
   "id": "264e10da-69e1-4628-a354-b3655395ca23",
   "metadata": {},
   "outputs": [],
   "source": [
    "# basics \n",
    "from watermark import watermark\n",
    "import pandas  as pd\n",
    "pd.options.display.float_format = '{:,.2f}'.format\n",
    "import joblib\n",
    "import numpy  as np\n",
    "import optuna\n",
    "\n",
    "# plot\n",
    "import matplotlib.pyplot as plt\n",
    "import plotly.express    as px\n",
    "import seaborn           as sns\n",
    "\n",
    "# feature selection\n",
    "from sklearn.feature_selection import SelectKBest, f_classif\n",
    "\n",
    "# encoders\n",
    "from category_encoders       import OneHotEncoder,TargetEncoder,BinaryEncoder\n",
    "\n",
    "\n",
    "# models\n",
    "from sklearn.ensemble import RandomForestClassifier\n",
    "import xgboost as xgb\n",
    "import lightgbm as lgb\n",
    "\n",
    "# metrics\n",
    "from sklearn.metrics import accuracy_score, precision_score, recall_score,f1_score,roc_auc_score,confusion_matrix\n",
    "from sklearn.model_selection import cross_val_predict, StratifiedKFold\n"
   ]
  },
  {
   "cell_type": "code",
   "execution_count": 3,
   "id": "ca2fa8f7-dfb6-4421-92fd-b76be5ebb6fe",
   "metadata": {},
   "outputs": [
    {
     "name": "stdout",
     "output_type": "stream",
     "text": [
      "pandas           : 2.1.4\n",
      "seaborn          : 0.13.2\n",
      "joblib           : 1.4.2\n",
      "numpy            : 1.26.4\n",
      "optuna           : 4.2.1\n",
      "matplotlib       : 3.10.0\n",
      "sklearn          : 1.5.2\n",
      "category_encoders: 2.6.3\n",
      "xgboost          : 1.7.6\n",
      "lightgbm         : 4.6.0\n",
      "\n"
     ]
    }
   ],
   "source": [
    "print( watermark( packages = 'pandas,seaborn,joblib,numpy,optuna,matplotlib,sklearn,category_encoders,xgboost,lightgbm' ) )"
   ]
  },
  {
   "cell_type": "markdown",
   "id": "127977c7-7da1-4b09-a2aa-c3c0e12639d8",
   "metadata": {},
   "source": [
    "### 0.0 - Functions"
   ]
  },
  {
   "cell_type": "code",
   "execution_count": 4,
   "id": "91c348a8-f83d-47d0-a404-49f9d4b049d4",
   "metadata": {},
   "outputs": [],
   "source": [
    "# convert lat long into km's\n",
    "from geopy.distance import geodesic\n",
    "\n",
    "def encoding_training_data( df, y):\n",
    "\n",
    "    dict_encoders = {}\n",
    "    \n",
    "    df_cat = df.select_dtypes(include=['object']).columns\n",
    "    \n",
    "    unique_count = df[df_cat].nunique() \n",
    "    \n",
    "    df_aux = pd.DataFrame(unique_count).reset_index().rename(columns = {'index': 'category', 0: 'count'})\n",
    "\n",
    "    for line in df_aux.iterrows():\n",
    "\n",
    "        # applying one hot encoding\n",
    "        if line[1]['count'] >=2 and line[1]['count'] <=6:\n",
    "\n",
    "            ohe = OneHotEncoder(handle_unknown='value')\n",
    "\n",
    "            ohe_trained = ohe.fit( df[ [ line[1]['category'] ] ])\n",
    "\n",
    "            joblib.dump(ohe_trained, f'encoders/ohe_trained{line[1]['category']}.pkl')\n",
    "\n",
    "            df_ohe = ohe_trained.transform( df[ [ line[1]['category'] ] ] ) \n",
    "\n",
    "            df = pd.concat( [df, df_ohe] , axis = 1 ).drop( line[1]['category'], axis = 1 )\n",
    "            \n",
    "            print(f'One Hot Encoding columns applied to: {line[1]['category']} column that has {line[1]['count']} values.')\n",
    "\n",
    "            dict_encoders[line[1]['category']] = 'OneHotEncoder'\n",
    "\n",
    "        # applying target encoding\n",
    "        if line[1]['count'] >=10 and line[1]['count'] <=60:\n",
    "\n",
    "            te = TargetEncoder(handle_unknown='value')\n",
    "\n",
    "            te_trained = te.fit( df[ [ line[1]['category'] ] ] , y = y )\n",
    "\n",
    "            joblib.dump(te_trained, f'encoders/te_trained{line[1]['category']}.pkl')\n",
    "\n",
    "            df[ line[1]['category'] ] = te_trained.transform( df[ [ line[1]['category'] ] ] ) \n",
    "\n",
    "            print( f'Target Enconding applied to: {line[1]['category']} column that has {line[1]['count']} values.' )\n",
    "\n",
    "            dict_encoders[line[1]['category']] = 'TargetEncoder'\n",
    "\n",
    "        # applying frequency encoding\n",
    "        if line[1]['count'] >=60:\n",
    "\n",
    "            category_counts = df[ line[1]['category'] ].value_counts()\n",
    "\n",
    "            df[ line[1]['category'] ] =  df[ line[1]['category'] ].map( category_counts )\n",
    "\n",
    "            joblib.dump(category_counts, f'encoders/category_counts{line[1]['category']}.pkl')\n",
    "\n",
    "            print(f'Frequency Encoding applied to: {line[1]['category']} column that has {line[1]['count']} values.')\n",
    "\n",
    "            dict_encoders[line[1]['category']] = 'category_counts'\n",
    "            \n",
    "    return df.select_dtypes(exclude = ['datetime']), dict_encoders\n",
    "\n",
    "def feature_engineering(df):\n",
    "\n",
    "    #df = df.sort_values(by = ['trans_date_trans_time','cc_num'], ascending = True)\n",
    "    \n",
    "    df['trans_date_trans_time'] = pd.to_datetime( df['trans_date_trans_time']  )\n",
    "\n",
    "    df['dob'] = pd.to_datetime( df['dob'] )\n",
    "\n",
    "    # extract year\n",
    "    df['trans_date_trans_time_year'] = df['trans_date_trans_time'].dt.year\n",
    "\n",
    "    # extract month\n",
    "    df['trans_date_trans_time_month'] = df['trans_date_trans_time'].dt.month\n",
    "\n",
    "    # extract day\n",
    "    df['trans_date_trans_time_day'] = df['trans_date_trans_time'].dt.day\n",
    "\n",
    "    # convert into datetime format\n",
    "    df['dob'] = pd.to_datetime(df['dob'])\n",
    "\n",
    "    # extract year from dob\n",
    "    df['dob_year'] = df['dob'].dt.year\n",
    "    \n",
    "    # extract month from dob\n",
    "    df['dob_month'] = df['dob'].dt.month\n",
    "\n",
    "    # extract day from dob\n",
    "    df['dob_day'] = df['dob'].dt.day\n",
    "\n",
    "    # time_diff_seconds\n",
    "    df['time_diff_seconds'] = (df['trans_date_trans_time'] - df['trans_date_trans_time'].shift()).dt.total_seconds()\n",
    "\n",
    "    # total_spent_by_cc\n",
    "    df['total_spent_by_cc'] = df.groupby('cc_num')['amt'].transform('sum')\n",
    "\n",
    "    # trans_last_hour\n",
    "    df['trans_last_hour'] = df.groupby('cc_num')['trans_date_trans_time'].transform(lambda x: (x - x.max()).dt.total_seconds() < 3600).sum()\n",
    "\n",
    "    # avg_transaction_amount\n",
    "    df['avg_transaction_amount'] = df.groupby('cc_num')['amt'].transform('mean')\n",
    "\n",
    "    # location_distance\n",
    "    df['location_distance'] =df.apply(lambda row: geodesic((row['lat'], row['long']), (row['merch_lat'], row['merch_long'])).km, axis=1)\n",
    "\n",
    "    # transactions_per_location\n",
    "    df['transactions_per_location'] = df.groupby(['merch_lat', 'merch_long'])['trans_num'].transform('count')\n",
    "\n",
    "    # age\n",
    "    df['age'] = (pd.to_datetime('today') - pd.to_datetime(df['dob'])).dt.days // 365\n",
    "\n",
    "    # amt_to_avg\n",
    "    df['amt_to_avg'] = df['amt'] / df['avg_transaction_amount']\n",
    "    \n",
    "    # unique_locations\n",
    "    df['unique_locations'] = df.groupby('cc_num')['merch_lat'].transform('nunique')\n",
    "\n",
    "    # most_frequent_category\n",
    "    df['most_frequent_category'] = df.groupby('cc_num')['category'].transform(lambda x: x.mode()[0])\n",
    "\n",
    "    # transactions_per_day\n",
    "    df['transactions_per_day'] = df.groupby(df['trans_date_trans_time'].dt.date)['trans_num'].transform('count')\n",
    "\n",
    "    # category_diversity\n",
    "    df['category_diversity'] = df.groupby('cc_num')['category'].transform('nunique')\n",
    "\n",
    "    # category_spending_deviation\n",
    "    df['category_spending_deviation'] = df.groupby('category')['amt'].transform(lambda x: (x - x.mean()).abs())\n",
    "    \n",
    "    # night_transactions\n",
    "    df['night_transactions'] = df['trans_date_trans_time'].dt.hour.between(0, 6).astype(int)\n",
    "\n",
    "    # merchant_transactions\n",
    "    df['merchant_transactions'] = df.groupby('merchant')['trans_num'].transform('count')\n",
    "\n",
    "    df = df.drop( ['Unnamed: 0','trans_num'], axis = 1 )\n",
    "\n",
    "    df = df.fillna(0)\n",
    "\n",
    "\n",
    "    return df\n",
    "    \n",
    "def encoding_test_data(df, enconding_map ):\n",
    "\n",
    "    test_cat_columns = df.select_dtypes( include = 'object' ).columns\n",
    "\n",
    "    for chave,valor in enconding_map.items():\n",
    "        \n",
    "        if valor == 'category_counts':\n",
    "\n",
    "            print(f'encodar como {valor} a coluna {chave}')\n",
    "    \n",
    "            fe_trained = joblib.load( f'encoders/category_counts{chave}.pkl' )\n",
    "            \n",
    "            df[chave] = df[chave].map( fe_trained )\n",
    "\n",
    "        if valor == 'TargetEncoder':\n",
    "\n",
    "            print(f'encodar como {valor} a coluna {chave}')\n",
    "    \n",
    "            te_trained = joblib.load( f'encoders/te_trained{chave}.pkl' )\n",
    "    \n",
    "            df[chave] = te_trained.transform( df[chave] )\n",
    "\n",
    "        if valor == 'OneHotEncoder':\n",
    "\n",
    "            print(f'encodar como {valor} a coluna {chave}')\n",
    "    \n",
    "            ohe = joblib.load( f'encoders/ohe_trained{chave}.pkl' )\n",
    "    \n",
    "            df_ohe = ohe.transform( df[chave] )\n",
    "\n",
    "            df = pd.concat( [df, df_ohe], axis = 1 )\n",
    "\n",
    "           \n",
    "    df = df.fillna(0)\n",
    "\n",
    "    return df.drop( 'gender', axis = 1 ).select_dtypes( exclude = ['datetime'] ) \n",
    "\n",
    "        \n",
    "def eveluate_model(model_name, y_test, y_pred, y_pred_proba):\n",
    "\n",
    "    df_result = pd.DataFrame()\n",
    "\n",
    "    accuracy = accuracy_score(y_test, y_pred)\n",
    "\n",
    "    precision = precision_score( y_test , y_pred )\n",
    "\n",
    "    recall = recall_score( y_test , y_pred )\n",
    "\n",
    "    f1 = f1_score( y_test , y_pred,average='binary' )\n",
    "\n",
    "    if y_pred_proba.ndim == 2:\n",
    "        roc = roc_auc_score(y_test, y_pred_proba[:, 1])  # Usando a probabilidade da classe positiva\n",
    "    else:\n",
    "        roc = roc_auc_score(y_test, y_pred_proba)\n",
    "\n",
    "\n",
    "    dict_results = {'Model Name': model_name,\n",
    "     'Accuracy_score': accuracy,\n",
    "     'Precision_score': precision,\n",
    "     'Recall': recall,\n",
    "     'F1_score': f1,\n",
    "     'ROC_AUC' : roc\n",
    "    }\n",
    "\n",
    "    return pd.DataFrame( dict_results, index = [0] )\n",
    "    \n",
    "        \n",
    "def evaluate_model_cv(model, X, y, cv=5):\n",
    "\n",
    "\n",
    "    tscv = TimeSeriesSplit(n_splits=cv)\n",
    "\n",
    "    \n",
    "    accuracy_scores = []\n",
    "    precision_scores = []\n",
    "    recall_scores = []\n",
    "    f1_scores = []\n",
    "    roc_auc_scores = []\n",
    "    \n",
    "\n",
    "    for train_index, val_index in tscv.split(X, y):\n",
    "        X_train, X_val = X.iloc[train_index], X.iloc[val_index]\n",
    "        y_train, y_val = y.iloc[train_index], y.iloc[val_index]\n",
    "    \n",
    "    \n",
    "        model.fit(X_train, y_train)\n",
    "    \n",
    "    \n",
    "        y_pred = model.predict(X_val)\n",
    "        y_pred_proba = model.predict_proba(X_val)[:, 1]\n",
    "\n",
    "    \n",
    "        accuracy_scores.append(accuracy_score(y_val, y_pred))\n",
    "        precision_scores.append(precision_score(y_val, y_pred))\n",
    "        recall_scores.append(recall_score(y_val, y_pred))\n",
    "        f1_scores.append(f1_score(y_val, y_pred,average='binary' ))\n",
    "        if y_pred_proba.ndim == 2:\n",
    "            roc = roc_auc_score(y_val, y_pred_proba[:, 1])  # Usando a probabilidade da classe positiva\n",
    "        else:\n",
    "            roc = roc_auc_score(y_val, y_pred_proba)\n",
    "    \n",
    "    \n",
    "    results = {\n",
    "        'Model Name': str(model),\n",
    "        'Accuracy_score': np.mean(accuracy_scores),\n",
    "        'Precision_score': np.mean(precision_scores),\n",
    "        'Recall': np.mean(recall_scores),\n",
    "        'F1_score': np.mean(f1_scores),\n",
    "        'ROC_AUC': np.mean(roc_auc_scores)\n",
    "    }\n",
    "    \n",
    "    \n",
    "    return pd.DataFrame(results, index=[0])\n"
   ]
  },
  {
   "cell_type": "markdown",
   "id": "4afdbe84-e505-40ff-abb2-348d680a25a4",
   "metadata": {},
   "source": [
    "## 1 - Load Data"
   ]
  },
  {
   "cell_type": "code",
   "execution_count": 47,
   "id": "7fa813f4-9aec-40d8-8f82-e867a1fb3dcb",
   "metadata": {},
   "outputs": [],
   "source": [
    "df = pd.read_csv( r'data/fraudTrain.csv' )\n",
    "df_test = pd.read_csv(r'data/fraudTest.csv')\n",
    "df.head().to_csv('sample.data.csv') "
   ]
  },
  {
   "cell_type": "markdown",
   "id": "4983bf13-e250-435a-8b16-af9a25d1710c",
   "metadata": {},
   "source": [
    "## 2 - Check Data"
   ]
  },
  {
   "cell_type": "code",
   "execution_count": 6,
   "id": "82180f1b-8f0d-4d7f-84b0-2c34476be5f0",
   "metadata": {},
   "outputs": [],
   "source": [
    "df2 = df.copy()"
   ]
  },
  {
   "cell_type": "markdown",
   "id": "ed542d35-4bd4-4ccf-997a-87f16dae0d17",
   "metadata": {},
   "source": [
    "### 2.1 - Check Shape"
   ]
  },
  {
   "cell_type": "code",
   "execution_count": 7,
   "id": "6de8bf1d-cd65-4d35-93e7-266aadd72abc",
   "metadata": {},
   "outputs": [
    {
     "name": "stdout",
     "output_type": "stream",
     "text": [
      "Dataset has 1,296,675.00 rows and 23 columns\n"
     ]
    }
   ],
   "source": [
    "print(f'Dataset has {df2.shape[0]:,.2f} rows and {df2.shape[1]:,} columns')"
   ]
  },
  {
   "cell_type": "markdown",
   "id": "93e33c33-f78d-471b-b19b-58fe3abf1b7f",
   "metadata": {},
   "source": [
    "## 3.0 - Split Data Into Train and Test"
   ]
  },
  {
   "cell_type": "code",
   "execution_count": 8,
   "id": "b57d4d6c-3347-4973-91d5-b4b82d1cf2ac",
   "metadata": {},
   "outputs": [],
   "source": [
    "df3 = df2.copy()\n",
    "\n",
    "# converto to datetime format\n",
    "df3['trans_date_trans_time'] = pd.to_datetime(df3['trans_date_trans_time'])\n",
    "df_test['trans_date_trans_time'] = pd.to_datetime(df_test['trans_date_trans_time'])\n",
    "\n",
    "# order df by customer account and datetime in ascending order \n",
    "df3 = df3.sort_values( by = ['cc_num','trans_date_trans_time'], ascending = True )\n",
    "df_test = df_test.sort_values(by = ['cc_num','trans_date_trans_time'],ascending = True)"
   ]
  },
  {
   "cell_type": "code",
   "execution_count": 9,
   "id": "cc972cf1-3976-44a4-af59-edbae0ddcfe2",
   "metadata": {},
   "outputs": [],
   "source": [
    "# min date val\n",
    "min_date = pd.to_datetime(df_test['trans_date_trans_time']).min() + pd.Timedelta(days=1)\n",
    "\n",
    "# max date val\n",
    "max_date_df_test = pd.to_datetime(df_test['trans_date_trans_time']).max()\n",
    "\n",
    "# max date train val\n",
    "max_date_val = max_date_df_test - pd.DateOffset(months=3)\n",
    "\n"
   ]
  },
  {
   "cell_type": "code",
   "execution_count": 10,
   "id": "9c5293c2-0c10-4f89-8073-335edc2d7581",
   "metadata": {},
   "outputs": [
    {
     "name": "stdout",
     "output_type": "stream",
     "text": [
      "Train dataset:\n",
      " min date:2019-01-01 00:00:18 | max date :2020-06-21 12:13:37\n",
      "Positive class: 7,506.00 negative class: 1,289,169.00 \n",
      "====================================================================================================\n",
      "Val dataset:\n",
      " min date:2020-06-22 12:14:42 | max date :2020-09-30 23:59:23\n",
      "Val class: 1,191.00 negative class: 269,359.00 \n"
     ]
    }
   ],
   "source": [
    "# split data into X_train\n",
    "X_train = df3.drop('is_fraud', axis = 1)\n",
    "\n",
    "# y_train\n",
    "y_train = df3['is_fraud']\n",
    "\n",
    "# X_val\n",
    "X_val = df_test.loc[ ( df_test['trans_date_trans_time'] >= min_date ) & (df_test['trans_date_trans_time'] <= max_date_val), : ]\n",
    "\n",
    "# y val\n",
    "y_val = X_val['is_fraud']\n",
    "\n",
    "# drop y\n",
    "X_val = X_val.drop('is_fraud', axis = 1)\n",
    "\n",
    "print(f'Train dataset:\\n min date:{X_train['trans_date_trans_time'].min()} | max date :{X_train['trans_date_trans_time'].max()}')\n",
    "print(f'Positive class: {y_train.value_counts()[1]:,.2f} negative class: {y_train.value_counts()[0]:,.2f} ')\n",
    "print('='*100)\n",
    "print(f'Val dataset:\\n min date:{X_val['trans_date_trans_time'].min()} | max date :{X_val['trans_date_trans_time'].max()}')\n",
    "print(f'Val class: {y_val.value_counts()[1]:,.2f} negative class: {y_val.value_counts()[0]:,.2f} ')"
   ]
  },
  {
   "cell_type": "markdown",
   "id": "180d1e29-61c8-4951-a9e4-ebd0b138c0d5",
   "metadata": {},
   "source": [
    "## 4 - Feature Engineering"
   ]
  },
  {
   "cell_type": "code",
   "execution_count": 11,
   "id": "ce62e2ba-7372-4306-acd6-354c1d019a61",
   "metadata": {},
   "outputs": [],
   "source": [
    "X_train = feature_engineering(X_train)\n",
    "\n",
    "X_val = feature_engineering(X_val)"
   ]
  },
  {
   "cell_type": "markdown",
   "id": "ef42496f-eedf-4979-9ba7-4ca7e86ee976",
   "metadata": {},
   "source": [
    "## 5 - Encoding"
   ]
  },
  {
   "cell_type": "code",
   "execution_count": 12,
   "id": "9e994267-6bce-4ced-8f9d-f7f25954b5e1",
   "metadata": {},
   "outputs": [
    {
     "name": "stdout",
     "output_type": "stream",
     "text": [
      "Frequency Encoding applied to: merchant column that has 693 values.\n",
      "Target Enconding applied to: category column that has 14 values.\n",
      "Frequency Encoding applied to: first column that has 352 values.\n",
      "Frequency Encoding applied to: last column that has 481 values.\n",
      "One Hot Encoding columns applied to: gender column that has 2 values.\n",
      "Frequency Encoding applied to: street column that has 983 values.\n",
      "Frequency Encoding applied to: city column that has 894 values.\n",
      "Target Enconding applied to: state column that has 51 values.\n",
      "Frequency Encoding applied to: job column that has 494 values.\n",
      "Target Enconding applied to: most_frequent_category column that has 10 values.\n"
     ]
    }
   ],
   "source": [
    "X_train, enconding_map = encoding_training_data(X_train,y_train)"
   ]
  },
  {
   "cell_type": "code",
   "execution_count": 13,
   "id": "9c73f0d2-434a-42a6-a446-73ae83a86667",
   "metadata": {},
   "outputs": [
    {
     "name": "stdout",
     "output_type": "stream",
     "text": [
      "encodar como category_counts a coluna merchant\n",
      "encodar como TargetEncoder a coluna category\n",
      "encodar como category_counts a coluna first\n",
      "encodar como category_counts a coluna last\n",
      "encodar como OneHotEncoder a coluna gender\n",
      "encodar como category_counts a coluna street\n",
      "encodar como category_counts a coluna city\n",
      "encodar como TargetEncoder a coluna state\n",
      "encodar como category_counts a coluna job\n",
      "encodar como TargetEncoder a coluna most_frequent_category\n"
     ]
    }
   ],
   "source": [
    "X_val = encoding_test_data(X_val, enconding_map)"
   ]
  },
  {
   "cell_type": "markdown",
   "id": "24265b24-2297-4bb7-9db9-cc49e271698f",
   "metadata": {},
   "source": [
    "## 6 - Hyperparameter Fine Tuning"
   ]
  },
  {
   "cell_type": "code",
   "execution_count": 14,
   "id": "51860a6a-76f1-4802-82c1-d38e67419861",
   "metadata": {},
   "outputs": [
    {
     "name": "stdout",
     "output_type": "stream",
     "text": [
      "171.75179856115108\n"
     ]
    }
   ],
   "source": [
    "# calculate scale_pos_weight\n",
    "n_negative = y_train.value_counts()[0]\n",
    "n_positive = y_train.value_counts()[1]\n",
    "scale_pos_weight = n_negative / n_positive\n",
    "print(scale_pos_weight)"
   ]
  },
  {
   "cell_type": "code",
   "execution_count": 15,
   "id": "98fb6e39-2e85-4c6b-8bb7-b5256343fb37",
   "metadata": {},
   "outputs": [
    {
     "name": "stderr",
     "output_type": "stream",
     "text": [
      "[I 2025-03-15 16:20:49,556] A new study created in memory with name: no-name-bd52a993-babd-43c6-91a4-048c1a9ada3d\n",
      "[I 2025-03-15 16:22:47,131] Trial 0 finished with value: 0.29980563654033043 and parameters: {'num_leaves': 157, 'max_depth': 9, 'learning_rate': 0.15156619727519746, 'n_estimators': 997, 'subsample': 0.6034696570869336, 'colsample_bytree': 0.7262671203448047, 'min_child_samples': 57, 'lambda_l1': 0.35499794440074095, 'lambda_l2': 0.8338300343649537, 'scale_pos_weight': 118.1583757411904}. Best is trial 0 with value: 0.29980563654033043.\n",
      "[I 2025-03-15 16:23:06,988] Trial 1 finished with value: 0.21016508996475608 and parameters: {'num_leaves': 190, 'max_depth': 4, 'learning_rate': 0.0440729217268274, 'n_estimators': 220, 'subsample': 0.6535986054363772, 'colsample_bytree': 0.7382047354711816, 'min_child_samples': 67, 'lambda_l1': 0.3372351785245249, 'lambda_l2': 0.06386364559343916, 'scale_pos_weight': 123.91114149507199}. Best is trial 0 with value: 0.29980563654033043.\n",
      "[I 2025-03-15 16:23:51,877] Trial 2 finished with value: 0.21183473389355742 and parameters: {'num_leaves': 45, 'max_depth': 9, 'learning_rate': 0.1721925286224772, 'n_estimators': 441, 'subsample': 0.8434040962097087, 'colsample_bytree': 0.5817425319655765, 'min_child_samples': 12, 'lambda_l1': 0.965091168678882, 'lambda_l2': 0.3647864008350339, 'scale_pos_weight': 28.620467148844465}. Best is trial 0 with value: 0.29980563654033043.\n",
      "[I 2025-03-15 16:24:41,839] Trial 3 finished with value: 0.105399428232375 and parameters: {'num_leaves': 50, 'max_depth': 12, 'learning_rate': 0.10627614526543548, 'n_estimators': 468, 'subsample': 0.8073810273657642, 'colsample_bytree': 0.8077919344820434, 'min_child_samples': 99, 'lambda_l1': 0.08397838004946145, 'lambda_l2': 0.3898886466468652, 'scale_pos_weight': 159.46959855256523}. Best is trial 0 with value: 0.29980563654033043.\n",
      "[I 2025-03-15 16:25:15,672] Trial 4 finished with value: 0.17825618945102262 and parameters: {'num_leaves': 181, 'max_depth': 3, 'learning_rate': 0.16685971718106987, 'n_estimators': 515, 'subsample': 0.7517130442833952, 'colsample_bytree': 0.7446325825757674, 'min_child_samples': 21, 'lambda_l1': 0.06113571939830709, 'lambda_l2': 0.6993612051990149, 'scale_pos_weight': 19.177508106997813}. Best is trial 0 with value: 0.29980563654033043.\n",
      "[I 2025-03-15 16:26:12,571] Trial 5 finished with value: 0.643414410279945 and parameters: {'num_leaves': 208, 'max_depth': 8, 'learning_rate': 0.07586165309324866, 'n_estimators': 468, 'subsample': 0.9237770060458876, 'colsample_bytree': 0.6760679365558184, 'min_child_samples': 69, 'lambda_l1': 0.17031841843762263, 'lambda_l2': 0.40211397434023255, 'scale_pos_weight': 42.56032222118709}. Best is trial 5 with value: 0.643414410279945.\n",
      "[I 2025-03-15 16:27:40,821] Trial 6 finished with value: 0.3276283618581907 and parameters: {'num_leaves': 181, 'max_depth': 9, 'learning_rate': 0.13023275182663663, 'n_estimators': 656, 'subsample': 0.929689764673524, 'colsample_bytree': 0.6801525870603116, 'min_child_samples': 71, 'lambda_l1': 0.18158015549580098, 'lambda_l2': 0.9356416912279539, 'scale_pos_weight': 170.5467822995769}. Best is trial 5 with value: 0.643414410279945.\n",
      "[I 2025-03-15 16:28:15,077] Trial 7 finished with value: 0.16631578947368422 and parameters: {'num_leaves': 288, 'max_depth': 4, 'learning_rate': 0.11540100921428433, 'n_estimators': 355, 'subsample': 0.7347283233117514, 'colsample_bytree': 0.8913706923813882, 'min_child_samples': 29, 'lambda_l1': 0.6056942320910619, 'lambda_l2': 0.9356674392075269, 'scale_pos_weight': 104.95079950551123}. Best is trial 5 with value: 0.643414410279945.\n",
      "[I 2025-03-15 16:31:05,142] Trial 8 finished with value: 0.32610887096774194 and parameters: {'num_leaves': 253, 'max_depth': 12, 'learning_rate': 0.09387041325286101, 'n_estimators': 901, 'subsample': 0.607128245198449, 'colsample_bytree': 0.8508186427814439, 'min_child_samples': 72, 'lambda_l1': 0.607083178364802, 'lambda_l2': 0.42704612321556124, 'scale_pos_weight': 170.71781637568066}. Best is trial 5 with value: 0.643414410279945.\n",
      "[I 2025-03-15 16:32:26,204] Trial 9 finished with value: 0.6252302025782689 and parameters: {'num_leaves': 231, 'max_depth': 8, 'learning_rate': 0.063267376022753, 'n_estimators': 677, 'subsample': 0.763116881225544, 'colsample_bytree': 0.9622467257835184, 'min_child_samples': 59, 'lambda_l1': 0.4224698311997579, 'lambda_l2': 0.23807639144096915, 'scale_pos_weight': 166.3975905075294}. Best is trial 5 with value: 0.643414410279945.\n"
     ]
    },
    {
     "name": "stdout",
     "output_type": "stream",
     "text": [
      "Best hyperparameters:  {'num_leaves': 208, 'max_depth': 8, 'learning_rate': 0.07586165309324866, 'n_estimators': 468, 'subsample': 0.9237770060458876, 'colsample_bytree': 0.6760679365558184, 'min_child_samples': 69, 'lambda_l1': 0.17031841843762263, 'lambda_l2': 0.40211397434023255, 'scale_pos_weight': 42.56032222118709}\n",
      "Final F1-score: 0.6372819100091828\n"
     ]
    }
   ],
   "source": [
    "def objective(trial):\n",
    "    param = {\n",
    "        'objective': 'binary', \n",
    "        'metric': 'binary_error',  \n",
    "        'boosting_type': 'gbdt', \n",
    "        'verbosity': -1, \n",
    "        'num_leaves': trial.suggest_int('num_leaves', 30, 300),\n",
    "        'max_depth': trial.suggest_int('max_depth', 3, 12),\n",
    "        'learning_rate': trial.suggest_float('learning_rate', 0.01, 0.2),\n",
    "        'n_estimators': trial.suggest_int('n_estimators', 100, 1000),\n",
    "        'subsample': trial.suggest_float('subsample', 0.5, 1.0),\n",
    "        'colsample_bytree': trial.suggest_float('colsample_bytree', 0.5, 1.0),\n",
    "        'min_child_samples': trial.suggest_int('min_child_samples', 10, 100),\n",
    "        'lambda_l1': trial.suggest_float('lambda_l1', 0.0, 1.0),\n",
    "        'lambda_l2': trial.suggest_float('lambda_l2', 0.0, 1.0),\n",
    "        'scale_pos_weight': trial.suggest_float('scale_pos_weight', 3,scale_pos_weight),\n",
    "    }\n",
    "\n",
    "    # training the model\n",
    "    model = lgb.LGBMClassifier(**param)\n",
    "    model.fit(X_train, y_train)\n",
    "\n",
    "    # predict\n",
    "    y_pred = model.predict(X_val)\n",
    "    \n",
    "    # calculating f1-score\n",
    "    f1 = f1_score(y_val, y_pred)\n",
    "    \n",
    "    return f1\n",
    "\n",
    "# creating optuna study\n",
    "study = optuna.create_study(direction='maximize') \n",
    "study.optimize(objective, n_trials=10)\n",
    "\n",
    "# best params\n",
    "best_params = study.best_params\n",
    "print(\"Best hyperparameters: \", best_params)\n",
    "\n",
    "# training model with best params\n",
    "final_model = lgb.LGBMClassifier(**best_params)\n",
    "final_model.fit(X_train, y_train)\n",
    "\n",
    "# final pred\n",
    "final_y_pred = final_model.predict(X_val)\n",
    "final_f1 = f1_score(y_val, final_y_pred)\n",
    "print(f'Final F1-score: {final_f1}')\n"
   ]
  },
  {
   "cell_type": "code",
   "execution_count": 16,
   "id": "1d4931e3-f5ad-4575-a2cc-8e3f5b5e6918",
   "metadata": {},
   "outputs": [
    {
     "data": {
      "text/plain": [
       "['model/final_model_v2.pkl']"
      ]
     },
     "execution_count": 16,
     "metadata": {},
     "output_type": "execute_result"
    }
   ],
   "source": [
    "# exporting trained model\n",
    "joblib.dump(final_model, 'model/final_model_v2.pkl')"
   ]
  },
  {
   "cell_type": "markdown",
   "id": "2f00b02a-4997-4ff7-9789-1e49e09fb025",
   "metadata": {},
   "source": [
    "## Feature Selection"
   ]
  },
  {
   "cell_type": "code",
   "execution_count": 17,
   "id": "fd697f60-5046-4502-bf48-dbc2371299ed",
   "metadata": {},
   "outputs": [],
   "source": [
    "X_train = X_train.fillna(0)"
   ]
  },
  {
   "cell_type": "code",
   "execution_count": 18,
   "id": "4413fe0d-ed07-467c-93b8-f8e02f559bab",
   "metadata": {},
   "outputs": [],
   "source": [
    "best_params = {'num_leaves': 210,\n",
    "               'max_depth': 6, \n",
    "               'learning_rate': 0.031848689347613535,\n",
    "               'n_estimators': 684,\n",
    "               'subsample': 0.6156461555507093,\n",
    "               'colsample_bytree': 0.8845570949493153,\n",
    "               'min_child_samples': 23,\n",
    "               'lambda_l1': 0.25260756669271045,\n",
    "               'lambda_l2': 0.14410813797453115,\n",
    "               'scale_pos_weight': 160.6239184141396}"
   ]
  },
  {
   "cell_type": "code",
   "execution_count": 19,
   "id": "f19d5c54-9994-42a7-bb45-779421065408",
   "metadata": {},
   "outputs": [
    {
     "name": "stderr",
     "output_type": "stream",
     "text": [
      "D:\\repos\\fraud detection\\venv-fraud-detection\\Lib\\site-packages\\sklearn\\feature_selection\\_univariate_selection.py:112: UserWarning: Features [28] are constant.\n",
      "  warnings.warn(\"Features %s are constant.\" % constant_features_idx, UserWarning)\n",
      "D:\\repos\\fraud detection\\venv-fraud-detection\\Lib\\site-packages\\sklearn\\feature_selection\\_univariate_selection.py:113: RuntimeWarning: invalid value encountered in divide\n",
      "  f = msb / msw\n"
     ]
    },
    {
     "name": "stdout",
     "output_type": "stream",
     "text": [
      "k:2 F1_score: 0.08330320922199462\n"
     ]
    },
    {
     "name": "stderr",
     "output_type": "stream",
     "text": [
      "D:\\repos\\fraud detection\\venv-fraud-detection\\Lib\\site-packages\\sklearn\\feature_selection\\_univariate_selection.py:112: UserWarning: Features [28] are constant.\n",
      "  warnings.warn(\"Features %s are constant.\" % constant_features_idx, UserWarning)\n",
      "D:\\repos\\fraud detection\\venv-fraud-detection\\Lib\\site-packages\\sklearn\\feature_selection\\_univariate_selection.py:113: RuntimeWarning: invalid value encountered in divide\n",
      "  f = msb / msw\n"
     ]
    },
    {
     "name": "stdout",
     "output_type": "stream",
     "text": [
      "k:4 F1_score: 0.11752039891205802\n"
     ]
    },
    {
     "name": "stderr",
     "output_type": "stream",
     "text": [
      "D:\\repos\\fraud detection\\venv-fraud-detection\\Lib\\site-packages\\sklearn\\feature_selection\\_univariate_selection.py:112: UserWarning: Features [28] are constant.\n",
      "  warnings.warn(\"Features %s are constant.\" % constant_features_idx, UserWarning)\n",
      "D:\\repos\\fraud detection\\venv-fraud-detection\\Lib\\site-packages\\sklearn\\feature_selection\\_univariate_selection.py:113: RuntimeWarning: invalid value encountered in divide\n",
      "  f = msb / msw\n"
     ]
    },
    {
     "name": "stdout",
     "output_type": "stream",
     "text": [
      "k:6 F1_score: 0.12283279459300617\n"
     ]
    },
    {
     "name": "stderr",
     "output_type": "stream",
     "text": [
      "D:\\repos\\fraud detection\\venv-fraud-detection\\Lib\\site-packages\\sklearn\\feature_selection\\_univariate_selection.py:112: UserWarning: Features [28] are constant.\n",
      "  warnings.warn(\"Features %s are constant.\" % constant_features_idx, UserWarning)\n",
      "D:\\repos\\fraud detection\\venv-fraud-detection\\Lib\\site-packages\\sklearn\\feature_selection\\_univariate_selection.py:113: RuntimeWarning: invalid value encountered in divide\n",
      "  f = msb / msw\n"
     ]
    },
    {
     "name": "stdout",
     "output_type": "stream",
     "text": [
      "k:8 F1_score: 0.336327817178881\n"
     ]
    },
    {
     "name": "stderr",
     "output_type": "stream",
     "text": [
      "D:\\repos\\fraud detection\\venv-fraud-detection\\Lib\\site-packages\\sklearn\\feature_selection\\_univariate_selection.py:112: UserWarning: Features [28] are constant.\n",
      "  warnings.warn(\"Features %s are constant.\" % constant_features_idx, UserWarning)\n",
      "D:\\repos\\fraud detection\\venv-fraud-detection\\Lib\\site-packages\\sklearn\\feature_selection\\_univariate_selection.py:113: RuntimeWarning: invalid value encountered in divide\n",
      "  f = msb / msw\n"
     ]
    },
    {
     "name": "stdout",
     "output_type": "stream",
     "text": [
      "k:10 F1_score: 0.47876857749469215\n"
     ]
    },
    {
     "name": "stderr",
     "output_type": "stream",
     "text": [
      "D:\\repos\\fraud detection\\venv-fraud-detection\\Lib\\site-packages\\sklearn\\feature_selection\\_univariate_selection.py:112: UserWarning: Features [28] are constant.\n",
      "  warnings.warn(\"Features %s are constant.\" % constant_features_idx, UserWarning)\n",
      "D:\\repos\\fraud detection\\venv-fraud-detection\\Lib\\site-packages\\sklearn\\feature_selection\\_univariate_selection.py:113: RuntimeWarning: invalid value encountered in divide\n",
      "  f = msb / msw\n"
     ]
    },
    {
     "name": "stdout",
     "output_type": "stream",
     "text": [
      "k:12 F1_score: 0.38\n"
     ]
    },
    {
     "name": "stderr",
     "output_type": "stream",
     "text": [
      "D:\\repos\\fraud detection\\venv-fraud-detection\\Lib\\site-packages\\sklearn\\feature_selection\\_univariate_selection.py:112: UserWarning: Features [28] are constant.\n",
      "  warnings.warn(\"Features %s are constant.\" % constant_features_idx, UserWarning)\n",
      "D:\\repos\\fraud detection\\venv-fraud-detection\\Lib\\site-packages\\sklearn\\feature_selection\\_univariate_selection.py:113: RuntimeWarning: invalid value encountered in divide\n",
      "  f = msb / msw\n"
     ]
    },
    {
     "name": "stdout",
     "output_type": "stream",
     "text": [
      "k:14 F1_score: 0.35965229989134373\n"
     ]
    },
    {
     "name": "stderr",
     "output_type": "stream",
     "text": [
      "D:\\repos\\fraud detection\\venv-fraud-detection\\Lib\\site-packages\\sklearn\\feature_selection\\_univariate_selection.py:112: UserWarning: Features [28] are constant.\n",
      "  warnings.warn(\"Features %s are constant.\" % constant_features_idx, UserWarning)\n",
      "D:\\repos\\fraud detection\\venv-fraud-detection\\Lib\\site-packages\\sklearn\\feature_selection\\_univariate_selection.py:113: RuntimeWarning: invalid value encountered in divide\n",
      "  f = msb / msw\n"
     ]
    },
    {
     "name": "stdout",
     "output_type": "stream",
     "text": [
      "k:16 F1_score: 0.450151762783096\n"
     ]
    },
    {
     "name": "stderr",
     "output_type": "stream",
     "text": [
      "D:\\repos\\fraud detection\\venv-fraud-detection\\Lib\\site-packages\\sklearn\\feature_selection\\_univariate_selection.py:112: UserWarning: Features [28] are constant.\n",
      "  warnings.warn(\"Features %s are constant.\" % constant_features_idx, UserWarning)\n",
      "D:\\repos\\fraud detection\\venv-fraud-detection\\Lib\\site-packages\\sklearn\\feature_selection\\_univariate_selection.py:113: RuntimeWarning: invalid value encountered in divide\n",
      "  f = msb / msw\n"
     ]
    },
    {
     "name": "stdout",
     "output_type": "stream",
     "text": [
      "k:18 F1_score: 0.411663807890223\n"
     ]
    },
    {
     "name": "stderr",
     "output_type": "stream",
     "text": [
      "D:\\repos\\fraud detection\\venv-fraud-detection\\Lib\\site-packages\\sklearn\\feature_selection\\_univariate_selection.py:112: UserWarning: Features [28] are constant.\n",
      "  warnings.warn(\"Features %s are constant.\" % constant_features_idx, UserWarning)\n",
      "D:\\repos\\fraud detection\\venv-fraud-detection\\Lib\\site-packages\\sklearn\\feature_selection\\_univariate_selection.py:113: RuntimeWarning: invalid value encountered in divide\n",
      "  f = msb / msw\n"
     ]
    },
    {
     "name": "stdout",
     "output_type": "stream",
     "text": [
      "k:20 F1_score: 0.22805851063829788\n"
     ]
    },
    {
     "name": "stderr",
     "output_type": "stream",
     "text": [
      "D:\\repos\\fraud detection\\venv-fraud-detection\\Lib\\site-packages\\sklearn\\feature_selection\\_univariate_selection.py:112: UserWarning: Features [28] are constant.\n",
      "  warnings.warn(\"Features %s are constant.\" % constant_features_idx, UserWarning)\n",
      "D:\\repos\\fraud detection\\venv-fraud-detection\\Lib\\site-packages\\sklearn\\feature_selection\\_univariate_selection.py:113: RuntimeWarning: invalid value encountered in divide\n",
      "  f = msb / msw\n"
     ]
    },
    {
     "name": "stdout",
     "output_type": "stream",
     "text": [
      "k:22 F1_score: 0.425566018833901\n"
     ]
    },
    {
     "name": "stderr",
     "output_type": "stream",
     "text": [
      "D:\\repos\\fraud detection\\venv-fraud-detection\\Lib\\site-packages\\sklearn\\feature_selection\\_univariate_selection.py:112: UserWarning: Features [28] are constant.\n",
      "  warnings.warn(\"Features %s are constant.\" % constant_features_idx, UserWarning)\n",
      "D:\\repos\\fraud detection\\venv-fraud-detection\\Lib\\site-packages\\sklearn\\feature_selection\\_univariate_selection.py:113: RuntimeWarning: invalid value encountered in divide\n",
      "  f = msb / msw\n"
     ]
    },
    {
     "name": "stdout",
     "output_type": "stream",
     "text": [
      "k:24 F1_score: 0.39100538933283774\n"
     ]
    },
    {
     "name": "stderr",
     "output_type": "stream",
     "text": [
      "D:\\repos\\fraud detection\\venv-fraud-detection\\Lib\\site-packages\\sklearn\\feature_selection\\_univariate_selection.py:112: UserWarning: Features [28] are constant.\n",
      "  warnings.warn(\"Features %s are constant.\" % constant_features_idx, UserWarning)\n",
      "D:\\repos\\fraud detection\\venv-fraud-detection\\Lib\\site-packages\\sklearn\\feature_selection\\_univariate_selection.py:113: RuntimeWarning: invalid value encountered in divide\n",
      "  f = msb / msw\n"
     ]
    },
    {
     "name": "stdout",
     "output_type": "stream",
     "text": [
      "k:26 F1_score: 0.6080508474576272\n"
     ]
    },
    {
     "name": "stderr",
     "output_type": "stream",
     "text": [
      "D:\\repos\\fraud detection\\venv-fraud-detection\\Lib\\site-packages\\sklearn\\feature_selection\\_univariate_selection.py:112: UserWarning: Features [28] are constant.\n",
      "  warnings.warn(\"Features %s are constant.\" % constant_features_idx, UserWarning)\n",
      "D:\\repos\\fraud detection\\venv-fraud-detection\\Lib\\site-packages\\sklearn\\feature_selection\\_univariate_selection.py:113: RuntimeWarning: invalid value encountered in divide\n",
      "  f = msb / msw\n"
     ]
    },
    {
     "name": "stdout",
     "output_type": "stream",
     "text": [
      "k:28 F1_score: 0.15640766902119072\n"
     ]
    },
    {
     "name": "stderr",
     "output_type": "stream",
     "text": [
      "D:\\repos\\fraud detection\\venv-fraud-detection\\Lib\\site-packages\\sklearn\\feature_selection\\_univariate_selection.py:112: UserWarning: Features [28] are constant.\n",
      "  warnings.warn(\"Features %s are constant.\" % constant_features_idx, UserWarning)\n",
      "D:\\repos\\fraud detection\\venv-fraud-detection\\Lib\\site-packages\\sklearn\\feature_selection\\_univariate_selection.py:113: RuntimeWarning: invalid value encountered in divide\n",
      "  f = msb / msw\n"
     ]
    },
    {
     "name": "stdout",
     "output_type": "stream",
     "text": [
      "k:30 F1_score: 0.6639676113360324\n"
     ]
    },
    {
     "name": "stderr",
     "output_type": "stream",
     "text": [
      "D:\\repos\\fraud detection\\venv-fraud-detection\\Lib\\site-packages\\sklearn\\feature_selection\\_univariate_selection.py:112: UserWarning: Features [28] are constant.\n",
      "  warnings.warn(\"Features %s are constant.\" % constant_features_idx, UserWarning)\n",
      "D:\\repos\\fraud detection\\venv-fraud-detection\\Lib\\site-packages\\sklearn\\feature_selection\\_univariate_selection.py:113: RuntimeWarning: invalid value encountered in divide\n",
      "  f = msb / msw\n"
     ]
    },
    {
     "name": "stdout",
     "output_type": "stream",
     "text": [
      "k:32 F1_score: 0.6802616390919585\n"
     ]
    },
    {
     "name": "stderr",
     "output_type": "stream",
     "text": [
      "D:\\repos\\fraud detection\\venv-fraud-detection\\Lib\\site-packages\\sklearn\\feature_selection\\_univariate_selection.py:112: UserWarning: Features [28] are constant.\n",
      "  warnings.warn(\"Features %s are constant.\" % constant_features_idx, UserWarning)\n",
      "D:\\repos\\fraud detection\\venv-fraud-detection\\Lib\\site-packages\\sklearn\\feature_selection\\_univariate_selection.py:113: RuntimeWarning: invalid value encountered in divide\n",
      "  f = msb / msw\n"
     ]
    },
    {
     "name": "stdout",
     "output_type": "stream",
     "text": [
      "k:34 F1_score: 0.6356085229324666\n"
     ]
    },
    {
     "name": "stderr",
     "output_type": "stream",
     "text": [
      "D:\\repos\\fraud detection\\venv-fraud-detection\\Lib\\site-packages\\sklearn\\feature_selection\\_univariate_selection.py:112: UserWarning: Features [28] are constant.\n",
      "  warnings.warn(\"Features %s are constant.\" % constant_features_idx, UserWarning)\n",
      "D:\\repos\\fraud detection\\venv-fraud-detection\\Lib\\site-packages\\sklearn\\feature_selection\\_univariate_selection.py:113: RuntimeWarning: invalid value encountered in divide\n",
      "  f = msb / msw\n"
     ]
    },
    {
     "name": "stdout",
     "output_type": "stream",
     "text": [
      "k:36 F1_score: 0.634272997032641\n"
     ]
    },
    {
     "name": "stderr",
     "output_type": "stream",
     "text": [
      "D:\\repos\\fraud detection\\venv-fraud-detection\\Lib\\site-packages\\sklearn\\feature_selection\\_univariate_selection.py:112: UserWarning: Features [28] are constant.\n",
      "  warnings.warn(\"Features %s are constant.\" % constant_features_idx, UserWarning)\n",
      "D:\\repos\\fraud detection\\venv-fraud-detection\\Lib\\site-packages\\sklearn\\feature_selection\\_univariate_selection.py:113: RuntimeWarning: invalid value encountered in divide\n",
      "  f = msb / msw\n"
     ]
    },
    {
     "name": "stdout",
     "output_type": "stream",
     "text": [
      "k:38 F1_score: 0.6272855133614628\n"
     ]
    }
   ],
   "source": [
    "k_vs_score = []\n",
    "\n",
    "for k in range(2, len(X_train.columns), 2): \n",
    "    \n",
    "    selector = SelectKBest(score_func=f_classif, k=k)\n",
    "    \n",
    "    \n",
    "    Xtrain2 = selector.fit_transform(X_train, y_train)\n",
    "    \n",
    "    \n",
    "    Xval2 = selector.transform(X_val)\n",
    "\n",
    "    mdl = lgb.LGBMClassifier(**best_params)\n",
    "\n",
    "   \n",
    "    mdl.fit(Xtrain2, y_train)\n",
    "\n",
    "    \n",
    "    p = mdl.predict(Xval2)\n",
    "\n",
    "    \n",
    "    score = f1_score(y_val, p)\n",
    "    \n",
    "    print(f'k:{k} F1_score: {score}')\n",
    "    \n",
    "    k_vs_score.append({'k': k, 'F1_Score': score})\n"
   ]
  },
  {
   "cell_type": "code",
   "execution_count": 23,
   "id": "2e261ded-fa28-4e4e-9029-aa71f6b0fe2d",
   "metadata": {},
   "outputs": [
    {
     "data": {
      "text/html": [
       "<div>\n",
       "<style scoped>\n",
       "    .dataframe tbody tr th:only-of-type {\n",
       "        vertical-align: middle;\n",
       "    }\n",
       "\n",
       "    .dataframe tbody tr th {\n",
       "        vertical-align: top;\n",
       "    }\n",
       "\n",
       "    .dataframe thead th {\n",
       "        text-align: right;\n",
       "    }\n",
       "</style>\n",
       "<table border=\"1\" class=\"dataframe\">\n",
       "  <thead>\n",
       "    <tr style=\"text-align: right;\">\n",
       "      <th></th>\n",
       "      <th>k</th>\n",
       "      <th>F1_Score</th>\n",
       "    </tr>\n",
       "  </thead>\n",
       "  <tbody>\n",
       "    <tr>\n",
       "      <th>15</th>\n",
       "      <td>32</td>\n",
       "      <td>0.68</td>\n",
       "    </tr>\n",
       "    <tr>\n",
       "      <th>14</th>\n",
       "      <td>30</td>\n",
       "      <td>0.66</td>\n",
       "    </tr>\n",
       "    <tr>\n",
       "      <th>16</th>\n",
       "      <td>34</td>\n",
       "      <td>0.64</td>\n",
       "    </tr>\n",
       "    <tr>\n",
       "      <th>17</th>\n",
       "      <td>36</td>\n",
       "      <td>0.63</td>\n",
       "    </tr>\n",
       "    <tr>\n",
       "      <th>18</th>\n",
       "      <td>38</td>\n",
       "      <td>0.63</td>\n",
       "    </tr>\n",
       "    <tr>\n",
       "      <th>12</th>\n",
       "      <td>26</td>\n",
       "      <td>0.61</td>\n",
       "    </tr>\n",
       "    <tr>\n",
       "      <th>4</th>\n",
       "      <td>10</td>\n",
       "      <td>0.48</td>\n",
       "    </tr>\n",
       "    <tr>\n",
       "      <th>7</th>\n",
       "      <td>16</td>\n",
       "      <td>0.45</td>\n",
       "    </tr>\n",
       "    <tr>\n",
       "      <th>10</th>\n",
       "      <td>22</td>\n",
       "      <td>0.43</td>\n",
       "    </tr>\n",
       "    <tr>\n",
       "      <th>8</th>\n",
       "      <td>18</td>\n",
       "      <td>0.41</td>\n",
       "    </tr>\n",
       "    <tr>\n",
       "      <th>11</th>\n",
       "      <td>24</td>\n",
       "      <td>0.39</td>\n",
       "    </tr>\n",
       "    <tr>\n",
       "      <th>5</th>\n",
       "      <td>12</td>\n",
       "      <td>0.38</td>\n",
       "    </tr>\n",
       "    <tr>\n",
       "      <th>6</th>\n",
       "      <td>14</td>\n",
       "      <td>0.36</td>\n",
       "    </tr>\n",
       "    <tr>\n",
       "      <th>3</th>\n",
       "      <td>8</td>\n",
       "      <td>0.34</td>\n",
       "    </tr>\n",
       "    <tr>\n",
       "      <th>9</th>\n",
       "      <td>20</td>\n",
       "      <td>0.23</td>\n",
       "    </tr>\n",
       "    <tr>\n",
       "      <th>13</th>\n",
       "      <td>28</td>\n",
       "      <td>0.16</td>\n",
       "    </tr>\n",
       "    <tr>\n",
       "      <th>2</th>\n",
       "      <td>6</td>\n",
       "      <td>0.12</td>\n",
       "    </tr>\n",
       "    <tr>\n",
       "      <th>1</th>\n",
       "      <td>4</td>\n",
       "      <td>0.12</td>\n",
       "    </tr>\n",
       "    <tr>\n",
       "      <th>0</th>\n",
       "      <td>2</td>\n",
       "      <td>0.08</td>\n",
       "    </tr>\n",
       "  </tbody>\n",
       "</table>\n",
       "</div>"
      ],
      "text/plain": [
       "     k  F1_Score\n",
       "15  32      0.68\n",
       "14  30      0.66\n",
       "16  34      0.64\n",
       "17  36      0.63\n",
       "18  38      0.63\n",
       "12  26      0.61\n",
       "4   10      0.48\n",
       "7   16      0.45\n",
       "10  22      0.43\n",
       "8   18      0.41\n",
       "11  24      0.39\n",
       "5   12      0.38\n",
       "6   14      0.36\n",
       "3    8      0.34\n",
       "9   20      0.23\n",
       "13  28      0.16\n",
       "2    6      0.12\n",
       "1    4      0.12\n",
       "0    2      0.08"
      ]
     },
     "execution_count": 23,
     "metadata": {},
     "output_type": "execute_result"
    }
   ],
   "source": [
    "df_k_vs_score = pd.DataFrame(k_vs_score)\n",
    "df_k_vs_score_sorted_score = df_k_vs_score.sort_values(by='F1_Score', ascending=False)\n",
    "df_k_vs_score_sorted_score"
   ]
  },
  {
   "cell_type": "code",
   "execution_count": 24,
   "id": "445cdc0d-efe3-47cc-b70d-25b2cfcb5ea4",
   "metadata": {},
   "outputs": [
    {
     "data": {
      "text/plain": [
       "[<matplotlib.lines.Line2D at 0x12d0555af60>]"
      ]
     },
     "execution_count": 24,
     "metadata": {},
     "output_type": "execute_result"
    },
    {
     "data": {
      "image/png": "[encoded data removed]",
      "text/plain": [
       "<Figure size 640x480 with 1 Axes>"
      ]
     },
     "metadata": {},
     "output_type": "display_data"
    }
   ],
   "source": [
    "plt.plot(df_k_vs_score['k'], df_k_vs_score['F1_Score'], marker='o', linestyle='-', color='b')\n"
   ]
  },
  {
   "cell_type": "code",
   "execution_count": 41,
   "id": "fc15588d-c8c2-4ee0-884e-e304f240a0e1",
   "metadata": {},
   "outputs": [
    {
     "data": {
      "text/html": [
       "<style>#sk-container-id-2 {\n",
       "  /* Definition of color scheme common for light and dark mode */\n",
       "  --sklearn-color-text: black;\n",
       "  --sklearn-color-line: gray;\n",
       "  /* Definition of color scheme for unfitted estimators */\n",
       "  --sklearn-color-unfitted-level-0: #fff5e6;\n",
       "  --sklearn-color-unfitted-level-1: #f6e4d2;\n",
       "  --sklearn-color-unfitted-level-2: #ffe0b3;\n",
       "  --sklearn-color-unfitted-level-3: chocolate;\n",
       "  /* Definition of color scheme for fitted estimators */\n",
       "  --sklearn-color-fitted-level-0: #f0f8ff;\n",
       "  --sklearn-color-fitted-level-1: #d4ebff;\n",
       "  --sklearn-color-fitted-level-2: #b3dbfd;\n",
       "  --sklearn-color-fitted-level-3: cornflowerblue;\n",
       "\n",
       "  /* Specific color for light theme */\n",
       "  --sklearn-color-text-on-default-background: var(--sg-text-color, var(--theme-code-foreground, var(--jp-content-font-color1, black)));\n",
       "  --sklearn-color-background: var(--sg-background-color, var(--theme-background, var(--jp-layout-color0, white)));\n",
       "  --sklearn-color-border-box: var(--sg-text-color, var(--theme-code-foreground, var(--jp-content-font-color1, black)));\n",
       "  --sklearn-color-icon: #696969;\n",
       "\n",
       "  @media (prefers-color-scheme: dark) {\n",
       "    /* Redefinition of color scheme for dark theme */\n",
       "    --sklearn-color-text-on-default-background: var(--sg-text-color, var(--theme-code-foreground, var(--jp-content-font-color1, white)));\n",
       "    --sklearn-color-background: var(--sg-background-color, var(--theme-background, var(--jp-layout-color0, #111)));\n",
       "    --sklearn-color-border-box: var(--sg-text-color, var(--theme-code-foreground, var(--jp-content-font-color1, white)));\n",
       "    --sklearn-color-icon: #878787;\n",
       "  }\n",
       "}\n",
       "\n",
       "#sk-container-id-2 {\n",
       "  color: var(--sklearn-color-text);\n",
       "}\n",
       "\n",
       "#sk-container-id-2 pre {\n",
       "  padding: 0;\n",
       "}\n",
       "\n",
       "#sk-container-id-2 input.sk-hidden--visually {\n",
       "  border: 0;\n",
       "  clip: rect(1px 1px 1px 1px);\n",
       "  clip: rect(1px, 1px, 1px, 1px);\n",
       "  height: 1px;\n",
       "  margin: -1px;\n",
       "  overflow: hidden;\n",
       "  padding: 0;\n",
       "  position: absolute;\n",
       "  width: 1px;\n",
       "}\n",
       "\n",
       "#sk-container-id-2 div.sk-dashed-wrapped {\n",
       "  border: 1px dashed var(--sklearn-color-line);\n",
       "  margin: 0 0.4em 0.5em 0.4em;\n",
       "  box-sizing: border-box;\n",
       "  padding-bottom: 0.4em;\n",
       "  background-color: var(--sklearn-color-background);\n",
       "}\n",
       "\n",
       "#sk-container-id-2 div.sk-container {\n",
       "  /* jupyter's `normalize.less` sets `[hidden] { display: none; }`\n",
       "     but bootstrap.min.css set `[hidden] { display: none !important; }`\n",
       "     so we also need the `!important` here to be able to override the\n",
       "     default hidden behavior on the sphinx rendered scikit-learn.org.\n",
       "     See: https://github.com/scikit-learn/scikit-learn/issues/21755 */\n",
       "  display: inline-block !important;\n",
       "  position: relative;\n",
       "}\n",
       "\n",
       "#sk-container-id-2 div.sk-text-repr-fallback {\n",
       "  display: none;\n",
       "}\n",
       "\n",
       "div.sk-parallel-item,\n",
       "div.sk-serial,\n",
       "div.sk-item {\n",
       "  /* draw centered vertical line to link estimators */\n",
       "  background-image: linear-gradient(var(--sklearn-color-text-on-default-background), var(--sklearn-color-text-on-default-background));\n",
       "  background-size: 2px 100%;\n",
       "  background-repeat: no-repeat;\n",
       "  background-position: center center;\n",
       "}\n",
       "\n",
       "/* Parallel-specific style estimator block */\n",
       "\n",
       "#sk-container-id-2 div.sk-parallel-item::after {\n",
       "  content: \"\";\n",
       "  width: 100%;\n",
       "  border-bottom: 2px solid var(--sklearn-color-text-on-default-background);\n",
       "  flex-grow: 1;\n",
       "}\n",
       "\n",
       "#sk-container-id-2 div.sk-parallel {\n",
       "  display: flex;\n",
       "  align-items: stretch;\n",
       "  justify-content: center;\n",
       "  background-color: var(--sklearn-color-background);\n",
       "  position: relative;\n",
       "}\n",
       "\n",
       "#sk-container-id-2 div.sk-parallel-item {\n",
       "  display: flex;\n",
       "  flex-direction: column;\n",
       "}\n",
       "\n",
       "#sk-container-id-2 div.sk-parallel-item:first-child::after {\n",
       "  align-self: flex-end;\n",
       "  width: 50%;\n",
       "}\n",
       "\n",
       "#sk-container-id-2 div.sk-parallel-item:last-child::after {\n",
       "  align-self: flex-start;\n",
       "  width: 50%;\n",
       "}\n",
       "\n",
       "#sk-container-id-2 div.sk-parallel-item:only-child::after {\n",
       "  width: 0;\n",
       "}\n",
       "\n",
       "/* Serial-specific style estimator block */\n",
       "\n",
       "#sk-container-id-2 div.sk-serial {\n",
       "  display: flex;\n",
       "  flex-direction: column;\n",
       "  align-items: center;\n",
       "  background-color: var(--sklearn-color-background);\n",
       "  padding-right: 1em;\n",
       "  padding-left: 1em;\n",
       "}\n",
       "\n",
       "\n",
       "/* Toggleable style: style used for estimator/Pipeline/ColumnTransformer box that is\n",
       "clickable and can be expanded/collapsed.\n",
       "- Pipeline and ColumnTransformer use this feature and define the default style\n",
       "- Estimators will overwrite some part of the style using the `sk-estimator` class\n",
       "*/\n",
       "\n",
       "/* Pipeline and ColumnTransformer style (default) */\n",
       "\n",
       "#sk-container-id-2 div.sk-toggleable {\n",
       "  /* Default theme specific background. It is overwritten whether we have a\n",
       "  specific estimator or a Pipeline/ColumnTransformer */\n",
       "  background-color: var(--sklearn-color-background);\n",
       "}\n",
       "\n",
       "/* Toggleable label */\n",
       "#sk-container-id-2 label.sk-toggleable__label {\n",
       "  cursor: pointer;\n",
       "  display: block;\n",
       "  width: 100%;\n",
       "  margin-bottom: 0;\n",
       "  padding: 0.5em;\n",
       "  box-sizing: border-box;\n",
       "  text-align: center;\n",
       "}\n",
       "\n",
       "#sk-container-id-2 label.sk-toggleable__label-arrow:before {\n",
       "  /* Arrow on the left of the label */\n",
       "  content: \"▸\";\n",
       "  float: left;\n",
       "  margin-right: 0.25em;\n",
       "  color: var(--sklearn-color-icon);\n",
       "}\n",
       "\n",
       "#sk-container-id-2 label.sk-toggleable__label-arrow:hover:before {\n",
       "  color: var(--sklearn-color-text);\n",
       "}\n",
       "\n",
       "/* Toggleable content - dropdown */\n",
       "\n",
       "#sk-container-id-2 div.sk-toggleable__content {\n",
       "  max-height: 0;\n",
       "  max-width: 0;\n",
       "  overflow: hidden;\n",
       "  text-align: left;\n",
       "  /* unfitted */\n",
       "  background-color: var(--sklearn-color-unfitted-level-0);\n",
       "}\n",
       "\n",
       "#sk-container-id-2 div.sk-toggleable__content.fitted {\n",
       "  /* fitted */\n",
       "  background-color: var(--sklearn-color-fitted-level-0);\n",
       "}\n",
       "\n",
       "#sk-container-id-2 div.sk-toggleable__content pre {\n",
       "  margin: 0.2em;\n",
       "  border-radius: 0.25em;\n",
       "  color: var(--sklearn-color-text);\n",
       "  /* unfitted */\n",
       "  background-color: var(--sklearn-color-unfitted-level-0);\n",
       "}\n",
       "\n",
       "#sk-container-id-2 div.sk-toggleable__content.fitted pre {\n",
       "  /* unfitted */\n",
       "  background-color: var(--sklearn-color-fitted-level-0);\n",
       "}\n",
       "\n",
       "#sk-container-id-2 input.sk-toggleable__control:checked~div.sk-toggleable__content {\n",
       "  /* Expand drop-down */\n",
       "  max-height: 200px;\n",
       "  max-width: 100%;\n",
       "  overflow: auto;\n",
       "}\n",
       "\n",
       "#sk-container-id-2 input.sk-toggleable__control:checked~label.sk-toggleable__label-arrow:before {\n",
       "  content: \"▾\";\n",
       "}\n",
       "\n",
       "/* Pipeline/ColumnTransformer-specific style */\n",
       "\n",
       "#sk-container-id-2 div.sk-label input.sk-toggleable__control:checked~label.sk-toggleable__label {\n",
       "  color: var(--sklearn-color-text);\n",
       "  background-color: var(--sklearn-color-unfitted-level-2);\n",
       "}\n",
       "\n",
       "#sk-container-id-2 div.sk-label.fitted input.sk-toggleable__control:checked~label.sk-toggleable__label {\n",
       "  background-color: var(--sklearn-color-fitted-level-2);\n",
       "}\n",
       "\n",
       "/* Estimator-specific style */\n",
       "\n",
       "/* Colorize estimator box */\n",
       "#sk-container-id-2 div.sk-estimator input.sk-toggleable__control:checked~label.sk-toggleable__label {\n",
       "  /* unfitted */\n",
       "  background-color: var(--sklearn-color-unfitted-level-2);\n",
       "}\n",
       "\n",
       "#sk-container-id-2 div.sk-estimator.fitted input.sk-toggleable__control:checked~label.sk-toggleable__label {\n",
       "  /* fitted */\n",
       "  background-color: var(--sklearn-color-fitted-level-2);\n",
       "}\n",
       "\n",
       "#sk-container-id-2 div.sk-label label.sk-toggleable__label,\n",
       "#sk-container-id-2 div.sk-label label {\n",
       "  /* The background is the default theme color */\n",
       "  color: var(--sklearn-color-text-on-default-background);\n",
       "}\n",
       "\n",
       "/* On hover, darken the color of the background */\n",
       "#sk-container-id-2 div.sk-label:hover label.sk-toggleable__label {\n",
       "  color: var(--sklearn-color-text);\n",
       "  background-color: var(--sklearn-color-unfitted-level-2);\n",
       "}\n",
       "\n",
       "/* Label box, darken color on hover, fitted */\n",
       "#sk-container-id-2 div.sk-label.fitted:hover label.sk-toggleable__label.fitted {\n",
       "  color: var(--sklearn-color-text);\n",
       "  background-color: var(--sklearn-color-fitted-level-2);\n",
       "}\n",
       "\n",
       "/* Estimator label */\n",
       "\n",
       "#sk-container-id-2 div.sk-label label {\n",
       "  font-family: monospace;\n",
       "  font-weight: bold;\n",
       "  display: inline-block;\n",
       "  line-height: 1.2em;\n",
       "}\n",
       "\n",
       "#sk-container-id-2 div.sk-label-container {\n",
       "  text-align: center;\n",
       "}\n",
       "\n",
       "/* Estimator-specific */\n",
       "#sk-container-id-2 div.sk-estimator {\n",
       "  font-family: monospace;\n",
       "  border: 1px dotted var(--sklearn-color-border-box);\n",
       "  border-radius: 0.25em;\n",
       "  box-sizing: border-box;\n",
       "  margin-bottom: 0.5em;\n",
       "  /* unfitted */\n",
       "  background-color: var(--sklearn-color-unfitted-level-0);\n",
       "}\n",
       "\n",
       "#sk-container-id-2 div.sk-estimator.fitted {\n",
       "  /* fitted */\n",
       "  background-color: var(--sklearn-color-fitted-level-0);\n",
       "}\n",
       "\n",
       "/* on hover */\n",
       "#sk-container-id-2 div.sk-estimator:hover {\n",
       "  /* unfitted */\n",
       "  background-color: var(--sklearn-color-unfitted-level-2);\n",
       "}\n",
       "\n",
       "#sk-container-id-2 div.sk-estimator.fitted:hover {\n",
       "  /* fitted */\n",
       "  background-color: var(--sklearn-color-fitted-level-2);\n",
       "}\n",
       "\n",
       "/* Specification for estimator info (e.g. \"i\" and \"?\") */\n",
       "\n",
       "/* Common style for \"i\" and \"?\" */\n",
       "\n",
       ".sk-estimator-doc-link,\n",
       "a:link.sk-estimator-doc-link,\n",
       "a:visited.sk-estimator-doc-link {\n",
       "  float: right;\n",
       "  font-size: smaller;\n",
       "  line-height: 1em;\n",
       "  font-family: monospace;\n",
       "  background-color: var(--sklearn-color-background);\n",
       "  border-radius: 1em;\n",
       "  height: 1em;\n",
       "  width: 1em;\n",
       "  text-decoration: none !important;\n",
       "  margin-left: 1ex;\n",
       "  /* unfitted */\n",
       "  border: var(--sklearn-color-unfitted-level-1) 1pt solid;\n",
       "  color: var(--sklearn-color-unfitted-level-1);\n",
       "}\n",
       "\n",
       ".sk-estimator-doc-link.fitted,\n",
       "a:link.sk-estimator-doc-link.fitted,\n",
       "a:visited.sk-estimator-doc-link.fitted {\n",
       "  /* fitted */\n",
       "  border: var(--sklearn-color-fitted-level-1) 1pt solid;\n",
       "  color: var(--sklearn-color-fitted-level-1);\n",
       "}\n",
       "\n",
       "/* On hover */\n",
       "div.sk-estimator:hover .sk-estimator-doc-link:hover,\n",
       ".sk-estimator-doc-link:hover,\n",
       "div.sk-label-container:hover .sk-estimator-doc-link:hover,\n",
       ".sk-estimator-doc-link:hover {\n",
       "  /* unfitted */\n",
       "  background-color: var(--sklearn-color-unfitted-level-3);\n",
       "  color: var(--sklearn-color-background);\n",
       "  text-decoration: none;\n",
       "}\n",
       "\n",
       "div.sk-estimator.fitted:hover .sk-estimator-doc-link.fitted:hover,\n",
       ".sk-estimator-doc-link.fitted:hover,\n",
       "div.sk-label-container:hover .sk-estimator-doc-link.fitted:hover,\n",
       ".sk-estimator-doc-link.fitted:hover {\n",
       "  /* fitted */\n",
       "  background-color: var(--sklearn-color-fitted-level-3);\n",
       "  color: var(--sklearn-color-background);\n",
       "  text-decoration: none;\n",
       "}\n",
       "\n",
       "/* Span, style for the box shown on hovering the info icon */\n",
       ".sk-estimator-doc-link span {\n",
       "  display: none;\n",
       "  z-index: 9999;\n",
       "  position: relative;\n",
       "  font-weight: normal;\n",
       "  right: .2ex;\n",
       "  padding: .5ex;\n",
       "  margin: .5ex;\n",
       "  width: min-content;\n",
       "  min-width: 20ex;\n",
       "  max-width: 50ex;\n",
       "  color: var(--sklearn-color-text);\n",
       "  box-shadow: 2pt 2pt 4pt #999;\n",
       "  /* unfitted */\n",
       "  background: var(--sklearn-color-unfitted-level-0);\n",
       "  border: .5pt solid var(--sklearn-color-unfitted-level-3);\n",
       "}\n",
       "\n",
       ".sk-estimator-doc-link.fitted span {\n",
       "  /* fitted */\n",
       "  background: var(--sklearn-color-fitted-level-0);\n",
       "  border: var(--sklearn-color-fitted-level-3);\n",
       "}\n",
       "\n",
       ".sk-estimator-doc-link:hover span {\n",
       "  display: block;\n",
       "}\n",
       "\n",
       "/* \"?\"-specific style due to the `<a>` HTML tag */\n",
       "\n",
       "#sk-container-id-2 a.estimator_doc_link {\n",
       "  float: right;\n",
       "  font-size: 1rem;\n",
       "  line-height: 1em;\n",
       "  font-family: monospace;\n",
       "  background-color: var(--sklearn-color-background);\n",
       "  border-radius: 1rem;\n",
       "  height: 1rem;\n",
       "  width: 1rem;\n",
       "  text-decoration: none;\n",
       "  /* unfitted */\n",
       "  color: var(--sklearn-color-unfitted-level-1);\n",
       "  border: var(--sklearn-color-unfitted-level-1) 1pt solid;\n",
       "}\n",
       "\n",
       "#sk-container-id-2 a.estimator_doc_link.fitted {\n",
       "  /* fitted */\n",
       "  border: var(--sklearn-color-fitted-level-1) 1pt solid;\n",
       "  color: var(--sklearn-color-fitted-level-1);\n",
       "}\n",
       "\n",
       "/* On hover */\n",
       "#sk-container-id-2 a.estimator_doc_link:hover {\n",
       "  /* unfitted */\n",
       "  background-color: var(--sklearn-color-unfitted-level-3);\n",
       "  color: var(--sklearn-color-background);\n",
       "  text-decoration: none;\n",
       "}\n",
       "\n",
       "#sk-container-id-2 a.estimator_doc_link.fitted:hover {\n",
       "  /* fitted */\n",
       "  background-color: var(--sklearn-color-fitted-level-3);\n",
       "}\n",
       "</style><div id=\"sk-container-id-2\" class=\"sk-top-container\"><div class=\"sk-text-repr-fallback\"><pre>SelectKBest(k=32)</pre><b>In a Jupyter environment, please rerun this cell to show the HTML representation or trust the notebook. <br />On GitHub, the HTML representation is unable to render, please try loading this page with nbviewer.org.</b></div><div class=\"sk-container\" hidden><div class=\"sk-item\"><div class=\"sk-estimator fitted sk-toggleable\"><input class=\"sk-toggleable__control sk-hidden--visually\" id=\"sk-estimator-id-2\" type=\"checkbox\" checked><label for=\"sk-estimator-id-2\" class=\"sk-toggleable__label fitted sk-toggleable__label-arrow fitted\">&nbsp;&nbsp;SelectKBest<a class=\"sk-estimator-doc-link fitted\" rel=\"noreferrer\" target=\"_blank\" href=\"https://scikit-learn.org/1.5/modules/generated/sklearn.feature_selection.SelectKBest.html\">?<span>Documentation for SelectKBest</span></a><span class=\"sk-estimator-doc-link fitted\">i<span>Fitted</span></span></label><div class=\"sk-toggleable__content fitted\"><pre>SelectKBest(k=32)</pre></div> </div></div></div></div>"
      ],
      "text/plain": [
       "SelectKBest(k=32)"
      ]
     },
     "execution_count": 41,
     "metadata": {},
     "output_type": "execute_result"
    }
   ],
   "source": [
    "selector = SelectKBest(score_func=f_classif, k=32)\n",
    "selector.fit(X_train, y_train)"
   ]
  },
  {
   "cell_type": "code",
   "execution_count": 27,
   "id": "f527a598-a4d3-4e56-b528-9c2c7f0354b4",
   "metadata": {},
   "outputs": [
    {
     "data": {
      "text/plain": [
       "['feature_selection/k_best_selection']"
      ]
     },
     "execution_count": 27,
     "metadata": {},
     "output_type": "execute_result"
    }
   ],
   "source": [
    "selected_columns = selector.get_support()\n",
    "joblib.dump(selected_columns, 'feature_selection/k_best_selection')"
   ]
  },
  {
   "cell_type": "code",
   "execution_count": 28,
   "id": "0e11ecf0-7959-46d5-a9bf-84512bb00d6a",
   "metadata": {},
   "outputs": [],
   "source": [
    "# selecting columns for X_train and X_val\n",
    "X_train = X_train.iloc[:,selected_columns]\n",
    "X_val = X_val.iloc[:,selected_columns]"
   ]
  },
  {
   "cell_type": "markdown",
   "id": "179a6550-664c-459d-b4aa-4af73e0b34df",
   "metadata": {},
   "source": [
    "## 7 - Training Model"
   ]
  },
  {
   "cell_type": "markdown",
   "id": "8d32278a-06c1-4dd4-9e8f-36c007a6a91f",
   "metadata": {},
   "source": [
    "### lgbm"
   ]
  },
  {
   "cell_type": "code",
   "execution_count": 29,
   "id": "f5aeacfa-218a-4e70-81d5-1e5335b05540",
   "metadata": {},
   "outputs": [],
   "source": [
    "\n",
    "final_model.fit( X_train, y_train )\n",
    "\n",
    "y_pred_lgbm = final_model.predict( X_val )\n",
    "y_proba = final_model.predict_proba( X_val )\n",
    "\n"
   ]
  },
  {
   "cell_type": "code",
   "execution_count": 30,
   "id": "e28555fa-ee71-4c66-906b-5681d3db6923",
   "metadata": {},
   "outputs": [
    {
     "data": {
      "text/html": [
       "<div>\n",
       "<style scoped>\n",
       "    .dataframe tbody tr th:only-of-type {\n",
       "        vertical-align: middle;\n",
       "    }\n",
       "\n",
       "    .dataframe tbody tr th {\n",
       "        vertical-align: top;\n",
       "    }\n",
       "\n",
       "    .dataframe thead th {\n",
       "        text-align: right;\n",
       "    }\n",
       "</style>\n",
       "<table border=\"1\" class=\"dataframe\">\n",
       "  <thead>\n",
       "    <tr style=\"text-align: right;\">\n",
       "      <th></th>\n",
       "      <th>Model Name</th>\n",
       "      <th>Accuracy_score</th>\n",
       "      <th>Precision_score</th>\n",
       "      <th>Recall</th>\n",
       "      <th>F1_score</th>\n",
       "      <th>ROC_AUC</th>\n",
       "    </tr>\n",
       "  </thead>\n",
       "  <tbody>\n",
       "    <tr>\n",
       "      <th>0</th>\n",
       "      <td>lgb_model</td>\n",
       "      <td>1.00</td>\n",
       "      <td>0.71</td>\n",
       "      <td>0.62</td>\n",
       "      <td>0.66</td>\n",
       "      <td>0.99</td>\n",
       "    </tr>\n",
       "  </tbody>\n",
       "</table>\n",
       "</div>"
      ],
      "text/plain": [
       "  Model Name  Accuracy_score  Precision_score  Recall  F1_score  ROC_AUC\n",
       "0  lgb_model            1.00             0.71    0.62      0.66     0.99"
      ]
     },
     "execution_count": 30,
     "metadata": {},
     "output_type": "execute_result"
    }
   ],
   "source": [
    "result_lgbm = eveluate_model( 'lgb_model', y_val , y_pred_lgbm, y_proba )\n",
    "result_lgbm"
   ]
  },
  {
   "cell_type": "code",
   "execution_count": 31,
   "id": "24df3ab4-8570-41ed-bd37-afcf125b47ce",
   "metadata": {},
   "outputs": [
    {
     "data": {
      "image/png": "[encoded data removed]",
      "text/plain": [
       "<Figure size 600x500 with 2 Axes>"
      ]
     },
     "metadata": {},
     "output_type": "display_data"
    }
   ],
   "source": [
    "cm = confusion_matrix(y_val, y_pred_lgbm)\n",
    "\n",
    "plt.figure(figsize=(6, 5))\n",
    "sns.heatmap(cm, annot=True, fmt='d', cmap='Blues')\n",
    "\n",
    "\n",
    "\n",
    "plt.show()"
   ]
  },
  {
   "cell_type": "markdown",
   "id": "d3cdbb0f-92a1-421c-9e4f-157de580880b",
   "metadata": {},
   "source": [
    "## 6 - Testing on unseen data"
   ]
  },
  {
   "cell_type": "code",
   "execution_count": 48,
   "id": "212ef083-e171-4c9b-a682-af94eafb65ed",
   "metadata": {},
   "outputs": [
    {
     "name": "stdout",
     "output_type": "stream",
     "text": [
      "====================================================================================================\n",
      "Test dataset:\n",
      " min date:2020-10-01 00:00:02 | max date :2020-12-31 23:59:34\n",
      "Positive class: 936.00 negative class: 280,585.00 \n",
      "====================================================================================================\n"
     ]
    }
   ],
   "source": [
    "X_test = df_test.loc[ (pd.to_datetime(df_test['trans_date_trans_time']) >= max_date_val ) & (pd.to_datetime(df_test['trans_date_trans_time'])<= max_date_df_test), :]\n",
    "y_test = X_test['is_fraud']\n",
    "X_test = X_test.drop('is_fraud', axis = 1)\n",
    "\n",
    "print('='*100)\n",
    "print(f'Test dataset:\\n min date:{X_test['trans_date_trans_time'].min()} | max date :{X_test['trans_date_trans_time'].max()}')\n",
    "print(f'Positive class: {y_test.value_counts()[1]:,.2f} negative class: {y_test.value_counts()[0]:,.2f} ')\n",
    "print('='*100)\n"
   ]
  },
  {
   "cell_type": "code",
   "execution_count": 49,
   "id": "864b1412-6f27-4446-b062-72195a083535",
   "metadata": {},
   "outputs": [],
   "source": [
    "X_test = feature_engineering( X_test )"
   ]
  },
  {
   "cell_type": "code",
   "execution_count": 50,
   "id": "77c740a0-9351-4ffe-a969-2dc695a76227",
   "metadata": {},
   "outputs": [
    {
     "name": "stdout",
     "output_type": "stream",
     "text": [
      "encodar como category_counts a coluna merchant\n",
      "encodar como TargetEncoder a coluna category\n",
      "encodar como category_counts a coluna first\n",
      "encodar como category_counts a coluna last\n",
      "encodar como OneHotEncoder a coluna gender\n",
      "encodar como category_counts a coluna street\n",
      "encodar como category_counts a coluna city\n",
      "encodar como TargetEncoder a coluna state\n",
      "encodar como category_counts a coluna job\n",
      "encodar como TargetEncoder a coluna most_frequent_category\n"
     ]
    }
   ],
   "source": [
    "X_test = encoding_test_data( X_test , enconding_map )"
   ]
  },
  {
   "cell_type": "markdown",
   "id": "f86c131a-7092-4d85-863f-a70907586671",
   "metadata": {},
   "source": [
    "### Results on new data"
   ]
  },
  {
   "cell_type": "code",
   "execution_count": 55,
   "id": "7191d023-80ca-4e18-9c3e-96a783845798",
   "metadata": {},
   "outputs": [
    {
     "data": {
      "text/html": [
       "<div>\n",
       "<style scoped>\n",
       "    .dataframe tbody tr th:only-of-type {\n",
       "        vertical-align: middle;\n",
       "    }\n",
       "\n",
       "    .dataframe tbody tr th {\n",
       "        vertical-align: top;\n",
       "    }\n",
       "\n",
       "    .dataframe thead th {\n",
       "        text-align: right;\n",
       "    }\n",
       "</style>\n",
       "<table border=\"1\" class=\"dataframe\">\n",
       "  <thead>\n",
       "    <tr style=\"text-align: right;\">\n",
       "      <th></th>\n",
       "      <th>Model Name</th>\n",
       "      <th>Accuracy_score</th>\n",
       "      <th>Precision_score</th>\n",
       "      <th>Recall</th>\n",
       "      <th>F1_score</th>\n",
       "      <th>ROC_AUC</th>\n",
       "    </tr>\n",
       "  </thead>\n",
       "  <tbody>\n",
       "    <tr>\n",
       "      <th>0</th>\n",
       "      <td>LGBMClassifier(colsample_bytree=0.676067936555...</td>\n",
       "      <td>1.00</td>\n",
       "      <td>0.48</td>\n",
       "      <td>0.70</td>\n",
       "      <td>0.57</td>\n",
       "      <td>0.85</td>\n",
       "    </tr>\n",
       "  </tbody>\n",
       "</table>\n",
       "</div>"
      ],
      "text/plain": [
       "                                          Model Name  Accuracy_score  \\\n",
       "0  LGBMClassifier(colsample_bytree=0.676067936555...            1.00   \n",
       "\n",
       "   Precision_score  Recall  F1_score  ROC_AUC  \n",
       "0             0.48    0.70      0.57     0.85  "
      ]
     },
     "metadata": {},
     "output_type": "display_data"
    },
    {
     "data": {
      "image/png": "[encoded data removed]",
      "text/plain": [
       "<Figure size 600x500 with 2 Axes>"
      ]
     },
     "metadata": {},
     "output_type": "display_data"
    },
    {
     "name": "stderr",
     "output_type": "stream",
     "text": [
      "C:\\Users\\oscar\\AppData\\Local\\Temp\\ipykernel_8508\\2056674609.py:35: FutureWarning: \n",
      "\n",
      "Passing `palette` without assigning `hue` is deprecated and will be removed in v0.14.0. Assign the `y` variable to `hue` and set `legend=False` for the same effect.\n",
      "\n",
      "  sns.barplot(x='Importance', y='Feature', data=top_features, palette='viridis')\n"
     ]
    },
    {
     "data": {
      "image/png": "[encoded data removed]",
      "text/plain": [
       "<Figure size 1000x600 with 1 Axes>"
      ]
     },
     "metadata": {},
     "output_type": "display_data"
    }
   ],
   "source": [
    "y_pred = final_model.predict( X_test )\n",
    "\n",
    "y_pred_proba =  final_model.predict( X_test )\n",
    "\n",
    "evaluation = eveluate_model( final_model, y_test ,y_pred, y_pred_proba)\n",
    "\n",
    "display(evaluation)\n",
    "\n",
    "cm = confusion_matrix(y_test, y_pred)\n",
    "\n",
    "plt.figure(figsize=(6, 5))\n",
    "sns.heatmap(cm, annot=True, fmt='d', cmap='Blues', xticklabels=['Not Fraud', 'Fraud'], yticklabels=['Not Fraud', 'Fraud'])\n",
    "plt.title(f'Confusion Matrix for {final_model}')\n",
    "plt.xlabel('Predicted')\n",
    "plt.ylabel('True')\n",
    "plt.show()\n",
    "\n",
    "importances = final_model.feature_importances_\n",
    "features = X_test.columns \n",
    "\n",
    "  \n",
    "df_importances = pd.DataFrame({\n",
    "    'Feature': features,\n",
    "    'Importance': importances\n",
    "})\n",
    "\n",
    "  \n",
    "df_importances = df_importances.sort_values(by='Importance', ascending=False)\n",
    "\n",
    " \n",
    "\n",
    "top_features = df_importances\n",
    "\n",
    "plt.figure(figsize=(10, 6))\n",
    "sns.barplot(x='Importance', y='Feature', data=top_features, palette='viridis')\n",
    "plt.title(f'Feature Importances - {'Lgbm Final Model'}')\n",
    "plt.xlabel('Importance')\n",
    "plt.ylabel('Features')\n",
    "plt.show()"
   ]
  },
  {
   "cell_type": "code",
   "execution_count": null,
   "id": "da6b3f0b-96ff-42ba-aeb8-41b4ea070ce9",
   "metadata": {},
   "outputs": [],
   "source": []
  },
  {
   "cell_type": "code",
   "execution_count": null,
   "id": "b51fe7f0-b3c1-4373-9844-1ba2452068c0",
   "metadata": {},
   "outputs": [],
   "source": []
  }
 ],
 "metadata": {
  "kernelspec": {
   "display_name": "venv-fraud-dectection",
   "language": "python",
   "name": "venv-fraud-dectection"
  },
  "language_info": {
   "codemirror_mode": {
    "name": "ipython",
    "version": 3
   },
   "file_extension": ".py",
   "mimetype": "text/x-python",
   "name": "python",
   "nbconvert_exporter": "python",
   "pygments_lexer": "ipython3",
   "version": "3.12.5"
  }
 },
 "nbformat": 4,
 "nbformat_minor": 5
}
